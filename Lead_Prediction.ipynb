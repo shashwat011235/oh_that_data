{
 "cells": [
  {
   "cell_type": "code",
   "execution_count": 1,
   "metadata": {},
   "outputs": [],
   "source": [
    "# importing basic libraries\n",
    "\n",
    "import pandas as pd, numpy as np\n",
    "import seaborn as sns\n",
    "import matplotlib.pyplot as plt"
   ]
  },
  {
   "cell_type": "code",
   "execution_count": 2,
   "metadata": {},
   "outputs": [],
   "source": [
    "# reading the dataset\n",
    "lead = pd.read_csv('C:/Users/Administrator/Desktop/PGDDS/ML/Case Study/Lead Scoring Assignment/Leads.csv')"
   ]
  },
  {
   "cell_type": "code",
   "execution_count": 3,
   "metadata": {},
   "outputs": [
    {
     "data": {
      "text/plain": [
       "(9240, 37)"
      ]
     },
     "execution_count": 3,
     "metadata": {},
     "output_type": "execute_result"
    }
   ],
   "source": [
    "lead.shape"
   ]
  },
  {
   "cell_type": "code",
   "execution_count": 4,
   "metadata": {},
   "outputs": [
    {
     "name": "stdout",
     "output_type": "stream",
     "text": [
      "<class 'pandas.core.frame.DataFrame'>\n",
      "RangeIndex: 9240 entries, 0 to 9239\n",
      "Data columns (total 37 columns):\n",
      "Prospect ID                                      9240 non-null object\n",
      "Lead Number                                      9240 non-null int64\n",
      "Lead Origin                                      9240 non-null object\n",
      "Lead Source                                      9204 non-null object\n",
      "Do Not Email                                     9240 non-null object\n",
      "Do Not Call                                      9240 non-null object\n",
      "Converted                                        9240 non-null int64\n",
      "TotalVisits                                      9103 non-null float64\n",
      "Total Time Spent on Website                      9240 non-null int64\n",
      "Page Views Per Visit                             9103 non-null float64\n",
      "Last Activity                                    9137 non-null object\n",
      "Country                                          6779 non-null object\n",
      "Specialization                                   7802 non-null object\n",
      "How did you hear about X Education               7033 non-null object\n",
      "What is your current occupation                  6550 non-null object\n",
      "What matters most to you in choosing a course    6531 non-null object\n",
      "Search                                           9240 non-null object\n",
      "Magazine                                         9240 non-null object\n",
      "Newspaper Article                                9240 non-null object\n",
      "X Education Forums                               9240 non-null object\n",
      "Newspaper                                        9240 non-null object\n",
      "Digital Advertisement                            9240 non-null object\n",
      "Through Recommendations                          9240 non-null object\n",
      "Receive More Updates About Our Courses           9240 non-null object\n",
      "Tags                                             5887 non-null object\n",
      "Lead Quality                                     4473 non-null object\n",
      "Update me on Supply Chain Content                9240 non-null object\n",
      "Get updates on DM Content                        9240 non-null object\n",
      "Lead Profile                                     6531 non-null object\n",
      "City                                             7820 non-null object\n",
      "Asymmetrique Activity Index                      5022 non-null object\n",
      "Asymmetrique Profile Index                       5022 non-null object\n",
      "Asymmetrique Activity Score                      5022 non-null float64\n",
      "Asymmetrique Profile Score                       5022 non-null float64\n",
      "I agree to pay the amount through cheque         9240 non-null object\n",
      "A free copy of Mastering The Interview           9240 non-null object\n",
      "Last Notable Activity                            9240 non-null object\n",
      "dtypes: float64(4), int64(3), object(30)\n",
      "memory usage: 2.6+ MB\n"
     ]
    }
   ],
   "source": [
    "lead.info()"
   ]
  },
  {
   "cell_type": "code",
   "execution_count": 5,
   "metadata": {
    "scrolled": false
   },
   "outputs": [],
   "source": [
    "# Dropping unnecessary columns or columns with just one value\n",
    "lead.drop(['Prospect ID', 'Lead Number', 'Magazine', 'Receive More Updates About Our Courses', 'Update me on Supply Chain Content', 'Get updates on DM Content', 'I agree to pay the amount through cheque'], axis = 1, inplace = True)"
   ]
  },
  {
   "cell_type": "code",
   "execution_count": 6,
   "metadata": {},
   "outputs": [
    {
     "data": {
      "text/plain": [
       "(9240, 30)"
      ]
     },
     "execution_count": 6,
     "metadata": {},
     "output_type": "execute_result"
    }
   ],
   "source": [
    "lead.shape"
   ]
  },
  {
   "cell_type": "code",
   "execution_count": 7,
   "metadata": {},
   "outputs": [],
   "source": [
    "# Substititing nan for the value Select. This is because the customer might not have selected the value from the drop down\n",
    "lead.loc[lead['Specialization']=='Select', 'Specialization'] = np.nan\n",
    "lead.loc[lead['How did you hear about X Education']=='Select', 'How did you hear about X Education'] = np.nan\n",
    "lead.loc[lead['Lead Profile']=='Select', 'Lead Profile'] = np.nan\n",
    "lead.loc[lead['City']=='Select', 'City'] = np.nan"
   ]
  },
  {
   "cell_type": "code",
   "execution_count": 8,
   "metadata": {},
   "outputs": [
    {
     "data": {
      "text/plain": [
       "Lead Origin                                       0.000000\n",
       "Lead Source                                       0.389610\n",
       "Do Not Email                                      0.000000\n",
       "Do Not Call                                       0.000000\n",
       "Converted                                         0.000000\n",
       "TotalVisits                                       1.482684\n",
       "Total Time Spent on Website                       0.000000\n",
       "Page Views Per Visit                              1.482684\n",
       "Last Activity                                     1.114719\n",
       "Country                                          26.634199\n",
       "Specialization                                   36.580087\n",
       "How did you hear about X Education               78.463203\n",
       "What is your current occupation                  29.112554\n",
       "What matters most to you in choosing a course    29.318182\n",
       "Search                                            0.000000\n",
       "Newspaper Article                                 0.000000\n",
       "X Education Forums                                0.000000\n",
       "Newspaper                                         0.000000\n",
       "Digital Advertisement                             0.000000\n",
       "Through Recommendations                           0.000000\n",
       "Tags                                             36.287879\n",
       "Lead Quality                                     51.590909\n",
       "Lead Profile                                     74.188312\n",
       "City                                             39.707792\n",
       "Asymmetrique Activity Index                      45.649351\n",
       "Asymmetrique Profile Index                       45.649351\n",
       "Asymmetrique Activity Score                      45.649351\n",
       "Asymmetrique Profile Score                       45.649351\n",
       "A free copy of Mastering The Interview            0.000000\n",
       "Last Notable Activity                             0.000000\n",
       "dtype: float64"
      ]
     },
     "execution_count": 8,
     "metadata": {},
     "output_type": "execute_result"
    }
   ],
   "source": [
    "100*lead.isnull().sum(axis = 0)/lead.shape[0]"
   ]
  },
  {
   "cell_type": "code",
   "execution_count": 9,
   "metadata": {},
   "outputs": [
    {
     "name": "stdout",
     "output_type": "stream",
     "text": [
      "Landing Page Submission    52.878788\n",
      "API                        38.744589\n",
      "Lead Add Form               7.770563\n",
      "Lead Import                 0.595238\n",
      "Quick Add Form              0.010823\n",
      "Name: Lead Origin, dtype: float64 \n",
      "\n",
      "\n",
      "Google               31.038961\n",
      "Direct Traffic       27.521645\n",
      "Olark Chat           18.993506\n",
      "Organic Search       12.489177\n",
      "Reference             5.779221\n",
      "Welingak Website      1.536797\n",
      "Referral Sites        1.352814\n",
      "Facebook              0.595238\n",
      "bing                  0.064935\n",
      "google                0.054113\n",
      "Click2call            0.043290\n",
      "Live Chat             0.021645\n",
      "Press_Release         0.021645\n",
      "Social Media          0.021645\n",
      "testone               0.010823\n",
      "welearnblog_Home      0.010823\n",
      "WeLearn               0.010823\n",
      "Pay per Click Ads     0.010823\n",
      "youtubechannel        0.010823\n",
      "blog                  0.010823\n",
      "NC_EDM                0.010823\n",
      "Name: Lead Source, dtype: float64 \n",
      "\n",
      "\n",
      "No     92.056277\n",
      "Yes     7.943723\n",
      "Name: Do Not Email, dtype: float64 \n",
      "\n",
      "\n",
      "No     99.978355\n",
      "Yes     0.021645\n",
      "Name: Do Not Call, dtype: float64 \n",
      "\n",
      "\n",
      "0    61.461039\n",
      "1    38.538961\n",
      "Name: Converted, dtype: float64 \n",
      "\n",
      "\n",
      "0.0      23.690476\n",
      "2.0      18.181818\n",
      "3.0      14.134199\n",
      "4.0      12.121212\n",
      "5.0       8.474026\n",
      "6.0       5.043290\n",
      "1.0       4.274892\n",
      "7.0       3.344156\n",
      "8.0       2.424242\n",
      "9.0       1.774892\n",
      "10.0      1.233766\n",
      "11.0      0.930736\n",
      "13.0      0.519481\n",
      "12.0      0.487013\n",
      "14.0      0.389610\n",
      "16.0      0.227273\n",
      "15.0      0.194805\n",
      "17.0      0.173160\n",
      "18.0      0.162338\n",
      "20.0      0.129870\n",
      "19.0      0.097403\n",
      "23.0      0.064935\n",
      "21.0      0.064935\n",
      "27.0      0.054113\n",
      "24.0      0.054113\n",
      "25.0      0.054113\n",
      "22.0      0.032468\n",
      "28.0      0.021645\n",
      "29.0      0.021645\n",
      "26.0      0.021645\n",
      "251.0     0.010823\n",
      "74.0      0.010823\n",
      "30.0      0.010823\n",
      "141.0     0.010823\n",
      "54.0      0.010823\n",
      "41.0      0.010823\n",
      "115.0     0.010823\n",
      "43.0      0.010823\n",
      "42.0      0.010823\n",
      "32.0      0.010823\n",
      "55.0      0.010823\n",
      "Name: TotalVisits, dtype: float64 \n",
      "\n",
      "\n",
      "0       23.733766\n",
      "60       0.205628\n",
      "127      0.194805\n",
      "75       0.194805\n",
      "74       0.194805\n",
      "157      0.183983\n",
      "234      0.183983\n",
      "32       0.183983\n",
      "87       0.183983\n",
      "62       0.183983\n",
      "69       0.173160\n",
      "213      0.173160\n",
      "96       0.173160\n",
      "176      0.162338\n",
      "68       0.162338\n",
      "94       0.162338\n",
      "71       0.162338\n",
      "247      0.162338\n",
      "129      0.162338\n",
      "33       0.162338\n",
      "12       0.162338\n",
      "31       0.151515\n",
      "100      0.151515\n",
      "78       0.151515\n",
      "49       0.151515\n",
      "151      0.151515\n",
      "139      0.151515\n",
      "14       0.151515\n",
      "63       0.151515\n",
      "2        0.151515\n",
      "          ...    \n",
      "659      0.010823\n",
      "611      0.010823\n",
      "1675     0.010823\n",
      "603      0.010823\n",
      "587      0.010823\n",
      "571      0.010823\n",
      "523      0.010823\n",
      "483      0.010823\n",
      "435      0.010823\n",
      "2226     0.010823\n",
      "915      0.010823\n",
      "923      0.010823\n",
      "939      0.010823\n",
      "971      0.010823\n",
      "1667     0.010823\n",
      "1555     0.010823\n",
      "1547     0.010823\n",
      "1515     0.010823\n",
      "1443     0.010823\n",
      "1355     0.010823\n",
      "1339     0.010823\n",
      "1307     0.010823\n",
      "1299     0.010823\n",
      "1267     0.010823\n",
      "1251     0.010823\n",
      "1235     0.010823\n",
      "1091     0.010823\n",
      "1043     0.010823\n",
      "1035     0.010823\n",
      "1915     0.010823\n",
      "Name: Total Time Spent on Website, Length: 1731, dtype: float64 \n",
      "\n",
      "\n",
      "0.00     23.690476\n",
      "2.00     19.426407\n",
      "3.00     12.943723\n",
      "4.00      9.696970\n",
      "1.00      7.045455\n",
      "5.00      5.595238\n",
      "1.50      3.311688\n",
      "6.00      2.640693\n",
      "2.50      2.608225\n",
      "7.00      1.439394\n",
      "3.50      1.017316\n",
      "8.00      0.930736\n",
      "1.33      0.714286\n",
      "1.67      0.649351\n",
      "2.33      0.638528\n",
      "2.67      0.584416\n",
      "9.00      0.487013\n",
      "4.50      0.465368\n",
      "1.75      0.303030\n",
      "3.33      0.292208\n",
      "10.00     0.270563\n",
      "1.25      0.248918\n",
      "5.50      0.227273\n",
      "2.25      0.205628\n",
      "11.00     0.194805\n",
      "3.67      0.173160\n",
      "6.50      0.140693\n",
      "1.80      0.140693\n",
      "2.75      0.129870\n",
      "1.40      0.119048\n",
      "           ...    \n",
      "1.19      0.010823\n",
      "3.91      0.010823\n",
      "55.00     0.010823\n",
      "3.17      0.010823\n",
      "2.57      0.010823\n",
      "12.33     0.010823\n",
      "2.08      0.010823\n",
      "3.38      0.010823\n",
      "2.90      0.010823\n",
      "1.48      0.010823\n",
      "2.38      0.010823\n",
      "14.50     0.010823\n",
      "11.50     0.010823\n",
      "8.50      0.010823\n",
      "1.45      0.010823\n",
      "1.31      0.010823\n",
      "3.43      0.010823\n",
      "3.83      0.010823\n",
      "1.54      0.010823\n",
      "2.86      0.010823\n",
      "1.64      0.010823\n",
      "3.29      0.010823\n",
      "8.33      0.010823\n",
      "6.67      0.010823\n",
      "1.21      0.010823\n",
      "1.27      0.010823\n",
      "8.21      0.010823\n",
      "2.14      0.010823\n",
      "2.63      0.010823\n",
      "2.45      0.010823\n",
      "Name: Page Views Per Visit, Length: 114, dtype: float64 \n",
      "\n",
      "\n",
      "Email Opened                    37.196970\n",
      "SMS Sent                        29.707792\n",
      "Olark Chat Conversation         10.530303\n",
      "Page Visited on Website          6.926407\n",
      "Converted to Lead                4.632035\n",
      "Email Bounced                    3.528139\n",
      "Email Link Clicked               2.889610\n",
      "Form Submitted on Website        1.255411\n",
      "Unreachable                      1.006494\n",
      "Unsubscribed                     0.660173\n",
      "Had a Phone Conversation         0.324675\n",
      "Approached upfront               0.097403\n",
      "View in browser link Clicked     0.064935\n",
      "Email Received                   0.021645\n",
      "Email Marked Spam                0.021645\n",
      "Resubscribed to emails           0.010823\n",
      "Visited Booth in Tradeshow       0.010823\n",
      "Name: Last Activity, dtype: float64 \n",
      "\n",
      "\n",
      "India                   70.259740\n",
      "United States            0.746753\n",
      "United Arab Emirates     0.573593\n",
      "Singapore                0.259740\n",
      "Saudi Arabia             0.227273\n",
      "United Kingdom           0.162338\n",
      "Australia                0.140693\n",
      "Qatar                    0.108225\n",
      "Bahrain                  0.075758\n",
      "Hong Kong                0.075758\n",
      "Oman                     0.064935\n",
      "France                   0.064935\n",
      "unknown                  0.054113\n",
      "Canada                   0.043290\n",
      "South Africa             0.043290\n",
      "Nigeria                  0.043290\n",
      "Germany                  0.043290\n",
      "Kuwait                   0.043290\n",
      "Sweden                   0.032468\n",
      "Italy                    0.021645\n",
      "China                    0.021645\n",
      "Asia/Pacific Region      0.021645\n",
      "Philippines              0.021645\n",
      "Belgium                  0.021645\n",
      "Uganda                   0.021645\n",
      "Ghana                    0.021645\n",
      "Netherlands              0.021645\n",
      "Bangladesh               0.021645\n",
      "Russia                   0.010823\n",
      "Sri Lanka                0.010823\n",
      "Malaysia                 0.010823\n",
      "Vietnam                  0.010823\n",
      "Denmark                  0.010823\n",
      "Kenya                    0.010823\n",
      "Switzerland              0.010823\n",
      "Liberia                  0.010823\n",
      "Indonesia                0.010823\n",
      "Tanzania                 0.010823\n",
      "Name: Country, dtype: float64 \n",
      "\n",
      "\n",
      "Finance Management                   10.562771\n",
      "Human Resource Management             9.177489\n",
      "Marketing Management                  9.069264\n",
      "Operations Management                 5.443723\n",
      "Business Administration               4.361472\n",
      "IT Projects Management                3.961039\n",
      "Supply Chain Management               3.777056\n",
      "Banking, Investment And Insurance     3.658009\n",
      "Media and Advertising                 2.196970\n",
      "Travel and Tourism                    2.196970\n",
      "International Business                1.926407\n",
      "Healthcare Management                 1.720779\n",
      "Hospitality Management                1.233766\n",
      "E-COMMERCE                            1.212121\n",
      "Retail Management                     1.082251\n",
      "Rural and Agribusiness                0.790043\n",
      "E-Business                            0.616883\n",
      "Services Excellence                   0.432900\n",
      "Name: Specialization, dtype: float64 \n",
      "\n",
      "\n",
      "Online Search            8.744589\n",
      "Word Of Mouth            3.766234\n",
      "Student of SomeSchool    3.354978\n",
      "Other                    2.012987\n",
      "Multiple Sources         1.645022\n",
      "Advertisements           0.757576\n",
      "Social Media             0.725108\n",
      "Email                    0.281385\n",
      "SMS                      0.248918\n",
      "Name: How did you hear about X Education, dtype: float64 \n",
      "\n",
      "\n",
      "Unemployed              60.606061\n",
      "Working Professional     7.640693\n",
      "Student                  2.272727\n",
      "Other                    0.173160\n",
      "Housewife                0.108225\n",
      "Businessman              0.086580\n",
      "Name: What is your current occupation, dtype: float64 \n",
      "\n",
      "\n",
      "Better Career Prospects      70.649351\n",
      "Flexibility & Convenience     0.021645\n",
      "Other                         0.010823\n",
      "Name: What matters most to you in choosing a course, dtype: float64 \n",
      "\n",
      "\n",
      "No     99.848485\n",
      "Yes     0.151515\n",
      "Name: Search, dtype: float64 \n",
      "\n",
      "\n",
      "No     99.978355\n",
      "Yes     0.021645\n",
      "Name: Newspaper Article, dtype: float64 \n",
      "\n",
      "\n",
      "No     99.989177\n",
      "Yes     0.010823\n",
      "Name: X Education Forums, dtype: float64 \n",
      "\n",
      "\n",
      "No     99.989177\n",
      "Yes     0.010823\n",
      "Name: Newspaper, dtype: float64 \n",
      "\n",
      "\n",
      "No     99.95671\n",
      "Yes     0.04329\n",
      "Name: Digital Advertisement, dtype: float64 \n",
      "\n",
      "\n",
      "No     99.924242\n",
      "Yes     0.075758\n",
      "Name: Through Recommendations, dtype: float64 \n",
      "\n",
      "\n",
      "Will revert after reading the email                  22.424242\n",
      "Ringing                                              13.019481\n",
      "Interested in other courses                           5.551948\n",
      "Already a student                                     5.032468\n",
      "Closed by Horizzon                                    3.874459\n",
      "switched off                                          2.597403\n",
      "Busy                                                  2.012987\n",
      "Lost to EINS                                          1.893939\n",
      "Not doing further education                           1.569264\n",
      "Interested  in full time MBA                          1.266234\n",
      "Graduation in progress                                1.201299\n",
      "invalid number                                        0.898268\n",
      "Diploma holder (Not Eligible)                         0.681818\n",
      "wrong number given                                    0.508658\n",
      "opp hangup                                            0.357143\n",
      "number not provided                                   0.292208\n",
      "in touch with EINS                                    0.129870\n",
      "Lost to Others                                        0.075758\n",
      "Still Thinking                                        0.064935\n",
      "Want to take admission but has financial problems     0.064935\n",
      "Interested in Next batch                              0.054113\n",
      "In confusion whether part time or DLP                 0.054113\n",
      "Lateral student                                       0.032468\n",
      "University not recognized                             0.021645\n",
      "Shall take in the next coming month                   0.021645\n",
      "Recognition issue (DEC approval)                      0.010823\n",
      "Name: Tags, dtype: float64 \n",
      "\n",
      "\n",
      "Might be             16.883117\n",
      "Not Sure             11.818182\n",
      "High in Relevance     6.893939\n",
      "Worst                 6.504329\n",
      "Low in Relevance      6.309524\n",
      "Name: Lead Quality, dtype: float64 \n",
      "\n",
      "\n",
      "Potential Lead                 17.456710\n",
      "Other Leads                     5.270563\n",
      "Student of SomeSchool           2.608225\n",
      "Lateral Student                 0.259740\n",
      "Dual Specialization Student     0.216450\n",
      "Name: Lead Profile, dtype: float64 \n",
      "\n",
      "\n",
      "Mumbai                         34.870130\n",
      "Thane & Outskirts               8.138528\n",
      "Other Cities                    7.424242\n",
      "Other Cities of Maharashtra     4.945887\n",
      "Other Metro Cities              4.112554\n",
      "Tier II Cities                  0.800866\n",
      "Name: City, dtype: float64 \n",
      "\n",
      "\n",
      "02.Medium    41.547619\n",
      "01.High       8.885281\n",
      "03.Low        3.917749\n",
      "Name: Asymmetrique Activity Index, dtype: float64 \n",
      "\n",
      "\n",
      "02.Medium    30.173160\n",
      "01.High      23.841991\n",
      "03.Low        0.335498\n",
      "Name: Asymmetrique Profile Index, dtype: float64 \n",
      "\n",
      "\n",
      "14.0    19.166667\n",
      "15.0    13.993506\n",
      "13.0     8.387446\n",
      "16.0     5.054113\n",
      "17.0     3.777056\n",
      "12.0     2.121212\n",
      "11.0     1.028139\n",
      "10.0     0.616883\n",
      "9.0      0.097403\n",
      "18.0     0.054113\n",
      "8.0      0.043290\n",
      "7.0      0.010823\n",
      "Name: Asymmetrique Activity Score, dtype: float64 \n",
      "\n",
      "\n",
      "15.0    19.036797\n",
      "18.0    11.590909\n",
      "16.0     6.482684\n",
      "17.0     6.266234\n",
      "20.0     3.333333\n",
      "19.0     2.651515\n",
      "14.0     2.445887\n",
      "13.0     2.207792\n",
      "12.0     0.238095\n",
      "11.0     0.097403\n",
      "Name: Asymmetrique Profile Score, dtype: float64 \n",
      "\n",
      "\n",
      "No     68.744589\n",
      "Yes    31.255411\n",
      "Name: A free copy of Mastering The Interview, dtype: float64 \n",
      "\n",
      "\n",
      "Modified                        36.872294\n",
      "Email Opened                    30.595238\n",
      "SMS Sent                        23.506494\n",
      "Page Visited on Website          3.441558\n",
      "Olark Chat Conversation          1.980519\n",
      "Email Link Clicked               1.872294\n",
      "Email Bounced                    0.649351\n",
      "Unsubscribed                     0.508658\n",
      "Unreachable                      0.346320\n",
      "Had a Phone Conversation         0.151515\n",
      "Email Marked Spam                0.021645\n",
      "View in browser link Clicked     0.010823\n",
      "Form Submitted on Website        0.010823\n",
      "Email Received                   0.010823\n",
      "Resubscribed to emails           0.010823\n",
      "Approached upfront               0.010823\n",
      "Name: Last Notable Activity, dtype: float64 \n",
      "\n",
      "\n"
     ]
    }
   ],
   "source": [
    "# checking the count of values for the features\n",
    "for col in lead.columns:\n",
    "    print(100*lead[col].value_counts()/len(lead[col]),'\\n\\n')  "
   ]
  },
  {
   "cell_type": "markdown",
   "metadata": {},
   "source": [
    "For features 'Do Not Call', 'Search', 'Newspaper Article', 'X Education Forums', 'Newspaper', 'Digital Advertisement', 'Through Recommendations', 'Do Not Call', more than 99% data has only one value.It is clear that these columns will not make much impact and can be dropped."
   ]
  },
  {
   "cell_type": "code",
   "execution_count": 10,
   "metadata": {},
   "outputs": [],
   "source": [
    "# dropping the columns\n",
    "lead.drop(['Do Not Call', 'Search', 'Newspaper Article', 'X Education Forums', 'Newspaper', 'Digital Advertisement', 'Through Recommendations', 'Do Not Call'], axis = 1, inplace = True)"
   ]
  },
  {
   "cell_type": "code",
   "execution_count": 11,
   "metadata": {},
   "outputs": [
    {
     "data": {
      "text/plain": [
       "(9240, 23)"
      ]
     },
     "execution_count": 11,
     "metadata": {},
     "output_type": "execute_result"
    }
   ],
   "source": [
    "lead.shape"
   ]
  },
  {
   "cell_type": "code",
   "execution_count": 12,
   "metadata": {},
   "outputs": [
    {
     "data": {
      "text/plain": [
       "Lead Origin                                       0.000000\n",
       "Lead Source                                       0.389610\n",
       "Do Not Email                                      0.000000\n",
       "Converted                                         0.000000\n",
       "TotalVisits                                       1.482684\n",
       "Total Time Spent on Website                       0.000000\n",
       "Page Views Per Visit                              1.482684\n",
       "Last Activity                                     1.114719\n",
       "Country                                          26.634199\n",
       "Specialization                                   36.580087\n",
       "How did you hear about X Education               78.463203\n",
       "What is your current occupation                  29.112554\n",
       "What matters most to you in choosing a course    29.318182\n",
       "Tags                                             36.287879\n",
       "Lead Quality                                     51.590909\n",
       "Lead Profile                                     74.188312\n",
       "City                                             39.707792\n",
       "Asymmetrique Activity Index                      45.649351\n",
       "Asymmetrique Profile Index                       45.649351\n",
       "Asymmetrique Activity Score                      45.649351\n",
       "Asymmetrique Profile Score                       45.649351\n",
       "A free copy of Mastering The Interview            0.000000\n",
       "Last Notable Activity                             0.000000\n",
       "dtype: float64"
      ]
     },
     "execution_count": 12,
     "metadata": {},
     "output_type": "execute_result"
    }
   ],
   "source": [
    "100*lead.isnull().sum(axis = 0)/lead.shape[0]"
   ]
  },
  {
   "cell_type": "markdown",
   "metadata": {},
   "source": [
    "### column _'City'_ and _'Country'_"
   ]
  },
  {
   "cell_type": "code",
   "execution_count": 13,
   "metadata": {},
   "outputs": [
    {
     "data": {
      "image/png": "[encoded data removed]",
      "text/plain": [
       "<Figure size 534.375x360 with 1 Axes>"
      ]
     },
     "metadata": {
      "needs_background": "light"
     },
     "output_type": "display_data"
    },
    {
     "data": {
      "text/plain": [
       "<Figure size 432x288 with 0 Axes>"
      ]
     },
     "metadata": {},
     "output_type": "display_data"
    }
   ],
   "source": [
    "# country vs city plot\n",
    "sns.catplot(x = 'Country', hue  = 'City', data = lead, kind = 'count').set_xticklabels(rotation=90)\n",
    "plt.show()\n",
    "plt.tight_layout()"
   ]
  },
  {
   "cell_type": "code",
   "execution_count": 14,
   "metadata": {},
   "outputs": [
    {
     "data": {
      "text/plain": [
       "Country               City                       \n",
       "India                 Mumbai                         31.580087\n",
       "                      Thane & Outskirts               7.045455\n",
       "                      Other Cities                    6.103896\n",
       "                      Other Cities of Maharashtra     4.231602\n",
       "                      Other Metro Cities              3.733766\n",
       "                      Tier II Cities                  0.746753\n",
       "United States         Mumbai                          0.324675\n",
       "United Arab Emirates  Other Cities                    0.205628\n",
       "                      Mumbai                          0.183983\n",
       "Saudi Arabia          Other Cities                    0.097403\n",
       "                      Mumbai                          0.075758\n",
       "Singapore             Mumbai                          0.064935\n",
       "Australia             Mumbai                          0.064935\n",
       "United Kingdom        Mumbai                          0.064935\n",
       "United States         Other Cities                    0.064935\n",
       "                      Thane & Outskirts               0.054113\n",
       "                      Other Cities of Maharashtra     0.054113\n",
       "United Arab Emirates  Other Metro Cities              0.043290\n",
       "Singapore             Other Cities                    0.043290\n",
       "United States         Other Metro Cities              0.043290\n",
       "Nigeria               Other Cities                    0.032468\n",
       "United Arab Emirates  Other Cities of Maharashtra     0.032468\n",
       "Canada                Mumbai                          0.032468\n",
       "Australia             Thane & Outskirts               0.032468\n",
       "Qatar                 Mumbai                          0.032468\n",
       "Singapore             Thane & Outskirts               0.032468\n",
       "South Africa          Other Cities                    0.032468\n",
       "Singapore             Other Cities of Maharashtra     0.021645\n",
       "Oman                  Other Cities                    0.021645\n",
       "Bahrain               Other Cities                    0.021645\n",
       "                                                       ...    \n",
       "Germany               Mumbai                          0.010823\n",
       "Bahrain               Tier II Cities                  0.010823\n",
       "                      Other Cities of Maharashtra     0.010823\n",
       "China                 Mumbai                          0.010823\n",
       "Bahrain               Mumbai                          0.010823\n",
       "Germany               Thane & Outskirts               0.010823\n",
       "Vietnam               Mumbai                          0.010823\n",
       "Indonesia             Other Cities of Maharashtra     0.010823\n",
       "Qatar                 Other Metro Cities              0.010823\n",
       "United Kingdom        Tier II Cities                  0.010823\n",
       "                      Other Metro Cities              0.010823\n",
       "United Arab Emirates  Thane & Outskirts               0.010823\n",
       "Uganda                Other Cities                    0.010823\n",
       "Tanzania              Other Metro Cities              0.010823\n",
       "Switzerland           Mumbai                          0.010823\n",
       "Sweden                Mumbai                          0.010823\n",
       "Saudi Arabia          Thane & Outskirts               0.010823\n",
       "Qatar                 Thane & Outskirts               0.010823\n",
       "                      Other Cities of Maharashtra     0.010823\n",
       "Italy                 Other Cities                    0.010823\n",
       "Philippines           Other Cities                    0.010823\n",
       "                      Mumbai                          0.010823\n",
       "Oman                  Other Metro Cities              0.010823\n",
       "United States         Tier II Cities                  0.010823\n",
       "Netherlands           Thane & Outskirts               0.010823\n",
       "                      Mumbai                          0.010823\n",
       "Malaysia              Other Cities of Maharashtra     0.010823\n",
       "Liberia               Other Metro Cities              0.010823\n",
       "Kenya                 Other Cities                    0.010823\n",
       "Nigeria               Other Metro Cities              0.010823\n",
       "Name: City, Length: 84, dtype: float64"
      ]
     },
     "execution_count": 14,
     "metadata": {},
     "output_type": "execute_result"
    }
   ],
   "source": [
    "# Country vs City\n",
    "100*lead.groupby(['Country', 'City'])['City'].count().sort_values(ascending = False)/len(lead['City'])"
   ]
  },
  {
   "cell_type": "code",
   "execution_count": 15,
   "metadata": {},
   "outputs": [
    {
     "data": {
      "text/plain": [
       "Converted\n",
       "0    1385\n",
       "1    1076\n",
       "Name: Converted, dtype: int64"
      ]
     },
     "execution_count": 15,
     "metadata": {},
     "output_type": "execute_result"
    }
   ],
   "source": [
    "# Country NA vs converted\n",
    "(lead.loc[lead['Country'].isnull()]).groupby('Converted')['Converted'].count()"
   ]
  },
  {
   "cell_type": "code",
   "execution_count": 16,
   "metadata": {},
   "outputs": [
    {
     "data": {
      "text/plain": [
       "Converted\n",
       "0    2412\n",
       "1    1257\n",
       "Name: Converted, dtype: int64"
      ]
     },
     "execution_count": 16,
     "metadata": {},
     "output_type": "execute_result"
    }
   ],
   "source": [
    "# City NA vs converted\n",
    "(lead.loc[lead['City'].isnull()]).groupby('Converted')['Converted'].count()"
   ]
  },
  {
   "cell_type": "code",
   "execution_count": 17,
   "metadata": {},
   "outputs": [
    {
     "data": {
      "text/plain": [
       "Country\n",
       "Asia/Pacific Region        2\n",
       "Australia                  2\n",
       "Canada                     1\n",
       "China                      1\n",
       "Ghana                      1\n",
       "Hong Kong                  1\n",
       "India                   1554\n",
       "Italy                      1\n",
       "Oman                       1\n",
       "Qatar                      2\n",
       "Russia                     1\n",
       "Singapore                  7\n",
       "South Africa               1\n",
       "Sri Lanka                  1\n",
       "Sweden                     2\n",
       "Uganda                     1\n",
       "United Arab Emirates       9\n",
       "United Kingdom             3\n",
       "United States             18\n",
       "unknown                    5\n",
       "Name: Country, dtype: int64"
      ]
     },
     "execution_count": 17,
     "metadata": {},
     "output_type": "execute_result"
    }
   ],
   "source": [
    "# City NA vs Country\n",
    "(lead.loc[lead['City'].isnull()]).groupby('Country')['Country'].count()"
   ]
  },
  {
   "cell_type": "code",
   "execution_count": 18,
   "metadata": {},
   "outputs": [
    {
     "data": {
      "text/plain": [
       "City\n",
       "Mumbai                         211\n",
       "Other Cities                    55\n",
       "Other Cities of Maharashtra     43\n",
       "Other Metro Cities              15\n",
       "Thane & Outskirts               80\n",
       "Tier II Cities                   2\n",
       "Name: City, dtype: int64"
      ]
     },
     "execution_count": 18,
     "metadata": {},
     "output_type": "execute_result"
    }
   ],
   "source": [
    "# Country NA vs City\n",
    "(lead.loc[lead['Country'].isnull()]).groupby('City')['City'].count()"
   ]
  },
  {
   "cell_type": "markdown",
   "metadata": {},
   "source": [
    "__From above analysis between city and country we can see that for more than 30% of the rows the combination is _'Country' = 'India'_ and _'City' = 'Mumbai'_.__ It will be difficult to do mode imputation for these two columns nor can we confidntly assign any other value to this variable. In light of this it is better to drop these two columns."
   ]
  },
  {
   "cell_type": "code",
   "execution_count": 19,
   "metadata": {},
   "outputs": [],
   "source": [
    "# dropping the columns country and city\n",
    "\n",
    "lead.drop(['Country','City'], axis = 1, inplace = True)"
   ]
  },
  {
   "cell_type": "code",
   "execution_count": 20,
   "metadata": {},
   "outputs": [
    {
     "data": {
      "text/plain": [
       "(9240, 21)"
      ]
     },
     "execution_count": 20,
     "metadata": {},
     "output_type": "execute_result"
    }
   ],
   "source": [
    "lead.shape"
   ]
  },
  {
   "cell_type": "code",
   "execution_count": 21,
   "metadata": {},
   "outputs": [
    {
     "data": {
      "text/plain": [
       "Lead Origin                                       0.000000\n",
       "Lead Source                                       0.389610\n",
       "Do Not Email                                      0.000000\n",
       "Converted                                         0.000000\n",
       "TotalVisits                                       1.482684\n",
       "Total Time Spent on Website                       0.000000\n",
       "Page Views Per Visit                              1.482684\n",
       "Last Activity                                     1.114719\n",
       "Specialization                                   36.580087\n",
       "How did you hear about X Education               78.463203\n",
       "What is your current occupation                  29.112554\n",
       "What matters most to you in choosing a course    29.318182\n",
       "Tags                                             36.287879\n",
       "Lead Quality                                     51.590909\n",
       "Lead Profile                                     74.188312\n",
       "Asymmetrique Activity Index                      45.649351\n",
       "Asymmetrique Profile Index                       45.649351\n",
       "Asymmetrique Activity Score                      45.649351\n",
       "Asymmetrique Profile Score                       45.649351\n",
       "A free copy of Mastering The Interview            0.000000\n",
       "Last Notable Activity                             0.000000\n",
       "dtype: float64"
      ]
     },
     "execution_count": 21,
     "metadata": {},
     "output_type": "execute_result"
    }
   ],
   "source": [
    "100*lead.isnull().sum(axis = 0)/lead.shape[0]"
   ]
  },
  {
   "cell_type": "markdown",
   "metadata": {},
   "source": [
    "### column _'Specialization'"
   ]
  },
  {
   "cell_type": "code",
   "execution_count": 22,
   "metadata": {},
   "outputs": [
    {
     "data": {
      "image/png": "[encoded data removed]",
      "text/plain": [
       "<Figure size 419.75x360 with 1 Axes>"
      ]
     },
     "metadata": {
      "needs_background": "light"
     },
     "output_type": "display_data"
    },
    {
     "data": {
      "text/plain": [
       "<Figure size 432x288 with 0 Axes>"
      ]
     },
     "metadata": {},
     "output_type": "display_data"
    }
   ],
   "source": [
    "# specialisation vs converted\n",
    "sns.catplot(x = 'Specialization', hue  = 'Converted', data = lead, kind = 'count').set_xticklabels(rotation=90)\n",
    "plt.show()\n",
    "plt.tight_layout()"
   ]
  },
  {
   "cell_type": "code",
   "execution_count": 23,
   "metadata": {},
   "outputs": [
    {
     "data": {
      "text/plain": [
       "Converted\n",
       "0    2411\n",
       "1     969\n",
       "Name: Converted, dtype: int64"
      ]
     },
     "execution_count": 23,
     "metadata": {},
     "output_type": "execute_result"
    }
   ],
   "source": [
    "# specialisation NA vs converted\n",
    "(lead.loc[lead['Specialization'].isnull()]).groupby('Converted')['Converted'].count()"
   ]
  },
  {
   "cell_type": "markdown",
   "metadata": {},
   "source": [
    "Out of 3380 null values in column _'Specialisation'_, 969 are converted. So in order to treat the null values we can impute the null values with aother value __'Other'__ so that column is retained."
   ]
  },
  {
   "cell_type": "code",
   "execution_count": 24,
   "metadata": {},
   "outputs": [],
   "source": [
    "# imputing the NAs in 'specialisation'\n",
    "lead.loc[lead['Specialization'].isnull(), 'Specialization'] = 'Other'"
   ]
  },
  {
   "cell_type": "code",
   "execution_count": 25,
   "metadata": {},
   "outputs": [
    {
     "data": {
      "text/plain": [
       "(9240, 21)"
      ]
     },
     "execution_count": 25,
     "metadata": {},
     "output_type": "execute_result"
    }
   ],
   "source": [
    "lead.shape"
   ]
  },
  {
   "cell_type": "code",
   "execution_count": 26,
   "metadata": {},
   "outputs": [
    {
     "data": {
      "text/plain": [
       "Lead Origin                                       0.000000\n",
       "Lead Source                                       0.389610\n",
       "Do Not Email                                      0.000000\n",
       "Converted                                         0.000000\n",
       "TotalVisits                                       1.482684\n",
       "Total Time Spent on Website                       0.000000\n",
       "Page Views Per Visit                              1.482684\n",
       "Last Activity                                     1.114719\n",
       "Specialization                                    0.000000\n",
       "How did you hear about X Education               78.463203\n",
       "What is your current occupation                  29.112554\n",
       "What matters most to you in choosing a course    29.318182\n",
       "Tags                                             36.287879\n",
       "Lead Quality                                     51.590909\n",
       "Lead Profile                                     74.188312\n",
       "Asymmetrique Activity Index                      45.649351\n",
       "Asymmetrique Profile Index                       45.649351\n",
       "Asymmetrique Activity Score                      45.649351\n",
       "Asymmetrique Profile Score                       45.649351\n",
       "A free copy of Mastering The Interview            0.000000\n",
       "Last Notable Activity                             0.000000\n",
       "dtype: float64"
      ]
     },
     "execution_count": 26,
     "metadata": {},
     "output_type": "execute_result"
    }
   ],
   "source": [
    "100*lead.isnull().sum(axis = 0)/lead.shape[0]"
   ]
  },
  {
   "cell_type": "markdown",
   "metadata": {},
   "source": [
    "### column _'Lead Source'_"
   ]
  },
  {
   "cell_type": "code",
   "execution_count": 27,
   "metadata": {},
   "outputs": [
    {
     "data": {
      "image/png": "[encoded data removed]",
      "text/plain": [
       "<Figure size 419.75x360 with 1 Axes>"
      ]
     },
     "metadata": {
      "needs_background": "light"
     },
     "output_type": "display_data"
    },
    {
     "data": {
      "text/plain": [
       "<Figure size 432x288 with 0 Axes>"
      ]
     },
     "metadata": {},
     "output_type": "display_data"
    }
   ],
   "source": [
    "# Lead Source vs converted\n",
    "sns.catplot(x = 'Lead Source', hue  = 'Converted', data = lead, kind = 'count').set_xticklabels(rotation=90)\n",
    "plt.show()\n",
    "plt.tight_layout()"
   ]
  },
  {
   "cell_type": "code",
   "execution_count": 28,
   "metadata": {},
   "outputs": [
    {
     "data": {
      "text/plain": [
       "Lead Source\n",
       "Google               2868\n",
       "Direct Traffic       2543\n",
       "Olark Chat           1755\n",
       "Organic Search       1154\n",
       "Reference             534\n",
       "Welingak Website      142\n",
       "Referral Sites        125\n",
       "Facebook               55\n",
       "bing                    6\n",
       "google                  5\n",
       "Click2call              4\n",
       "Press_Release           2\n",
       "Social Media            2\n",
       "Live Chat               2\n",
       "Pay per Click Ads       1\n",
       "welearnblog_Home        1\n",
       "NC_EDM                  1\n",
       "WeLearn                 1\n",
       "blog                    1\n",
       "testone                 1\n",
       "youtubechannel          1\n",
       "Name: Lead Source, dtype: int64"
      ]
     },
     "execution_count": 28,
     "metadata": {},
     "output_type": "execute_result"
    }
   ],
   "source": [
    "lead.groupby('Lead Source')['Lead Source'].count().sort_values(ascending = False)"
   ]
  },
  {
   "cell_type": "code",
   "execution_count": 29,
   "metadata": {},
   "outputs": [],
   "source": [
    "# google has two spellings. Corrrecting it\n",
    "lead.loc[lead['Lead Source']=='google', 'Lead Source'] = 'Google'"
   ]
  },
  {
   "cell_type": "markdown",
   "metadata": {},
   "source": [
    "__The missing values in 'Lead Source' column can be imputed with value 'Other'__"
   ]
  },
  {
   "cell_type": "code",
   "execution_count": 30,
   "metadata": {},
   "outputs": [],
   "source": [
    "# imputing the null value with 'Other'\n",
    "lead.loc[lead['Lead Source'].isnull(), 'Lead Source'] = 'Other'"
   ]
  },
  {
   "cell_type": "code",
   "execution_count": 31,
   "metadata": {},
   "outputs": [
    {
     "data": {
      "text/plain": [
       "Lead Origin                                       0.000000\n",
       "Lead Source                                       0.000000\n",
       "Do Not Email                                      0.000000\n",
       "Converted                                         0.000000\n",
       "TotalVisits                                       1.482684\n",
       "Total Time Spent on Website                       0.000000\n",
       "Page Views Per Visit                              1.482684\n",
       "Last Activity                                     1.114719\n",
       "Specialization                                    0.000000\n",
       "How did you hear about X Education               78.463203\n",
       "What is your current occupation                  29.112554\n",
       "What matters most to you in choosing a course    29.318182\n",
       "Tags                                             36.287879\n",
       "Lead Quality                                     51.590909\n",
       "Lead Profile                                     74.188312\n",
       "Asymmetrique Activity Index                      45.649351\n",
       "Asymmetrique Profile Index                       45.649351\n",
       "Asymmetrique Activity Score                      45.649351\n",
       "Asymmetrique Profile Score                       45.649351\n",
       "A free copy of Mastering The Interview            0.000000\n",
       "Last Notable Activity                             0.000000\n",
       "dtype: float64"
      ]
     },
     "execution_count": 31,
     "metadata": {},
     "output_type": "execute_result"
    }
   ],
   "source": [
    "100*lead.isnull().sum(axis = 0)/lead.shape[0]"
   ]
  },
  {
   "cell_type": "code",
   "execution_count": 32,
   "metadata": {},
   "outputs": [
    {
     "data": {
      "text/plain": [
       "(9240, 21)"
      ]
     },
     "execution_count": 32,
     "metadata": {},
     "output_type": "execute_result"
    }
   ],
   "source": [
    "lead.shape"
   ]
  },
  {
   "cell_type": "markdown",
   "metadata": {},
   "source": [
    "### column 'Current Occupation'"
   ]
  },
  {
   "cell_type": "code",
   "execution_count": 33,
   "metadata": {},
   "outputs": [
    {
     "data": {
      "image/png": "[encoded data removed]",
      "text/plain": [
       "<Figure size 419.75x360 with 1 Axes>"
      ]
     },
     "metadata": {
      "needs_background": "light"
     },
     "output_type": "display_data"
    },
    {
     "data": {
      "text/plain": [
       "<Figure size 432x288 with 0 Axes>"
      ]
     },
     "metadata": {},
     "output_type": "display_data"
    }
   ],
   "source": [
    "# What is your current occupation vs converted\n",
    "sns.catplot(x = 'What is your current occupation', hue  = 'Converted', data = lead, kind = 'count').set_xticklabels(rotation=30)\n",
    "plt.show()\n",
    "plt.tight_layout()"
   ]
  },
  {
   "cell_type": "markdown",
   "metadata": {},
   "source": [
    "### 'What is your current occupation' vs 'Specialization'"
   ]
  },
  {
   "cell_type": "code",
   "execution_count": 34,
   "metadata": {},
   "outputs": [
    {
     "data": {
      "image/png": "[encoded data removed]",
      "text/plain": [
       "<Figure size 528.625x720 with 2 Axes>"
      ]
     },
     "metadata": {
      "needs_background": "light"
     },
     "output_type": "display_data"
    },
    {
     "data": {
      "text/plain": [
       "<Figure size 432x288 with 0 Axes>"
      ]
     },
     "metadata": {},
     "output_type": "display_data"
    }
   ],
   "source": [
    "# What is your current occupation vs Specialization\n",
    "sns.catplot(x = 'Specialization', hue  = 'What is your current occupation', row = 'Converted', data = lead, kind = 'count').set_xticklabels(rotation=90)\n",
    "plt.show()\n",
    "plt.tight_layout()"
   ]
  },
  {
   "cell_type": "code",
   "execution_count": 35,
   "metadata": {},
   "outputs": [
    {
     "data": {
      "text/plain": [
       "Converted\n",
       "0    2320\n",
       "1     370\n",
       "Name: Converted, dtype: int64"
      ]
     },
     "execution_count": 35,
     "metadata": {},
     "output_type": "execute_result"
    }
   ],
   "source": [
    "# 'What is your current occupation' NA vs converted\n",
    "(lead.loc[lead['What is your current occupation'].isnull()]).groupby('Converted')['Converted'].count()"
   ]
  },
  {
   "cell_type": "markdown",
   "metadata": {},
   "source": [
    "__The misisng values in the column 'What is your current occupation' can be assigned the value 'Other'__"
   ]
  },
  {
   "cell_type": "code",
   "execution_count": 36,
   "metadata": {},
   "outputs": [],
   "source": [
    "lead.loc[lead['What is your current occupation'].isnull(),'What is your current occupation'] = 'Other'"
   ]
  },
  {
   "cell_type": "code",
   "execution_count": 37,
   "metadata": {},
   "outputs": [
    {
     "data": {
      "text/plain": [
       "Lead Origin                                       0.000000\n",
       "Lead Source                                       0.000000\n",
       "Do Not Email                                      0.000000\n",
       "Converted                                         0.000000\n",
       "TotalVisits                                       1.482684\n",
       "Total Time Spent on Website                       0.000000\n",
       "Page Views Per Visit                              1.482684\n",
       "Last Activity                                     1.114719\n",
       "Specialization                                    0.000000\n",
       "How did you hear about X Education               78.463203\n",
       "What is your current occupation                   0.000000\n",
       "What matters most to you in choosing a course    29.318182\n",
       "Tags                                             36.287879\n",
       "Lead Quality                                     51.590909\n",
       "Lead Profile                                     74.188312\n",
       "Asymmetrique Activity Index                      45.649351\n",
       "Asymmetrique Profile Index                       45.649351\n",
       "Asymmetrique Activity Score                      45.649351\n",
       "Asymmetrique Profile Score                       45.649351\n",
       "A free copy of Mastering The Interview            0.000000\n",
       "Last Notable Activity                             0.000000\n",
       "dtype: float64"
      ]
     },
     "execution_count": 37,
     "metadata": {},
     "output_type": "execute_result"
    }
   ],
   "source": [
    "100*lead.isnull().sum(axis = 0)/lead.shape[0]"
   ]
  },
  {
   "cell_type": "code",
   "execution_count": 38,
   "metadata": {},
   "outputs": [
    {
     "data": {
      "image/png": "[encoded data removed]",
      "text/plain": [
       "<Figure size 419.75x360 with 1 Axes>"
      ]
     },
     "metadata": {
      "needs_background": "light"
     },
     "output_type": "display_data"
    },
    {
     "data": {
      "text/plain": [
       "<Figure size 432x288 with 0 Axes>"
      ]
     },
     "metadata": {},
     "output_type": "display_data"
    }
   ],
   "source": [
    "# What is your current occupation vs converted after imputation\n",
    "sns.catplot(x = 'What is your current occupation', hue  = 'Converted', data = lead, kind = 'count').set_xticklabels(rotation=30)\n",
    "plt.show()\n",
    "plt.tight_layout()"
   ]
  },
  {
   "cell_type": "markdown",
   "metadata": {},
   "source": [
    "### column 'What matters most to you in choosing a course'"
   ]
  },
  {
   "cell_type": "code",
   "execution_count": 39,
   "metadata": {},
   "outputs": [
    {
     "data": {
      "image/png": "[encoded data removed]",
      "text/plain": [
       "<Figure size 419.75x360 with 1 Axes>"
      ]
     },
     "metadata": {
      "needs_background": "light"
     },
     "output_type": "display_data"
    },
    {
     "data": {
      "text/plain": [
       "<Figure size 432x288 with 0 Axes>"
      ]
     },
     "metadata": {},
     "output_type": "display_data"
    }
   ],
   "source": [
    "# What matters most to you in choosing a course vs converted\n",
    "sns.catplot(x = 'What matters most to you in choosing a course', hue  = 'Converted', data = lead, kind = 'count').set_xticklabels(rotation=30)\n",
    "plt.show()\n",
    "plt.tight_layout()"
   ]
  },
  {
   "cell_type": "code",
   "execution_count": 40,
   "metadata": {},
   "outputs": [
    {
     "data": {
      "text/plain": [
       "What matters most to you in choosing a course\n",
       "Better Career Prospects      6528\n",
       "Flexibility & Convenience       2\n",
       "Other                           1\n",
       "Name: What matters most to you in choosing a course, dtype: int64"
      ]
     },
     "execution_count": 40,
     "metadata": {},
     "output_type": "execute_result"
    }
   ],
   "source": [
    "lead.groupby('What matters most to you in choosing a course')['What matters most to you in choosing a course'].count()"
   ]
  },
  {
   "cell_type": "markdown",
   "metadata": {},
   "source": [
    "__Here mpre than 70% of the value is Better Career Prospects. The remaining two values are <1 percent. So, we can safely consider that majority of the customers choose the course for better career opportunities. Hence, this column can be dropped__"
   ]
  },
  {
   "cell_type": "code",
   "execution_count": 41,
   "metadata": {},
   "outputs": [],
   "source": [
    "lead.drop('What matters most to you in choosing a course', axis = 1, inplace = True)"
   ]
  },
  {
   "cell_type": "markdown",
   "metadata": {},
   "source": [
    "### column Tags"
   ]
  },
  {
   "cell_type": "code",
   "execution_count": 42,
   "metadata": {},
   "outputs": [
    {
     "data": {
      "image/png": "[encoded data removed]",
      "text/plain": [
       "<Figure size 419.75x360 with 1 Axes>"
      ]
     },
     "metadata": {
      "needs_background": "light"
     },
     "output_type": "display_data"
    },
    {
     "data": {
      "text/plain": [
       "<Figure size 432x288 with 0 Axes>"
      ]
     },
     "metadata": {},
     "output_type": "display_data"
    }
   ],
   "source": [
    "# Tags vs converted\n",
    "sns.catplot(x = 'Tags', hue  = 'Converted', data = lead, kind = 'count').set_xticklabels(rotation=90)\n",
    "plt.show()\n",
    "plt.tight_layout()"
   ]
  },
  {
   "cell_type": "code",
   "execution_count": 43,
   "metadata": {},
   "outputs": [
    {
     "data": {
      "text/plain": [
       "Converted\n",
       "0    2517\n",
       "1     836\n",
       "Name: Converted, dtype: int64"
      ]
     },
     "execution_count": 43,
     "metadata": {},
     "output_type": "execute_result"
    }
   ],
   "source": [
    "# 'Tags' NA vs converted\n",
    "(lead.loc[lead['Tags'].isnull()]).groupby('Converted')['Converted'].count()"
   ]
  },
  {
   "cell_type": "markdown",
   "metadata": {},
   "source": [
    "__imputing missing values with the value 'Other'__\n"
   ]
  },
  {
   "cell_type": "code",
   "execution_count": 44,
   "metadata": {},
   "outputs": [],
   "source": [
    "lead.loc[lead['Tags'].isnull(), 'Tags'] = 'Other'"
   ]
  },
  {
   "cell_type": "code",
   "execution_count": 45,
   "metadata": {},
   "outputs": [
    {
     "data": {
      "text/plain": [
       "(9240, 20)"
      ]
     },
     "execution_count": 45,
     "metadata": {},
     "output_type": "execute_result"
    }
   ],
   "source": [
    "lead.shape"
   ]
  },
  {
   "cell_type": "code",
   "execution_count": 46,
   "metadata": {},
   "outputs": [
    {
     "data": {
      "text/plain": [
       "Lead Origin                                0.000000\n",
       "Lead Source                                0.000000\n",
       "Do Not Email                               0.000000\n",
       "Converted                                  0.000000\n",
       "TotalVisits                                1.482684\n",
       "Total Time Spent on Website                0.000000\n",
       "Page Views Per Visit                       1.482684\n",
       "Last Activity                              1.114719\n",
       "Specialization                             0.000000\n",
       "How did you hear about X Education        78.463203\n",
       "What is your current occupation            0.000000\n",
       "Tags                                       0.000000\n",
       "Lead Quality                              51.590909\n",
       "Lead Profile                              74.188312\n",
       "Asymmetrique Activity Index               45.649351\n",
       "Asymmetrique Profile Index                45.649351\n",
       "Asymmetrique Activity Score               45.649351\n",
       "Asymmetrique Profile Score                45.649351\n",
       "A free copy of Mastering The Interview     0.000000\n",
       "Last Notable Activity                      0.000000\n",
       "dtype: float64"
      ]
     },
     "execution_count": 46,
     "metadata": {},
     "output_type": "execute_result"
    }
   ],
   "source": [
    "100*lead.isnull().sum(axis = 0)/lead.shape[0]"
   ]
  },
  {
   "cell_type": "markdown",
   "metadata": {},
   "source": [
    "### column 'Asymmetrique Activity Index'"
   ]
  },
  {
   "cell_type": "code",
   "execution_count": 47,
   "metadata": {},
   "outputs": [
    {
     "data": {
      "image/png": "[encoded data removed]",
      "text/plain": [
       "<Figure size 360x360 with 1 Axes>"
      ]
     },
     "metadata": {
      "needs_background": "light"
     },
     "output_type": "display_data"
    },
    {
     "data": {
      "text/plain": [
       "<Figure size 432x288 with 0 Axes>"
      ]
     },
     "metadata": {},
     "output_type": "display_data"
    }
   ],
   "source": [
    "sns.catplot(x = 'Asymmetrique Activity Index', data = lead, kind = 'count').set_xticklabels(rotation=90)\n",
    "plt.show()\n",
    "plt.tight_layout()"
   ]
  },
  {
   "cell_type": "code",
   "execution_count": 48,
   "metadata": {},
   "outputs": [
    {
     "data": {
      "image/png": "[encoded data removed]",
      "text/plain": [
       "<Figure size 419.75x360 with 1 Axes>"
      ]
     },
     "metadata": {
      "needs_background": "light"
     },
     "output_type": "display_data"
    },
    {
     "data": {
      "text/plain": [
       "<Figure size 432x288 with 0 Axes>"
      ]
     },
     "metadata": {},
     "output_type": "display_data"
    }
   ],
   "source": [
    "sns.catplot(x = 'Asymmetrique Activity Index', hue = 'Converted', data = lead, kind = 'count').set_xticklabels(rotation=90)\n",
    "plt.show()\n",
    "plt.tight_layout()"
   ]
  },
  {
   "cell_type": "markdown",
   "metadata": {},
   "source": [
    "dropping 'Asymmetrique Activity Index'  as not practical to impute since we have no idea how these index values were obtained."
   ]
  },
  {
   "cell_type": "code",
   "execution_count": 49,
   "metadata": {},
   "outputs": [],
   "source": [
    "lead.drop('Asymmetrique Activity Index', axis = 1, inplace = True)"
   ]
  },
  {
   "cell_type": "code",
   "execution_count": 50,
   "metadata": {},
   "outputs": [
    {
     "data": {
      "text/plain": [
       "(9240, 19)"
      ]
     },
     "execution_count": 50,
     "metadata": {},
     "output_type": "execute_result"
    }
   ],
   "source": [
    "lead.shape"
   ]
  },
  {
   "cell_type": "code",
   "execution_count": 51,
   "metadata": {},
   "outputs": [
    {
     "data": {
      "text/plain": [
       "Lead Origin                                0.000000\n",
       "Lead Source                                0.000000\n",
       "Do Not Email                               0.000000\n",
       "Converted                                  0.000000\n",
       "TotalVisits                                1.482684\n",
       "Total Time Spent on Website                0.000000\n",
       "Page Views Per Visit                       1.482684\n",
       "Last Activity                              1.114719\n",
       "Specialization                             0.000000\n",
       "How did you hear about X Education        78.463203\n",
       "What is your current occupation            0.000000\n",
       "Tags                                       0.000000\n",
       "Lead Quality                              51.590909\n",
       "Lead Profile                              74.188312\n",
       "Asymmetrique Profile Index                45.649351\n",
       "Asymmetrique Activity Score               45.649351\n",
       "Asymmetrique Profile Score                45.649351\n",
       "A free copy of Mastering The Interview     0.000000\n",
       "Last Notable Activity                      0.000000\n",
       "dtype: float64"
      ]
     },
     "execution_count": 51,
     "metadata": {},
     "output_type": "execute_result"
    }
   ],
   "source": [
    "100*lead.isnull().sum(axis = 0)/lead.shape[0]"
   ]
  },
  {
   "cell_type": "markdown",
   "metadata": {},
   "source": [
    "### column Asymmetrique Profile Index"
   ]
  },
  {
   "cell_type": "code",
   "execution_count": 52,
   "metadata": {},
   "outputs": [
    {
     "data": {
      "image/png": "[encoded data removed]",
      "text/plain": [
       "<Figure size 360x360 with 1 Axes>"
      ]
     },
     "metadata": {
      "needs_background": "light"
     },
     "output_type": "display_data"
    },
    {
     "data": {
      "text/plain": [
       "<Figure size 432x288 with 0 Axes>"
      ]
     },
     "metadata": {},
     "output_type": "display_data"
    }
   ],
   "source": [
    "sns.catplot(x = 'Asymmetrique Profile Index', data = lead, kind = 'count').set_xticklabels(rotation=90)\n",
    "plt.show()\n",
    "plt.tight_layout()"
   ]
  },
  {
   "cell_type": "code",
   "execution_count": 53,
   "metadata": {},
   "outputs": [
    {
     "data": {
      "image/png": "[encoded data removed]",
      "text/plain": [
       "<Figure size 419.75x360 with 1 Axes>"
      ]
     },
     "metadata": {
      "needs_background": "light"
     },
     "output_type": "display_data"
    },
    {
     "data": {
      "text/plain": [
       "<Figure size 432x288 with 0 Axes>"
      ]
     },
     "metadata": {},
     "output_type": "display_data"
    }
   ],
   "source": [
    "sns.catplot(x = 'Asymmetrique Profile Index', hue = 'Converted', data = lead, kind = 'count').set_xticklabels(rotation=90)\n",
    "plt.show()\n",
    "plt.tight_layout()"
   ]
  },
  {
   "cell_type": "markdown",
   "metadata": {},
   "source": [
    "dropping 'Asymmetrique Profile Index' as not practical to impute since we have no idea how these index values were obtained.\n"
   ]
  },
  {
   "cell_type": "code",
   "execution_count": 54,
   "metadata": {},
   "outputs": [],
   "source": [
    "lead.drop('Asymmetrique Profile Index', axis = 1, inplace = True)"
   ]
  },
  {
   "cell_type": "code",
   "execution_count": 55,
   "metadata": {},
   "outputs": [
    {
     "data": {
      "text/plain": [
       "(9240, 18)"
      ]
     },
     "execution_count": 55,
     "metadata": {},
     "output_type": "execute_result"
    }
   ],
   "source": [
    "lead.shape"
   ]
  },
  {
   "cell_type": "code",
   "execution_count": 56,
   "metadata": {},
   "outputs": [
    {
     "data": {
      "text/plain": [
       "Lead Origin                                0.000000\n",
       "Lead Source                                0.000000\n",
       "Do Not Email                               0.000000\n",
       "Converted                                  0.000000\n",
       "TotalVisits                                1.482684\n",
       "Total Time Spent on Website                0.000000\n",
       "Page Views Per Visit                       1.482684\n",
       "Last Activity                              1.114719\n",
       "Specialization                             0.000000\n",
       "How did you hear about X Education        78.463203\n",
       "What is your current occupation            0.000000\n",
       "Tags                                       0.000000\n",
       "Lead Quality                              51.590909\n",
       "Lead Profile                              74.188312\n",
       "Asymmetrique Activity Score               45.649351\n",
       "Asymmetrique Profile Score                45.649351\n",
       "A free copy of Mastering The Interview     0.000000\n",
       "Last Notable Activity                      0.000000\n",
       "dtype: float64"
      ]
     },
     "execution_count": 56,
     "metadata": {},
     "output_type": "execute_result"
    }
   ],
   "source": [
    "100*lead.isnull().sum(axis = 0)/lead.shape[0]"
   ]
  },
  {
   "cell_type": "markdown",
   "metadata": {},
   "source": [
    "### column 'Asymmetrique Activity Score'"
   ]
  },
  {
   "cell_type": "code",
   "execution_count": 57,
   "metadata": {},
   "outputs": [
    {
     "data": {
      "text/html": [
       "<div>\n",
       "<style scoped>\n",
       "    .dataframe tbody tr th:only-of-type {\n",
       "        vertical-align: middle;\n",
       "    }\n",
       "\n",
       "    .dataframe tbody tr th {\n",
       "        vertical-align: top;\n",
       "    }\n",
       "\n",
       "    .dataframe thead th {\n",
       "        text-align: right;\n",
       "    }\n",
       "</style>\n",
       "<table border=\"1\" class=\"dataframe\">\n",
       "  <thead>\n",
       "    <tr style=\"text-align: right;\">\n",
       "      <th></th>\n",
       "      <th>Converted</th>\n",
       "      <th>TotalVisits</th>\n",
       "      <th>Total Time Spent on Website</th>\n",
       "      <th>Page Views Per Visit</th>\n",
       "      <th>Asymmetrique Activity Score</th>\n",
       "      <th>Asymmetrique Profile Score</th>\n",
       "    </tr>\n",
       "  </thead>\n",
       "  <tbody>\n",
       "    <tr>\n",
       "      <th>count</th>\n",
       "      <td>9240.000000</td>\n",
       "      <td>9103.000000</td>\n",
       "      <td>9240.000000</td>\n",
       "      <td>9103.000000</td>\n",
       "      <td>5022.000000</td>\n",
       "      <td>5022.000000</td>\n",
       "    </tr>\n",
       "    <tr>\n",
       "      <th>mean</th>\n",
       "      <td>0.385390</td>\n",
       "      <td>3.445238</td>\n",
       "      <td>487.698268</td>\n",
       "      <td>2.362820</td>\n",
       "      <td>14.306252</td>\n",
       "      <td>16.344883</td>\n",
       "    </tr>\n",
       "    <tr>\n",
       "      <th>std</th>\n",
       "      <td>0.486714</td>\n",
       "      <td>4.854853</td>\n",
       "      <td>548.021466</td>\n",
       "      <td>2.161418</td>\n",
       "      <td>1.386694</td>\n",
       "      <td>1.811395</td>\n",
       "    </tr>\n",
       "    <tr>\n",
       "      <th>min</th>\n",
       "      <td>0.000000</td>\n",
       "      <td>0.000000</td>\n",
       "      <td>0.000000</td>\n",
       "      <td>0.000000</td>\n",
       "      <td>7.000000</td>\n",
       "      <td>11.000000</td>\n",
       "    </tr>\n",
       "    <tr>\n",
       "      <th>25%</th>\n",
       "      <td>0.000000</td>\n",
       "      <td>1.000000</td>\n",
       "      <td>12.000000</td>\n",
       "      <td>1.000000</td>\n",
       "      <td>14.000000</td>\n",
       "      <td>15.000000</td>\n",
       "    </tr>\n",
       "    <tr>\n",
       "      <th>50%</th>\n",
       "      <td>0.000000</td>\n",
       "      <td>3.000000</td>\n",
       "      <td>248.000000</td>\n",
       "      <td>2.000000</td>\n",
       "      <td>14.000000</td>\n",
       "      <td>16.000000</td>\n",
       "    </tr>\n",
       "    <tr>\n",
       "      <th>75%</th>\n",
       "      <td>1.000000</td>\n",
       "      <td>5.000000</td>\n",
       "      <td>936.000000</td>\n",
       "      <td>3.000000</td>\n",
       "      <td>15.000000</td>\n",
       "      <td>18.000000</td>\n",
       "    </tr>\n",
       "    <tr>\n",
       "      <th>max</th>\n",
       "      <td>1.000000</td>\n",
       "      <td>251.000000</td>\n",
       "      <td>2272.000000</td>\n",
       "      <td>55.000000</td>\n",
       "      <td>18.000000</td>\n",
       "      <td>20.000000</td>\n",
       "    </tr>\n",
       "  </tbody>\n",
       "</table>\n",
       "</div>"
      ],
      "text/plain": [
       "         Converted  TotalVisits  Total Time Spent on Website  \\\n",
       "count  9240.000000  9103.000000                  9240.000000   \n",
       "mean      0.385390     3.445238                   487.698268   \n",
       "std       0.486714     4.854853                   548.021466   \n",
       "min       0.000000     0.000000                     0.000000   \n",
       "25%       0.000000     1.000000                    12.000000   \n",
       "50%       0.000000     3.000000                   248.000000   \n",
       "75%       1.000000     5.000000                   936.000000   \n",
       "max       1.000000   251.000000                  2272.000000   \n",
       "\n",
       "       Page Views Per Visit  Asymmetrique Activity Score  \\\n",
       "count           9103.000000                  5022.000000   \n",
       "mean               2.362820                    14.306252   \n",
       "std                2.161418                     1.386694   \n",
       "min                0.000000                     7.000000   \n",
       "25%                1.000000                    14.000000   \n",
       "50%                2.000000                    14.000000   \n",
       "75%                3.000000                    15.000000   \n",
       "max               55.000000                    18.000000   \n",
       "\n",
       "       Asymmetrique Profile Score  \n",
       "count                 5022.000000  \n",
       "mean                    16.344883  \n",
       "std                      1.811395  \n",
       "min                     11.000000  \n",
       "25%                     15.000000  \n",
       "50%                     16.000000  \n",
       "75%                     18.000000  \n",
       "max                     20.000000  "
      ]
     },
     "execution_count": 57,
     "metadata": {},
     "output_type": "execute_result"
    }
   ],
   "source": [
    "lead.describe()"
   ]
  },
  {
   "cell_type": "code",
   "execution_count": 58,
   "metadata": {},
   "outputs": [
    {
     "data": {
      "image/png": "[encoded data removed]",
      "text/plain": [
       "<Figure size 419.75x360 with 1 Axes>"
      ]
     },
     "metadata": {
      "needs_background": "light"
     },
     "output_type": "display_data"
    },
    {
     "data": {
      "text/plain": [
       "<Figure size 432x288 with 0 Axes>"
      ]
     },
     "metadata": {},
     "output_type": "display_data"
    }
   ],
   "source": [
    "sns.catplot(x = 'Asymmetrique Activity Score', hue = 'Converted', data = lead, kind = 'count').set_xticklabels(rotation=90)\n",
    "plt.show()\n",
    "plt.tight_layout()"
   ]
  },
  {
   "cell_type": "markdown",
   "metadata": {},
   "source": [
    "dropping 'Asymmetrique Activity Score' as not practical to impute since we have no idea how these index values were obtained."
   ]
  },
  {
   "cell_type": "code",
   "execution_count": 59,
   "metadata": {},
   "outputs": [],
   "source": [
    "lead.drop('Asymmetrique Activity Score', axis = 1, inplace = True)"
   ]
  },
  {
   "cell_type": "code",
   "execution_count": 60,
   "metadata": {},
   "outputs": [
    {
     "data": {
      "text/plain": [
       "(9240, 17)"
      ]
     },
     "execution_count": 60,
     "metadata": {},
     "output_type": "execute_result"
    }
   ],
   "source": [
    "lead.shape"
   ]
  },
  {
   "cell_type": "code",
   "execution_count": 61,
   "metadata": {},
   "outputs": [
    {
     "data": {
      "text/plain": [
       "Lead Origin                                0.000000\n",
       "Lead Source                                0.000000\n",
       "Do Not Email                               0.000000\n",
       "Converted                                  0.000000\n",
       "TotalVisits                                1.482684\n",
       "Total Time Spent on Website                0.000000\n",
       "Page Views Per Visit                       1.482684\n",
       "Last Activity                              1.114719\n",
       "Specialization                             0.000000\n",
       "How did you hear about X Education        78.463203\n",
       "What is your current occupation            0.000000\n",
       "Tags                                       0.000000\n",
       "Lead Quality                              51.590909\n",
       "Lead Profile                              74.188312\n",
       "Asymmetrique Profile Score                45.649351\n",
       "A free copy of Mastering The Interview     0.000000\n",
       "Last Notable Activity                      0.000000\n",
       "dtype: float64"
      ]
     },
     "execution_count": 61,
     "metadata": {},
     "output_type": "execute_result"
    }
   ],
   "source": [
    "100*lead.isnull().sum(axis = 0)/lead.shape[0]"
   ]
  },
  {
   "cell_type": "markdown",
   "metadata": {},
   "source": [
    "### column Asymmetrique Profile Score"
   ]
  },
  {
   "cell_type": "code",
   "execution_count": 62,
   "metadata": {},
   "outputs": [
    {
     "data": {
      "image/png": "[encoded data removed]",
      "text/plain": [
       "<Figure size 419.75x360 with 1 Axes>"
      ]
     },
     "metadata": {
      "needs_background": "light"
     },
     "output_type": "display_data"
    },
    {
     "data": {
      "text/plain": [
       "<Figure size 432x288 with 0 Axes>"
      ]
     },
     "metadata": {},
     "output_type": "display_data"
    }
   ],
   "source": [
    "sns.catplot(x = 'Asymmetrique Profile Score', hue = 'Converted', data = lead, kind = 'count').set_xticklabels(rotation=90)\n",
    "plt.show()\n",
    "plt.tight_layout()"
   ]
  },
  {
   "cell_type": "markdown",
   "metadata": {},
   "source": [
    "dropping 'Asymmetrique Profile Score' as not practical to impute since we have no idea how these index values were obtained."
   ]
  },
  {
   "cell_type": "code",
   "execution_count": 63,
   "metadata": {},
   "outputs": [],
   "source": [
    "lead.drop('Asymmetrique Profile Score', axis = 1, inplace = True)"
   ]
  },
  {
   "cell_type": "code",
   "execution_count": 64,
   "metadata": {},
   "outputs": [
    {
     "data": {
      "text/plain": [
       "(9240, 16)"
      ]
     },
     "execution_count": 64,
     "metadata": {},
     "output_type": "execute_result"
    }
   ],
   "source": [
    "lead.shape"
   ]
  },
  {
   "cell_type": "code",
   "execution_count": 65,
   "metadata": {},
   "outputs": [
    {
     "data": {
      "text/plain": [
       "Lead Origin                                0.000000\n",
       "Lead Source                                0.000000\n",
       "Do Not Email                               0.000000\n",
       "Converted                                  0.000000\n",
       "TotalVisits                                1.482684\n",
       "Total Time Spent on Website                0.000000\n",
       "Page Views Per Visit                       1.482684\n",
       "Last Activity                              1.114719\n",
       "Specialization                             0.000000\n",
       "How did you hear about X Education        78.463203\n",
       "What is your current occupation            0.000000\n",
       "Tags                                       0.000000\n",
       "Lead Quality                              51.590909\n",
       "Lead Profile                              74.188312\n",
       "A free copy of Mastering The Interview     0.000000\n",
       "Last Notable Activity                      0.000000\n",
       "dtype: float64"
      ]
     },
     "execution_count": 65,
     "metadata": {},
     "output_type": "execute_result"
    }
   ],
   "source": [
    "100*lead.isnull().sum(axis = 0)/lead.shape[0]"
   ]
  },
  {
   "cell_type": "markdown",
   "metadata": {},
   "source": [
    "### column TotalVisits"
   ]
  },
  {
   "cell_type": "code",
   "execution_count": 66,
   "metadata": {},
   "outputs": [
    {
     "data": {
      "text/plain": [
       "count    9103.000000\n",
       "mean        3.445238\n",
       "std         4.854853\n",
       "min         0.000000\n",
       "25%         1.000000\n",
       "50%         3.000000\n",
       "75%         5.000000\n",
       "max       251.000000\n",
       "Name: TotalVisits, dtype: float64"
      ]
     },
     "execution_count": 66,
     "metadata": {},
     "output_type": "execute_result"
    }
   ],
   "source": [
    "lead['TotalVisits'].describe()"
   ]
  },
  {
   "cell_type": "code",
   "execution_count": 67,
   "metadata": {},
   "outputs": [
    {
     "data": {
      "image/png": "[encoded data removed]",
      "text/plain": [
       "<Figure size 419.75x360 with 1 Axes>"
      ]
     },
     "metadata": {
      "needs_background": "light"
     },
     "output_type": "display_data"
    },
    {
     "data": {
      "text/plain": [
       "<Figure size 432x288 with 0 Axes>"
      ]
     },
     "metadata": {},
     "output_type": "display_data"
    }
   ],
   "source": [
    "sns.catplot(x = 'TotalVisits', hue = 'Converted', data = lead, kind = 'count').set_xticklabels(rotation=90)\n",
    "plt.show()\n",
    "plt.tight_layout()"
   ]
  },
  {
   "cell_type": "code",
   "execution_count": 68,
   "metadata": {},
   "outputs": [
    {
     "data": {
      "text/plain": [
       "TotalVisits\n",
       "0.0      2189\n",
       "2.0      1680\n",
       "3.0      1306\n",
       "4.0      1120\n",
       "5.0       783\n",
       "6.0       466\n",
       "1.0       395\n",
       "7.0       309\n",
       "8.0       224\n",
       "9.0       164\n",
       "10.0      114\n",
       "11.0       86\n",
       "13.0       48\n",
       "12.0       45\n",
       "14.0       36\n",
       "16.0       21\n",
       "15.0       18\n",
       "17.0       16\n",
       "18.0       15\n",
       "20.0       12\n",
       "19.0        9\n",
       "21.0        6\n",
       "23.0        6\n",
       "24.0        5\n",
       "25.0        5\n",
       "27.0        5\n",
       "22.0        3\n",
       "29.0        2\n",
       "26.0        2\n",
       "28.0        2\n",
       "43.0        1\n",
       "115.0       1\n",
       "74.0        1\n",
       "55.0        1\n",
       "54.0        1\n",
       "141.0       1\n",
       "42.0        1\n",
       "41.0        1\n",
       "32.0        1\n",
       "30.0        1\n",
       "251.0       1\n",
       "Name: TotalVisits, dtype: int64"
      ]
     },
     "execution_count": 68,
     "metadata": {},
     "output_type": "execute_result"
    }
   ],
   "source": [
    "lead.groupby('TotalVisits')['TotalVisits'].count().sort_values(ascending = False)"
   ]
  },
  {
   "cell_type": "code",
   "execution_count": 69,
   "metadata": {},
   "outputs": [
    {
     "data": {
      "text/plain": [
       "Converted\n",
       "0    0.400433\n",
       "1    1.082251\n",
       "Name: Converted, dtype: float64"
      ]
     },
     "execution_count": 69,
     "metadata": {},
     "output_type": "execute_result"
    }
   ],
   "source": [
    "100*lead.loc[lead['TotalVisits'].isnull()].groupby('Converted')['Converted'].count()/len(lead['Converted'])"
   ]
  },
  {
   "cell_type": "markdown",
   "metadata": {},
   "source": [
    "We can take a median value of three for imputation of null values"
   ]
  },
  {
   "cell_type": "code",
   "execution_count": 70,
   "metadata": {},
   "outputs": [],
   "source": [
    "lead.loc[lead['TotalVisits'].isnull(), 'TotalVisits'] = 3"
   ]
  },
  {
   "cell_type": "code",
   "execution_count": 71,
   "metadata": {},
   "outputs": [
    {
     "data": {
      "text/plain": [
       "(9240, 16)"
      ]
     },
     "execution_count": 71,
     "metadata": {},
     "output_type": "execute_result"
    }
   ],
   "source": [
    "lead.shape"
   ]
  },
  {
   "cell_type": "code",
   "execution_count": 72,
   "metadata": {},
   "outputs": [
    {
     "data": {
      "text/plain": [
       "Lead Origin                                0.000000\n",
       "Lead Source                                0.000000\n",
       "Do Not Email                               0.000000\n",
       "Converted                                  0.000000\n",
       "TotalVisits                                0.000000\n",
       "Total Time Spent on Website                0.000000\n",
       "Page Views Per Visit                       1.482684\n",
       "Last Activity                              1.114719\n",
       "Specialization                             0.000000\n",
       "How did you hear about X Education        78.463203\n",
       "What is your current occupation            0.000000\n",
       "Tags                                       0.000000\n",
       "Lead Quality                              51.590909\n",
       "Lead Profile                              74.188312\n",
       "A free copy of Mastering The Interview     0.000000\n",
       "Last Notable Activity                      0.000000\n",
       "dtype: float64"
      ]
     },
     "execution_count": 72,
     "metadata": {},
     "output_type": "execute_result"
    }
   ],
   "source": [
    "100*lead.isnull().sum(axis = 0)/lead.shape[0]"
   ]
  },
  {
   "cell_type": "markdown",
   "metadata": {},
   "source": [
    "### column Page Views Per Visit"
   ]
  },
  {
   "cell_type": "code",
   "execution_count": 73,
   "metadata": {},
   "outputs": [
    {
     "data": {
      "text/plain": [
       "count    9103.000000\n",
       "mean        2.362820\n",
       "std         2.161418\n",
       "min         0.000000\n",
       "25%         1.000000\n",
       "50%         2.000000\n",
       "75%         3.000000\n",
       "max        55.000000\n",
       "Name: Page Views Per Visit, dtype: float64"
      ]
     },
     "execution_count": 73,
     "metadata": {},
     "output_type": "execute_result"
    }
   ],
   "source": [
    "lead['Page Views Per Visit'].describe()"
   ]
  },
  {
   "cell_type": "code",
   "execution_count": 74,
   "metadata": {},
   "outputs": [
    {
     "data": {
      "image/png": "[encoded data removed]",
      "text/plain": [
       "<Figure size 900x360 with 1 Axes>"
      ]
     },
     "metadata": {
      "needs_background": "light"
     },
     "output_type": "display_data"
    },
    {
     "data": {
      "text/plain": [
       "<Figure size 432x288 with 0 Axes>"
      ]
     },
     "metadata": {},
     "output_type": "display_data"
    }
   ],
   "source": [
    "sns.catplot(x = 'Page Views Per Visit', data = lead, kind = 'count', aspect = 2.5).set_xticklabels(rotation=90)\n",
    "plt.show()\n",
    "plt.tight_layout()"
   ]
  },
  {
   "cell_type": "code",
   "execution_count": 75,
   "metadata": {},
   "outputs": [
    {
     "data": {
      "text/plain": [
       "Page Views Per Visit\n",
       "0.00     2189\n",
       "2.00     1795\n",
       "3.00     1196\n",
       "4.00      896\n",
       "1.00      651\n",
       "5.00      517\n",
       "1.50      306\n",
       "6.00      244\n",
       "2.50      241\n",
       "7.00      133\n",
       "3.50       94\n",
       "8.00       86\n",
       "1.33       66\n",
       "1.67       60\n",
       "2.33       59\n",
       "2.67       54\n",
       "9.00       45\n",
       "4.50       43\n",
       "1.75       28\n",
       "3.33       27\n",
       "10.00      25\n",
       "1.25       23\n",
       "5.50       21\n",
       "2.25       19\n",
       "11.00      18\n",
       "3.67       16\n",
       "6.50       13\n",
       "1.80       13\n",
       "2.75       12\n",
       "1.40       11\n",
       "         ... \n",
       "1.31        1\n",
       "1.27        1\n",
       "1.21        1\n",
       "8.21        1\n",
       "1.63        1\n",
       "3.91        1\n",
       "4.17        1\n",
       "2.63        1\n",
       "24.00       1\n",
       "2.57        1\n",
       "2.56        1\n",
       "2.86        1\n",
       "2.45        1\n",
       "2.90        1\n",
       "2.38        1\n",
       "3.17        1\n",
       "2.29        1\n",
       "3.29        1\n",
       "3.38        1\n",
       "3.43        1\n",
       "2.14        1\n",
       "2.13        1\n",
       "3.57        1\n",
       "2.08        1\n",
       "1.93        1\n",
       "1.86        1\n",
       "3.80        1\n",
       "3.82        1\n",
       "3.83        1\n",
       "55.00       1\n",
       "Name: Page Views Per Visit, Length: 114, dtype: int64"
      ]
     },
     "execution_count": 75,
     "metadata": {},
     "output_type": "execute_result"
    }
   ],
   "source": [
    "lead.groupby('Page Views Per Visit')['Page Views Per Visit'].count().sort_values(ascending = False)"
   ]
  },
  {
   "cell_type": "code",
   "execution_count": 76,
   "metadata": {},
   "outputs": [
    {
     "data": {
      "text/plain": [
       "Converted\n",
       "0    0.400433\n",
       "1    1.082251\n",
       "Name: Converted, dtype: float64"
      ]
     },
     "execution_count": 76,
     "metadata": {},
     "output_type": "execute_result"
    }
   ],
   "source": [
    "100*lead.loc[lead['Page Views Per Visit'].isnull()].groupby('Converted')['Converted'].count()/len(lead['Converted'])"
   ]
  },
  {
   "cell_type": "markdown",
   "metadata": {},
   "source": [
    "We can take a median value of two for imputation of null values"
   ]
  },
  {
   "cell_type": "code",
   "execution_count": 77,
   "metadata": {},
   "outputs": [],
   "source": [
    "lead.loc[lead['Page Views Per Visit'].isnull(), 'Page Views Per Visit'] = 2"
   ]
  },
  {
   "cell_type": "code",
   "execution_count": 78,
   "metadata": {},
   "outputs": [
    {
     "data": {
      "text/plain": [
       "(9240, 16)"
      ]
     },
     "execution_count": 78,
     "metadata": {},
     "output_type": "execute_result"
    }
   ],
   "source": [
    "lead.shape"
   ]
  },
  {
   "cell_type": "code",
   "execution_count": 79,
   "metadata": {},
   "outputs": [
    {
     "data": {
      "text/plain": [
       "Lead Origin                                0.000000\n",
       "Lead Source                                0.000000\n",
       "Do Not Email                               0.000000\n",
       "Converted                                  0.000000\n",
       "TotalVisits                                0.000000\n",
       "Total Time Spent on Website                0.000000\n",
       "Page Views Per Visit                       0.000000\n",
       "Last Activity                              1.114719\n",
       "Specialization                             0.000000\n",
       "How did you hear about X Education        78.463203\n",
       "What is your current occupation            0.000000\n",
       "Tags                                       0.000000\n",
       "Lead Quality                              51.590909\n",
       "Lead Profile                              74.188312\n",
       "A free copy of Mastering The Interview     0.000000\n",
       "Last Notable Activity                      0.000000\n",
       "dtype: float64"
      ]
     },
     "execution_count": 79,
     "metadata": {},
     "output_type": "execute_result"
    }
   ],
   "source": [
    "100*lead.isnull().sum(axis = 0)/lead.shape[0]"
   ]
  },
  {
   "cell_type": "markdown",
   "metadata": {},
   "source": [
    "### column Last Activity"
   ]
  },
  {
   "cell_type": "code",
   "execution_count": 80,
   "metadata": {},
   "outputs": [
    {
     "data": {
      "text/plain": [
       "count             9137\n",
       "unique              17\n",
       "top       Email Opened\n",
       "freq              3437\n",
       "Name: Last Activity, dtype: object"
      ]
     },
     "execution_count": 80,
     "metadata": {},
     "output_type": "execute_result"
    }
   ],
   "source": [
    "lead['Last Activity'].describe()"
   ]
  },
  {
   "cell_type": "code",
   "execution_count": 81,
   "metadata": {},
   "outputs": [
    {
     "data": {
      "text/plain": [
       "Last Activity\n",
       "Email Opened                    3437\n",
       "SMS Sent                        2745\n",
       "Olark Chat Conversation          973\n",
       "Page Visited on Website          640\n",
       "Converted to Lead                428\n",
       "Email Bounced                    326\n",
       "Email Link Clicked               267\n",
       "Form Submitted on Website        116\n",
       "Unreachable                       93\n",
       "Unsubscribed                      61\n",
       "Had a Phone Conversation          30\n",
       "Approached upfront                 9\n",
       "View in browser link Clicked       6\n",
       "Email Marked Spam                  2\n",
       "Email Received                     2\n",
       "Resubscribed to emails             1\n",
       "Visited Booth in Tradeshow         1\n",
       "Name: Last Activity, dtype: int64"
      ]
     },
     "execution_count": 81,
     "metadata": {},
     "output_type": "execute_result"
    }
   ],
   "source": [
    "lead.groupby('Last Activity')['Last Activity'].count().sort_values(ascending = False)"
   ]
  },
  {
   "cell_type": "code",
   "execution_count": 82,
   "metadata": {},
   "outputs": [
    {
     "data": {
      "image/png": "[encoded data removed]",
      "text/plain": [
       "<Figure size 959.75x360 with 1 Axes>"
      ]
     },
     "metadata": {
      "needs_background": "light"
     },
     "output_type": "display_data"
    },
    {
     "data": {
      "text/plain": [
       "<Figure size 432x288 with 0 Axes>"
      ]
     },
     "metadata": {},
     "output_type": "display_data"
    }
   ],
   "source": [
    "sns.catplot(x = 'Last Activity', hue = 'Converted', data = lead, kind = 'count', aspect = 2.5).set_xticklabels(rotation=60)\n",
    "plt.show()\n",
    "plt.tight_layout()"
   ]
  },
  {
   "cell_type": "markdown",
   "metadata": {},
   "source": [
    "Imputing with the value Other as we cannot know for sure what was the last activity. Email opened has the highest frequency but the customer might also not have opened the email."
   ]
  },
  {
   "cell_type": "code",
   "execution_count": 83,
   "metadata": {},
   "outputs": [],
   "source": [
    "lead.loc[lead['Last Activity'].isnull(),'Last Activity'] = 'Other'"
   ]
  },
  {
   "cell_type": "code",
   "execution_count": 84,
   "metadata": {},
   "outputs": [
    {
     "data": {
      "text/plain": [
       "(9240, 16)"
      ]
     },
     "execution_count": 84,
     "metadata": {},
     "output_type": "execute_result"
    }
   ],
   "source": [
    "lead.shape"
   ]
  },
  {
   "cell_type": "code",
   "execution_count": 85,
   "metadata": {},
   "outputs": [
    {
     "data": {
      "text/plain": [
       "Lead Origin                                0.000000\n",
       "Lead Source                                0.000000\n",
       "Do Not Email                               0.000000\n",
       "Converted                                  0.000000\n",
       "TotalVisits                                0.000000\n",
       "Total Time Spent on Website                0.000000\n",
       "Page Views Per Visit                       0.000000\n",
       "Last Activity                              0.000000\n",
       "Specialization                             0.000000\n",
       "How did you hear about X Education        78.463203\n",
       "What is your current occupation            0.000000\n",
       "Tags                                       0.000000\n",
       "Lead Quality                              51.590909\n",
       "Lead Profile                              74.188312\n",
       "A free copy of Mastering The Interview     0.000000\n",
       "Last Notable Activity                      0.000000\n",
       "dtype: float64"
      ]
     },
     "execution_count": 85,
     "metadata": {},
     "output_type": "execute_result"
    }
   ],
   "source": [
    "100*lead.isnull().sum(axis = 0)/lead.shape[0]"
   ]
  },
  {
   "cell_type": "markdown",
   "metadata": {},
   "source": [
    "### colum Lead Quality"
   ]
  },
  {
   "cell_type": "code",
   "execution_count": 86,
   "metadata": {},
   "outputs": [
    {
     "data": {
      "image/png": "[encoded data removed]",
      "text/plain": [
       "<Figure size 419.75x360 with 1 Axes>"
      ]
     },
     "metadata": {
      "needs_background": "light"
     },
     "output_type": "display_data"
    },
    {
     "data": {
      "text/plain": [
       "<Figure size 432x288 with 0 Axes>"
      ]
     },
     "metadata": {},
     "output_type": "display_data"
    }
   ],
   "source": [
    "# Lead Quality vs converted\n",
    "sns.catplot(x = 'Lead Quality', hue  = 'Converted', data = lead, kind = 'count').set_xticklabels(rotation=60)\n",
    "plt.show()\n",
    "plt.tight_layout()"
   ]
  },
  {
   "cell_type": "code",
   "execution_count": 87,
   "metadata": {},
   "outputs": [
    {
     "data": {
      "text/plain": [
       "Converted\n",
       "0    3743\n",
       "1    1024\n",
       "Name: Converted, dtype: int64"
      ]
     },
     "execution_count": 87,
     "metadata": {},
     "output_type": "execute_result"
    }
   ],
   "source": [
    "# 'Lead Quality' NA vs converted\n",
    "(lead.loc[lead['Lead Quality'].isnull()]).groupby('Converted')['Converted'].count()"
   ]
  },
  {
   "cell_type": "markdown",
   "metadata": {},
   "source": [
    "imputing the null values with the value Not Sure because deleting the rows would result in loss of data. Also, not sure is more suited than creating a separate bucket as we actually do not know what the missing values are."
   ]
  },
  {
   "cell_type": "code",
   "execution_count": 88,
   "metadata": {},
   "outputs": [],
   "source": [
    "lead.loc[lead['Lead Quality'].isnull(), 'Lead Quality'] = 'Not Sure'"
   ]
  },
  {
   "cell_type": "code",
   "execution_count": 89,
   "metadata": {},
   "outputs": [
    {
     "data": {
      "text/plain": [
       "(9240, 16)"
      ]
     },
     "execution_count": 89,
     "metadata": {},
     "output_type": "execute_result"
    }
   ],
   "source": [
    "lead.shape"
   ]
  },
  {
   "cell_type": "code",
   "execution_count": 90,
   "metadata": {},
   "outputs": [
    {
     "data": {
      "text/plain": [
       "Lead Origin                                0.000000\n",
       "Lead Source                                0.000000\n",
       "Do Not Email                               0.000000\n",
       "Converted                                  0.000000\n",
       "TotalVisits                                0.000000\n",
       "Total Time Spent on Website                0.000000\n",
       "Page Views Per Visit                       0.000000\n",
       "Last Activity                              0.000000\n",
       "Specialization                             0.000000\n",
       "How did you hear about X Education        78.463203\n",
       "What is your current occupation            0.000000\n",
       "Tags                                       0.000000\n",
       "Lead Quality                               0.000000\n",
       "Lead Profile                              74.188312\n",
       "A free copy of Mastering The Interview     0.000000\n",
       "Last Notable Activity                      0.000000\n",
       "dtype: float64"
      ]
     },
     "execution_count": 90,
     "metadata": {},
     "output_type": "execute_result"
    }
   ],
   "source": [
    "100*lead.isnull().sum(axis = 0)/lead.shape[0]"
   ]
  },
  {
   "cell_type": "code",
   "execution_count": 91,
   "metadata": {},
   "outputs": [
    {
     "data": {
      "image/png": "[encoded data removed]",
      "text/plain": [
       "<Figure size 419.75x360 with 1 Axes>"
      ]
     },
     "metadata": {
      "needs_background": "light"
     },
     "output_type": "display_data"
    },
    {
     "data": {
      "text/plain": [
       "<Figure size 432x288 with 0 Axes>"
      ]
     },
     "metadata": {},
     "output_type": "display_data"
    }
   ],
   "source": [
    "# Lead Quality vs converted after imputation\n",
    "sns.catplot(x = 'Lead Quality', hue  = 'Converted', data = lead, kind = 'count').set_xticklabels(rotation=60)\n",
    "plt.show()\n",
    "plt.tight_layout()"
   ]
  },
  {
   "cell_type": "markdown",
   "metadata": {},
   "source": [
    "### column Lead Profile"
   ]
  },
  {
   "cell_type": "code",
   "execution_count": 92,
   "metadata": {},
   "outputs": [
    {
     "data": {
      "image/png": "[encoded data removed]",
      "text/plain": [
       "<Figure size 419.75x360 with 1 Axes>"
      ]
     },
     "metadata": {
      "needs_background": "light"
     },
     "output_type": "display_data"
    }
   ],
   "source": [
    "# Lead Profile vs converted\n",
    "sns.catplot(x = 'Lead Profile', hue  = 'Converted', data = lead, kind = 'count').set_xticklabels(rotation = 60)\n",
    "plt.tight_layout()"
   ]
  },
  {
   "cell_type": "code",
   "execution_count": 93,
   "metadata": {},
   "outputs": [
    {
     "data": {
      "image/png": "[encoded data removed]",
      "text/plain": [
       "<Figure size 419.75x1800 with 5 Axes>"
      ]
     },
     "metadata": {
      "needs_background": "light"
     },
     "output_type": "display_data"
    }
   ],
   "source": [
    "# Lead Profile vs converted\n",
    "sns.catplot(x = 'Lead Profile', hue  = 'Converted', row = 'Lead Quality', data = lead, kind = 'count')\n",
    "plt.tight_layout()"
   ]
  },
  {
   "cell_type": "markdown",
   "metadata": {},
   "source": [
    "Creating a seperate bucket as 'Unprofiled' for the null values as these leads might not be profiled"
   ]
  },
  {
   "cell_type": "code",
   "execution_count": 94,
   "metadata": {},
   "outputs": [],
   "source": [
    "lead.loc[lead['Lead Profile'].isnull(), 'Lead Profile'] = 'Unprofiled'"
   ]
  },
  {
   "cell_type": "code",
   "execution_count": 95,
   "metadata": {},
   "outputs": [
    {
     "data": {
      "text/plain": [
       "(9240, 16)"
      ]
     },
     "execution_count": 95,
     "metadata": {},
     "output_type": "execute_result"
    }
   ],
   "source": [
    "lead.shape"
   ]
  },
  {
   "cell_type": "code",
   "execution_count": 96,
   "metadata": {},
   "outputs": [
    {
     "data": {
      "image/png": "[encoded data removed]",
      "text/plain": [
       "<Figure size 419.75x360 with 1 Axes>"
      ]
     },
     "metadata": {
      "needs_background": "light"
     },
     "output_type": "display_data"
    }
   ],
   "source": [
    "# Lead Profile vs converted after imputation\n",
    "sns.catplot(x = 'Lead Profile', hue  = 'Converted', data = lead, kind = 'count').set_xticklabels(rotation = 60)\n",
    "plt.tight_layout()"
   ]
  },
  {
   "cell_type": "code",
   "execution_count": 97,
   "metadata": {},
   "outputs": [
    {
     "data": {
      "text/plain": [
       "Lead Origin                                0.000000\n",
       "Lead Source                                0.000000\n",
       "Do Not Email                               0.000000\n",
       "Converted                                  0.000000\n",
       "TotalVisits                                0.000000\n",
       "Total Time Spent on Website                0.000000\n",
       "Page Views Per Visit                       0.000000\n",
       "Last Activity                              0.000000\n",
       "Specialization                             0.000000\n",
       "How did you hear about X Education        78.463203\n",
       "What is your current occupation            0.000000\n",
       "Tags                                       0.000000\n",
       "Lead Quality                               0.000000\n",
       "Lead Profile                               0.000000\n",
       "A free copy of Mastering The Interview     0.000000\n",
       "Last Notable Activity                      0.000000\n",
       "dtype: float64"
      ]
     },
     "execution_count": 97,
     "metadata": {},
     "output_type": "execute_result"
    }
   ],
   "source": [
    "100*lead.isnull().sum(axis = 0)/lead.shape[0]"
   ]
  },
  {
   "cell_type": "markdown",
   "metadata": {},
   "source": [
    "### Column 'How did you hear about X Education'"
   ]
  },
  {
   "cell_type": "code",
   "execution_count": 98,
   "metadata": {},
   "outputs": [
    {
     "data": {
      "text/plain": [
       "count              1990\n",
       "unique                9\n",
       "top       Online Search\n",
       "freq                808\n",
       "Name: How did you hear about X Education, dtype: object"
      ]
     },
     "execution_count": 98,
     "metadata": {},
     "output_type": "execute_result"
    }
   ],
   "source": [
    "lead['How did you hear about X Education'].describe()"
   ]
  },
  {
   "cell_type": "code",
   "execution_count": 99,
   "metadata": {},
   "outputs": [
    {
     "data": {
      "image/png": "[encoded data removed]",
      "text/plain": [
       "<Figure size 419.75x360 with 1 Axes>"
      ]
     },
     "metadata": {
      "needs_background": "light"
     },
     "output_type": "display_data"
    }
   ],
   "source": [
    "# 'How did you hear about X Education' vs converted\n",
    "sns.catplot(x = 'How did you hear about X Education', hue  = 'Converted', data = lead, kind = 'count').set_xticklabels(rotation = 60)\n",
    "plt.tight_layout()"
   ]
  },
  {
   "cell_type": "code",
   "execution_count": 100,
   "metadata": {},
   "outputs": [
    {
     "data": {
      "text/plain": [
       "7250"
      ]
     },
     "execution_count": 100,
     "metadata": {},
     "output_type": "execute_result"
    }
   ],
   "source": [
    "# count of the null rows for this column\n",
    "count_null = lead['How did you hear about X Education'].isnull().sum()\n",
    "count_null"
   ]
  },
  {
   "cell_type": "code",
   "execution_count": 101,
   "metadata": {},
   "outputs": [
    {
     "data": {
      "text/plain": [
       "1990"
      ]
     },
     "execution_count": 101,
     "metadata": {},
     "output_type": "execute_result"
    }
   ],
   "source": [
    "# count of the not null rows for this column\n",
    "count_not_null = lead['How did you hear about X Education'].notnull().sum()\n",
    "count_not_null"
   ]
  },
  {
   "cell_type": "code",
   "execution_count": 102,
   "metadata": {},
   "outputs": [
    {
     "data": {
      "text/plain": [
       "How did you hear about X Education\n",
       "Online Search            0.406030\n",
       "Word Of Mouth            0.174874\n",
       "Student of SomeSchool    0.155779\n",
       "Other                    0.093467\n",
       "Multiple Sources         0.076382\n",
       "Advertisements           0.035176\n",
       "Social Media             0.033668\n",
       "Email                    0.013065\n",
       "SMS                      0.011558\n",
       "Name: How did you hear about X Education, dtype: float64"
      ]
     },
     "execution_count": 102,
     "metadata": {},
     "output_type": "execute_result"
    }
   ],
   "source": [
    "# calculating the percentages of values for this column in the not null rows\n",
    "percentage_not_null = lead.groupby('How did you hear about X Education')['How did you hear about X Education'].count().sort_values(ascending = False)/count_not_null\n",
    "percentage_not_null"
   ]
  },
  {
   "cell_type": "code",
   "execution_count": 103,
   "metadata": {},
   "outputs": [
    {
     "data": {
      "text/plain": [
       "How did you hear about X Education\n",
       "Online Search            2943.718593\n",
       "Word Of Mouth            1267.839196\n",
       "Student of SomeSchool    1129.396985\n",
       "Other                     677.638191\n",
       "Multiple Sources          553.768844\n",
       "Advertisements            255.025126\n",
       "Social Media              244.095477\n",
       "Email                      94.723618\n",
       "SMS                        83.793970\n",
       "Name: How did you hear about X Education, dtype: float64"
      ]
     },
     "execution_count": 103,
     "metadata": {},
     "output_type": "execute_result"
    }
   ],
   "source": [
    "# based on the existing percentage of the not null values finding the number of these values to fill in the null rows\n",
    "null_distribution = count_null*lead.groupby('How did you hear about X Education')['How did you hear about X Education'].count().sort_values(ascending = False)/count_not_null\n",
    "null_distribution"
   ]
  },
  {
   "cell_type": "code",
   "execution_count": 104,
   "metadata": {},
   "outputs": [
    {
     "data": {
      "text/plain": [
       "1267.8391959798994"
      ]
     },
     "execution_count": 104,
     "metadata": {},
     "output_type": "execute_result"
    }
   ],
   "source": [
    "null_distribution[1]"
   ]
  },
  {
   "cell_type": "markdown",
   "metadata": {},
   "source": [
    "__Randomly assigning these values to the null rows__"
   ]
  },
  {
   "cell_type": "code",
   "execution_count": 105,
   "metadata": {},
   "outputs": [],
   "source": [
    "n= ['Online Search', 'Word Of Mouth',            \n",
    "'Student of SomeSchool',    \n",
    "'Other',                     \n",
    "'Multiple Sources',\n",
    "'Advertisements',           \n",
    "'Social Media',              \n",
    "'Email',                      \n",
    "'SMS']"
   ]
  },
  {
   "cell_type": "code",
   "execution_count": 106,
   "metadata": {},
   "outputs": [
    {
     "data": {
      "text/plain": [
       "[0.40603015075376886,\n",
       " 0.1748743718592965,\n",
       " 0.15577889447236185,\n",
       " 0.0934673366834171,\n",
       " 0.0763819095477387,\n",
       " 0.03517587939698493,\n",
       " 0.033668341708542715,\n",
       " 0.013065326633165831,\n",
       " 0.011557788944723618]"
      ]
     },
     "execution_count": 106,
     "metadata": {},
     "output_type": "execute_result"
    }
   ],
   "source": [
    "groups = list(null_distribution)\n",
    "a = sum(groups)\n",
    "a\n",
    "l = [w/a for w in groups]\n",
    "l"
   ]
  },
  {
   "cell_type": "code",
   "execution_count": 107,
   "metadata": {},
   "outputs": [
    {
     "data": {
      "text/plain": [
       "count              9240\n",
       "unique                9\n",
       "top       Online Search\n",
       "freq               3790\n",
       "Name: How did you hear about X Education, dtype: object"
      ]
     },
     "execution_count": 107,
     "metadata": {},
     "output_type": "execute_result"
    }
   ],
   "source": [
    "lead['How did you hear about X Education'] = lead['How did you hear about X Education'].fillna(pd.Series(np.random.choice(n, \n",
    "                                                      p= l, size=len(lead))))\n",
    "lead['How did you hear about X Education'].describe()"
   ]
  },
  {
   "cell_type": "code",
   "execution_count": 108,
   "metadata": {},
   "outputs": [
    {
     "data": {
      "text/plain": [
       "Lead Origin                               0.0\n",
       "Lead Source                               0.0\n",
       "Do Not Email                              0.0\n",
       "Converted                                 0.0\n",
       "TotalVisits                               0.0\n",
       "Total Time Spent on Website               0.0\n",
       "Page Views Per Visit                      0.0\n",
       "Last Activity                             0.0\n",
       "Specialization                            0.0\n",
       "How did you hear about X Education        0.0\n",
       "What is your current occupation           0.0\n",
       "Tags                                      0.0\n",
       "Lead Quality                              0.0\n",
       "Lead Profile                              0.0\n",
       "A free copy of Mastering The Interview    0.0\n",
       "Last Notable Activity                     0.0\n",
       "dtype: float64"
      ]
     },
     "execution_count": 108,
     "metadata": {},
     "output_type": "execute_result"
    }
   ],
   "source": [
    "100*lead.isnull().sum(axis = 0)/lead.shape[0]"
   ]
  },
  {
   "cell_type": "code",
   "execution_count": 109,
   "metadata": {},
   "outputs": [
    {
     "data": {
      "text/plain": [
       "(9240, 16)"
      ]
     },
     "execution_count": 109,
     "metadata": {},
     "output_type": "execute_result"
    }
   ],
   "source": [
    "lead.shape"
   ]
  },
  {
   "cell_type": "code",
   "execution_count": 110,
   "metadata": {},
   "outputs": [
    {
     "name": "stdout",
     "output_type": "stream",
     "text": [
      "Landing Page Submission    52.878788\n",
      "API                        38.744589\n",
      "Lead Add Form               7.770563\n",
      "Lead Import                 0.595238\n",
      "Quick Add Form              0.010823\n",
      "Name: Lead Origin, dtype: float64 \n",
      "\n",
      "\n",
      "Google               31.093074\n",
      "Direct Traffic       27.521645\n",
      "Olark Chat           18.993506\n",
      "Organic Search       12.489177\n",
      "Reference             5.779221\n",
      "Welingak Website      1.536797\n",
      "Referral Sites        1.352814\n",
      "Facebook              0.595238\n",
      "Other                 0.389610\n",
      "bing                  0.064935\n",
      "Click2call            0.043290\n",
      "Live Chat             0.021645\n",
      "Press_Release         0.021645\n",
      "Social Media          0.021645\n",
      "WeLearn               0.010823\n",
      "welearnblog_Home      0.010823\n",
      "Pay per Click Ads     0.010823\n",
      "blog                  0.010823\n",
      "youtubechannel        0.010823\n",
      "NC_EDM                0.010823\n",
      "testone               0.010823\n",
      "Name: Lead Source, dtype: float64 \n",
      "\n",
      "\n",
      "No     92.056277\n",
      "Yes     7.943723\n",
      "Name: Do Not Email, dtype: float64 \n",
      "\n",
      "\n",
      "0    61.461039\n",
      "1    38.538961\n",
      "Name: Converted, dtype: float64 \n",
      "\n",
      "\n",
      "0.0      23.690476\n",
      "2.0      18.181818\n",
      "3.0      15.616883\n",
      "4.0      12.121212\n",
      "5.0       8.474026\n",
      "6.0       5.043290\n",
      "1.0       4.274892\n",
      "7.0       3.344156\n",
      "8.0       2.424242\n",
      "9.0       1.774892\n",
      "10.0      1.233766\n",
      "11.0      0.930736\n",
      "13.0      0.519481\n",
      "12.0      0.487013\n",
      "14.0      0.389610\n",
      "16.0      0.227273\n",
      "15.0      0.194805\n",
      "17.0      0.173160\n",
      "18.0      0.162338\n",
      "20.0      0.129870\n",
      "19.0      0.097403\n",
      "23.0      0.064935\n",
      "21.0      0.064935\n",
      "27.0      0.054113\n",
      "24.0      0.054113\n",
      "25.0      0.054113\n",
      "22.0      0.032468\n",
      "28.0      0.021645\n",
      "29.0      0.021645\n",
      "26.0      0.021645\n",
      "251.0     0.010823\n",
      "74.0      0.010823\n",
      "30.0      0.010823\n",
      "141.0     0.010823\n",
      "54.0      0.010823\n",
      "41.0      0.010823\n",
      "115.0     0.010823\n",
      "43.0      0.010823\n",
      "42.0      0.010823\n",
      "32.0      0.010823\n",
      "55.0      0.010823\n",
      "Name: TotalVisits, dtype: float64 \n",
      "\n",
      "\n",
      "0       23.733766\n",
      "60       0.205628\n",
      "127      0.194805\n",
      "75       0.194805\n",
      "74       0.194805\n",
      "157      0.183983\n",
      "234      0.183983\n",
      "32       0.183983\n",
      "87       0.183983\n",
      "62       0.183983\n",
      "69       0.173160\n",
      "213      0.173160\n",
      "96       0.173160\n",
      "176      0.162338\n",
      "68       0.162338\n",
      "94       0.162338\n",
      "71       0.162338\n",
      "247      0.162338\n",
      "129      0.162338\n",
      "33       0.162338\n",
      "12       0.162338\n",
      "31       0.151515\n",
      "100      0.151515\n",
      "78       0.151515\n",
      "49       0.151515\n",
      "151      0.151515\n",
      "139      0.151515\n",
      "14       0.151515\n",
      "63       0.151515\n",
      "2        0.151515\n",
      "          ...    \n",
      "659      0.010823\n",
      "611      0.010823\n",
      "1675     0.010823\n",
      "603      0.010823\n",
      "587      0.010823\n",
      "571      0.010823\n",
      "523      0.010823\n",
      "483      0.010823\n",
      "435      0.010823\n",
      "2226     0.010823\n",
      "915      0.010823\n",
      "923      0.010823\n",
      "939      0.010823\n",
      "971      0.010823\n",
      "1667     0.010823\n",
      "1555     0.010823\n",
      "1547     0.010823\n",
      "1515     0.010823\n",
      "1443     0.010823\n",
      "1355     0.010823\n",
      "1339     0.010823\n",
      "1307     0.010823\n",
      "1299     0.010823\n",
      "1267     0.010823\n",
      "1251     0.010823\n",
      "1235     0.010823\n",
      "1091     0.010823\n",
      "1043     0.010823\n",
      "1035     0.010823\n",
      "1915     0.010823\n",
      "Name: Total Time Spent on Website, Length: 1731, dtype: float64 \n",
      "\n",
      "\n",
      "0.00     23.690476\n",
      "2.00     20.909091\n",
      "3.00     12.943723\n",
      "4.00      9.696970\n",
      "1.00      7.045455\n",
      "5.00      5.595238\n",
      "1.50      3.311688\n",
      "6.00      2.640693\n",
      "2.50      2.608225\n",
      "7.00      1.439394\n",
      "3.50      1.017316\n",
      "8.00      0.930736\n",
      "1.33      0.714286\n",
      "1.67      0.649351\n",
      "2.33      0.638528\n",
      "2.67      0.584416\n",
      "9.00      0.487013\n",
      "4.50      0.465368\n",
      "1.75      0.303030\n",
      "3.33      0.292208\n",
      "10.00     0.270563\n",
      "1.25      0.248918\n",
      "5.50      0.227273\n",
      "2.25      0.205628\n",
      "11.00     0.194805\n",
      "3.67      0.173160\n",
      "6.50      0.140693\n",
      "1.80      0.140693\n",
      "2.75      0.129870\n",
      "1.40      0.119048\n",
      "           ...    \n",
      "1.19      0.010823\n",
      "3.91      0.010823\n",
      "55.00     0.010823\n",
      "3.17      0.010823\n",
      "2.57      0.010823\n",
      "12.33     0.010823\n",
      "2.08      0.010823\n",
      "3.38      0.010823\n",
      "2.90      0.010823\n",
      "1.48      0.010823\n",
      "2.38      0.010823\n",
      "14.50     0.010823\n",
      "11.50     0.010823\n",
      "8.50      0.010823\n",
      "1.45      0.010823\n",
      "1.31      0.010823\n",
      "3.43      0.010823\n",
      "3.83      0.010823\n",
      "1.54      0.010823\n",
      "2.86      0.010823\n",
      "1.64      0.010823\n",
      "3.29      0.010823\n",
      "8.33      0.010823\n",
      "6.67      0.010823\n",
      "1.21      0.010823\n",
      "1.27      0.010823\n",
      "8.21      0.010823\n",
      "2.14      0.010823\n",
      "2.63      0.010823\n",
      "2.45      0.010823\n",
      "Name: Page Views Per Visit, Length: 114, dtype: float64 \n",
      "\n",
      "\n",
      "Email Opened                    37.196970\n",
      "SMS Sent                        29.707792\n",
      "Olark Chat Conversation         10.530303\n",
      "Page Visited on Website          6.926407\n",
      "Converted to Lead                4.632035\n",
      "Email Bounced                    3.528139\n",
      "Email Link Clicked               2.889610\n",
      "Form Submitted on Website        1.255411\n",
      "Other                            1.114719\n",
      "Unreachable                      1.006494\n",
      "Unsubscribed                     0.660173\n",
      "Had a Phone Conversation         0.324675\n",
      "Approached upfront               0.097403\n",
      "View in browser link Clicked     0.064935\n",
      "Email Received                   0.021645\n",
      "Email Marked Spam                0.021645\n",
      "Resubscribed to emails           0.010823\n",
      "Visited Booth in Tradeshow       0.010823\n",
      "Name: Last Activity, dtype: float64 \n",
      "\n",
      "\n",
      "Other                                36.580087\n",
      "Finance Management                   10.562771\n",
      "Human Resource Management             9.177489\n",
      "Marketing Management                  9.069264\n",
      "Operations Management                 5.443723\n",
      "Business Administration               4.361472\n",
      "IT Projects Management                3.961039\n",
      "Supply Chain Management               3.777056\n",
      "Banking, Investment And Insurance     3.658009\n",
      "Media and Advertising                 2.196970\n",
      "Travel and Tourism                    2.196970\n",
      "International Business                1.926407\n",
      "Healthcare Management                 1.720779\n",
      "Hospitality Management                1.233766\n",
      "E-COMMERCE                            1.212121\n",
      "Retail Management                     1.082251\n",
      "Rural and Agribusiness                0.790043\n",
      "E-Business                            0.616883\n",
      "Services Excellence                   0.432900\n",
      "Name: Specialization, dtype: float64 \n",
      "\n",
      "\n",
      "Online Search            41.017316\n",
      "Word Of Mouth            17.532468\n",
      "Student of SomeSchool    15.032468\n",
      "Other                     9.220779\n",
      "Multiple Sources          7.846320\n",
      "Social Media              3.560606\n",
      "Advertisements            3.333333\n",
      "Email                     1.406926\n",
      "SMS                       1.049784\n",
      "Name: How did you hear about X Education, dtype: float64 \n",
      "\n",
      "\n",
      "Unemployed              60.606061\n",
      "Other                   29.285714\n",
      "Working Professional     7.640693\n",
      "Student                  2.272727\n",
      "Housewife                0.108225\n",
      "Businessman              0.086580\n",
      "Name: What is your current occupation, dtype: float64 \n",
      "\n",
      "\n",
      "Other                                                36.287879\n",
      "Will revert after reading the email                  22.424242\n",
      "Ringing                                              13.019481\n",
      "Interested in other courses                           5.551948\n",
      "Already a student                                     5.032468\n",
      "Closed by Horizzon                                    3.874459\n",
      "switched off                                          2.597403\n",
      "Busy                                                  2.012987\n",
      "Lost to EINS                                          1.893939\n",
      "Not doing further education                           1.569264\n",
      "Interested  in full time MBA                          1.266234\n",
      "Graduation in progress                                1.201299\n",
      "invalid number                                        0.898268\n",
      "Diploma holder (Not Eligible)                         0.681818\n",
      "wrong number given                                    0.508658\n",
      "opp hangup                                            0.357143\n",
      "number not provided                                   0.292208\n",
      "in touch with EINS                                    0.129870\n",
      "Lost to Others                                        0.075758\n",
      "Still Thinking                                        0.064935\n",
      "Want to take admission but has financial problems     0.064935\n",
      "Interested in Next batch                              0.054113\n",
      "In confusion whether part time or DLP                 0.054113\n",
      "Lateral student                                       0.032468\n",
      "University not recognized                             0.021645\n",
      "Shall take in the next coming month                   0.021645\n",
      "Recognition issue (DEC approval)                      0.010823\n",
      "Name: Tags, dtype: float64 \n",
      "\n",
      "\n",
      "Not Sure             63.409091\n",
      "Might be             16.883117\n",
      "High in Relevance     6.893939\n",
      "Worst                 6.504329\n",
      "Low in Relevance      6.309524\n",
      "Name: Lead Quality, dtype: float64 \n",
      "\n",
      "\n",
      "Unprofiled                     74.188312\n",
      "Potential Lead                 17.456710\n",
      "Other Leads                     5.270563\n",
      "Student of SomeSchool           2.608225\n",
      "Lateral Student                 0.259740\n",
      "Dual Specialization Student     0.216450\n",
      "Name: Lead Profile, dtype: float64 \n",
      "\n",
      "\n",
      "No     68.744589\n",
      "Yes    31.255411\n",
      "Name: A free copy of Mastering The Interview, dtype: float64 \n",
      "\n",
      "\n",
      "Modified                        36.872294\n",
      "Email Opened                    30.595238\n",
      "SMS Sent                        23.506494\n",
      "Page Visited on Website          3.441558\n",
      "Olark Chat Conversation          1.980519\n",
      "Email Link Clicked               1.872294\n",
      "Email Bounced                    0.649351\n",
      "Unsubscribed                     0.508658\n",
      "Unreachable                      0.346320\n",
      "Had a Phone Conversation         0.151515\n",
      "Email Marked Spam                0.021645\n",
      "View in browser link Clicked     0.010823\n",
      "Form Submitted on Website        0.010823\n",
      "Email Received                   0.010823\n",
      "Resubscribed to emails           0.010823\n",
      "Approached upfront               0.010823\n",
      "Name: Last Notable Activity, dtype: float64 \n",
      "\n",
      "\n"
     ]
    }
   ],
   "source": [
    "for col in lead.columns:\n",
    "    print(100*lead[col].value_counts()/len(lead[col]),'\\n\\n')  "
   ]
  },
  {
   "cell_type": "markdown",
   "metadata": {},
   "source": [
    "### data preparation"
   ]
  },
  {
   "cell_type": "code",
   "execution_count": 111,
   "metadata": {},
   "outputs": [],
   "source": [
    "# converting yes to 1 and no to 0\n",
    "\n",
    "lead['Do Not Email'] = lead['Do Not Email'].map({'Yes':1, 'No':0})\n",
    "lead['A free copy of Mastering The Interview'] = lead['A free copy of Mastering The Interview'].map({'Yes':1, 'No':0})"
   ]
  },
  {
   "cell_type": "markdown",
   "metadata": {},
   "source": [
    "### Dummy variable creation"
   ]
  },
  {
   "cell_type": "code",
   "execution_count": 112,
   "metadata": {},
   "outputs": [],
   "source": [
    "def create_dummy(df):\n",
    "    '''function that creates dummy variable for the categorical features\n",
    "    and return the updated DataFrame'''\n",
    "    for col in df.columns: # extracting the feature\n",
    "        if df[col].dtype == 'O': # is the feature type object ?\n",
    "            dummy = pd.get_dummies(df[col], prefix = col, drop_first = True) # creating dummy variable and dropping the original column\n",
    "            df = pd.concat([df, dummy], axis = 1) # concatenating the dummy variables with the original DataFrame\n",
    "            df.drop(col, axis = 1, inplace = True)\n",
    "    return (df) "
   ]
  },
  {
   "cell_type": "code",
   "execution_count": 113,
   "metadata": {},
   "outputs": [],
   "source": [
    "lead_dummy = create_dummy(lead)"
   ]
  },
  {
   "cell_type": "code",
   "execution_count": 114,
   "metadata": {},
   "outputs": [
    {
     "data": {
      "text/plain": [
       "(9240, 128)"
      ]
     },
     "execution_count": 114,
     "metadata": {},
     "output_type": "execute_result"
    }
   ],
   "source": [
    "lead_dummy.shape"
   ]
  },
  {
   "cell_type": "code",
   "execution_count": 115,
   "metadata": {},
   "outputs": [
    {
     "name": "stdout",
     "output_type": "stream",
     "text": [
      "<class 'pandas.core.frame.DataFrame'>\n",
      "RangeIndex: 9240 entries, 0 to 9239\n",
      "Columns: 128 entries, Do Not Email to Last Notable Activity_View in browser link Clicked\n",
      "dtypes: float64(2), int64(4), uint8(122)\n",
      "memory usage: 1.5 MB\n"
     ]
    }
   ],
   "source": [
    "lead_dummy.info()"
   ]
  },
  {
   "cell_type": "markdown",
   "metadata": {},
   "source": [
    "## test-train split"
   ]
  },
  {
   "cell_type": "code",
   "execution_count": 116,
   "metadata": {},
   "outputs": [],
   "source": [
    "from sklearn.model_selection import train_test_split\n",
    "\n",
    "# putting predictors to X\n",
    "X = lead_dummy.drop('Converted', axis = 1)\n",
    "\n",
    "# putting response variable to y\n",
    "y = lead_dummy['Converted']"
   ]
  },
  {
   "cell_type": "code",
   "execution_count": 117,
   "metadata": {},
   "outputs": [
    {
     "data": {
      "text/html": [
       "<div>\n",
       "<style scoped>\n",
       "    .dataframe tbody tr th:only-of-type {\n",
       "        vertical-align: middle;\n",
       "    }\n",
       "\n",
       "    .dataframe tbody tr th {\n",
       "        vertical-align: top;\n",
       "    }\n",
       "\n",
       "    .dataframe thead th {\n",
       "        text-align: right;\n",
       "    }\n",
       "</style>\n",
       "<table border=\"1\" class=\"dataframe\">\n",
       "  <thead>\n",
       "    <tr style=\"text-align: right;\">\n",
       "      <th></th>\n",
       "      <th>Do Not Email</th>\n",
       "      <th>TotalVisits</th>\n",
       "      <th>Total Time Spent on Website</th>\n",
       "      <th>Page Views Per Visit</th>\n",
       "      <th>A free copy of Mastering The Interview</th>\n",
       "      <th>Lead Origin_Landing Page Submission</th>\n",
       "      <th>Lead Origin_Lead Add Form</th>\n",
       "      <th>Lead Origin_Lead Import</th>\n",
       "      <th>Lead Origin_Quick Add Form</th>\n",
       "      <th>Lead Source_Direct Traffic</th>\n",
       "      <th>...</th>\n",
       "      <th>Last Notable Activity_Form Submitted on Website</th>\n",
       "      <th>Last Notable Activity_Had a Phone Conversation</th>\n",
       "      <th>Last Notable Activity_Modified</th>\n",
       "      <th>Last Notable Activity_Olark Chat Conversation</th>\n",
       "      <th>Last Notable Activity_Page Visited on Website</th>\n",
       "      <th>Last Notable Activity_Resubscribed to emails</th>\n",
       "      <th>Last Notable Activity_SMS Sent</th>\n",
       "      <th>Last Notable Activity_Unreachable</th>\n",
       "      <th>Last Notable Activity_Unsubscribed</th>\n",
       "      <th>Last Notable Activity_View in browser link Clicked</th>\n",
       "    </tr>\n",
       "  </thead>\n",
       "  <tbody>\n",
       "    <tr>\n",
       "      <th>0</th>\n",
       "      <td>0</td>\n",
       "      <td>0.0</td>\n",
       "      <td>0</td>\n",
       "      <td>0.0</td>\n",
       "      <td>0</td>\n",
       "      <td>0</td>\n",
       "      <td>0</td>\n",
       "      <td>0</td>\n",
       "      <td>0</td>\n",
       "      <td>0</td>\n",
       "      <td>...</td>\n",
       "      <td>0</td>\n",
       "      <td>0</td>\n",
       "      <td>1</td>\n",
       "      <td>0</td>\n",
       "      <td>0</td>\n",
       "      <td>0</td>\n",
       "      <td>0</td>\n",
       "      <td>0</td>\n",
       "      <td>0</td>\n",
       "      <td>0</td>\n",
       "    </tr>\n",
       "    <tr>\n",
       "      <th>1</th>\n",
       "      <td>0</td>\n",
       "      <td>5.0</td>\n",
       "      <td>674</td>\n",
       "      <td>2.5</td>\n",
       "      <td>0</td>\n",
       "      <td>0</td>\n",
       "      <td>0</td>\n",
       "      <td>0</td>\n",
       "      <td>0</td>\n",
       "      <td>0</td>\n",
       "      <td>...</td>\n",
       "      <td>0</td>\n",
       "      <td>0</td>\n",
       "      <td>0</td>\n",
       "      <td>0</td>\n",
       "      <td>0</td>\n",
       "      <td>0</td>\n",
       "      <td>0</td>\n",
       "      <td>0</td>\n",
       "      <td>0</td>\n",
       "      <td>0</td>\n",
       "    </tr>\n",
       "    <tr>\n",
       "      <th>2</th>\n",
       "      <td>0</td>\n",
       "      <td>2.0</td>\n",
       "      <td>1532</td>\n",
       "      <td>2.0</td>\n",
       "      <td>1</td>\n",
       "      <td>1</td>\n",
       "      <td>0</td>\n",
       "      <td>0</td>\n",
       "      <td>0</td>\n",
       "      <td>1</td>\n",
       "      <td>...</td>\n",
       "      <td>0</td>\n",
       "      <td>0</td>\n",
       "      <td>0</td>\n",
       "      <td>0</td>\n",
       "      <td>0</td>\n",
       "      <td>0</td>\n",
       "      <td>0</td>\n",
       "      <td>0</td>\n",
       "      <td>0</td>\n",
       "      <td>0</td>\n",
       "    </tr>\n",
       "    <tr>\n",
       "      <th>3</th>\n",
       "      <td>0</td>\n",
       "      <td>1.0</td>\n",
       "      <td>305</td>\n",
       "      <td>1.0</td>\n",
       "      <td>0</td>\n",
       "      <td>1</td>\n",
       "      <td>0</td>\n",
       "      <td>0</td>\n",
       "      <td>0</td>\n",
       "      <td>1</td>\n",
       "      <td>...</td>\n",
       "      <td>0</td>\n",
       "      <td>0</td>\n",
       "      <td>1</td>\n",
       "      <td>0</td>\n",
       "      <td>0</td>\n",
       "      <td>0</td>\n",
       "      <td>0</td>\n",
       "      <td>0</td>\n",
       "      <td>0</td>\n",
       "      <td>0</td>\n",
       "    </tr>\n",
       "    <tr>\n",
       "      <th>4</th>\n",
       "      <td>0</td>\n",
       "      <td>2.0</td>\n",
       "      <td>1428</td>\n",
       "      <td>1.0</td>\n",
       "      <td>0</td>\n",
       "      <td>1</td>\n",
       "      <td>0</td>\n",
       "      <td>0</td>\n",
       "      <td>0</td>\n",
       "      <td>0</td>\n",
       "      <td>...</td>\n",
       "      <td>0</td>\n",
       "      <td>0</td>\n",
       "      <td>1</td>\n",
       "      <td>0</td>\n",
       "      <td>0</td>\n",
       "      <td>0</td>\n",
       "      <td>0</td>\n",
       "      <td>0</td>\n",
       "      <td>0</td>\n",
       "      <td>0</td>\n",
       "    </tr>\n",
       "  </tbody>\n",
       "</table>\n",
       "<p>5 rows × 127 columns</p>\n",
       "</div>"
      ],
      "text/plain": [
       "   Do Not Email  TotalVisits  Total Time Spent on Website  \\\n",
       "0             0          0.0                            0   \n",
       "1             0          5.0                          674   \n",
       "2             0          2.0                         1532   \n",
       "3             0          1.0                          305   \n",
       "4             0          2.0                         1428   \n",
       "\n",
       "   Page Views Per Visit  A free copy of Mastering The Interview  \\\n",
       "0                   0.0                                       0   \n",
       "1                   2.5                                       0   \n",
       "2                   2.0                                       1   \n",
       "3                   1.0                                       0   \n",
       "4                   1.0                                       0   \n",
       "\n",
       "   Lead Origin_Landing Page Submission  Lead Origin_Lead Add Form  \\\n",
       "0                                    0                          0   \n",
       "1                                    0                          0   \n",
       "2                                    1                          0   \n",
       "3                                    1                          0   \n",
       "4                                    1                          0   \n",
       "\n",
       "   Lead Origin_Lead Import  Lead Origin_Quick Add Form  \\\n",
       "0                        0                           0   \n",
       "1                        0                           0   \n",
       "2                        0                           0   \n",
       "3                        0                           0   \n",
       "4                        0                           0   \n",
       "\n",
       "   Lead Source_Direct Traffic  \\\n",
       "0                           0   \n",
       "1                           0   \n",
       "2                           1   \n",
       "3                           1   \n",
       "4                           0   \n",
       "\n",
       "                          ...                          \\\n",
       "0                         ...                           \n",
       "1                         ...                           \n",
       "2                         ...                           \n",
       "3                         ...                           \n",
       "4                         ...                           \n",
       "\n",
       "   Last Notable Activity_Form Submitted on Website  \\\n",
       "0                                                0   \n",
       "1                                                0   \n",
       "2                                                0   \n",
       "3                                                0   \n",
       "4                                                0   \n",
       "\n",
       "   Last Notable Activity_Had a Phone Conversation  \\\n",
       "0                                               0   \n",
       "1                                               0   \n",
       "2                                               0   \n",
       "3                                               0   \n",
       "4                                               0   \n",
       "\n",
       "   Last Notable Activity_Modified  \\\n",
       "0                               1   \n",
       "1                               0   \n",
       "2                               0   \n",
       "3                               1   \n",
       "4                               1   \n",
       "\n",
       "   Last Notable Activity_Olark Chat Conversation  \\\n",
       "0                                              0   \n",
       "1                                              0   \n",
       "2                                              0   \n",
       "3                                              0   \n",
       "4                                              0   \n",
       "\n",
       "   Last Notable Activity_Page Visited on Website  \\\n",
       "0                                              0   \n",
       "1                                              0   \n",
       "2                                              0   \n",
       "3                                              0   \n",
       "4                                              0   \n",
       "\n",
       "   Last Notable Activity_Resubscribed to emails  \\\n",
       "0                                             0   \n",
       "1                                             0   \n",
       "2                                             0   \n",
       "3                                             0   \n",
       "4                                             0   \n",
       "\n",
       "   Last Notable Activity_SMS Sent  Last Notable Activity_Unreachable  \\\n",
       "0                               0                                  0   \n",
       "1                               0                                  0   \n",
       "2                               0                                  0   \n",
       "3                               0                                  0   \n",
       "4                               0                                  0   \n",
       "\n",
       "   Last Notable Activity_Unsubscribed  \\\n",
       "0                                   0   \n",
       "1                                   0   \n",
       "2                                   0   \n",
       "3                                   0   \n",
       "4                                   0   \n",
       "\n",
       "   Last Notable Activity_View in browser link Clicked  \n",
       "0                                                  0   \n",
       "1                                                  0   \n",
       "2                                                  0   \n",
       "3                                                  0   \n",
       "4                                                  0   \n",
       "\n",
       "[5 rows x 127 columns]"
      ]
     },
     "execution_count": 117,
     "metadata": {},
     "output_type": "execute_result"
    }
   ],
   "source": [
    "X.head()"
   ]
  },
  {
   "cell_type": "code",
   "execution_count": 118,
   "metadata": {},
   "outputs": [
    {
     "data": {
      "text/plain": [
       "0    0\n",
       "1    0\n",
       "2    1\n",
       "3    0\n",
       "4    1\n",
       "Name: Converted, dtype: int64"
      ]
     },
     "execution_count": 118,
     "metadata": {},
     "output_type": "execute_result"
    }
   ],
   "source": [
    "y.head()"
   ]
  },
  {
   "cell_type": "code",
   "execution_count": 119,
   "metadata": {},
   "outputs": [],
   "source": [
    "# splitting data into train and test\n",
    "\n",
    "X_train, X_test, y_train, y_test = train_test_split(X, y, train_size = 0.7, test_size = 0.3, random_state = 100)"
   ]
  },
  {
   "cell_type": "code",
   "execution_count": 120,
   "metadata": {},
   "outputs": [
    {
     "name": "stdout",
     "output_type": "stream",
     "text": [
      "X_train: (6468, 127)\n",
      "X_test: (2772, 127)\n",
      "y_train: (6468,)\n",
      "y_test: (2772,)\n"
     ]
    }
   ],
   "source": [
    "print('X_train:', X_train.shape)\n",
    "print('X_test:', X_test.shape)\n",
    "print('y_train:', y_train.shape)\n",
    "print('y_test:', y_test.shape)"
   ]
  },
  {
   "cell_type": "markdown",
   "metadata": {},
   "source": [
    "## Feature scaling"
   ]
  },
  {
   "cell_type": "code",
   "execution_count": 121,
   "metadata": {},
   "outputs": [
    {
     "name": "stderr",
     "output_type": "stream",
     "text": [
      "C:\\Users\\Administrator\\Anaconda3\\lib\\site-packages\\ipykernel_launcher.py:3: SettingWithCopyWarning: \n",
      "A value is trying to be set on a copy of a slice from a DataFrame.\n",
      "Try using .loc[row_indexer,col_indexer] = value instead\n",
      "\n",
      "See the caveats in the documentation: http://pandas.pydata.org/pandas-docs/stable/indexing.html#indexing-view-versus-copy\n",
      "  This is separate from the ipykernel package so we can avoid doing imports until\n",
      "C:\\Users\\Administrator\\Anaconda3\\lib\\site-packages\\pandas\\core\\indexing.py:543: SettingWithCopyWarning: \n",
      "A value is trying to be set on a copy of a slice from a DataFrame.\n",
      "Try using .loc[row_indexer,col_indexer] = value instead\n",
      "\n",
      "See the caveats in the documentation: http://pandas.pydata.org/pandas-docs/stable/indexing.html#indexing-view-versus-copy\n",
      "  self.obj[item] = s\n"
     ]
    },
    {
     "data": {
      "text/html": [
       "<div>\n",
       "<style scoped>\n",
       "    .dataframe tbody tr th:only-of-type {\n",
       "        vertical-align: middle;\n",
       "    }\n",
       "\n",
       "    .dataframe tbody tr th {\n",
       "        vertical-align: top;\n",
       "    }\n",
       "\n",
       "    .dataframe thead th {\n",
       "        text-align: right;\n",
       "    }\n",
       "</style>\n",
       "<table border=\"1\" class=\"dataframe\">\n",
       "  <thead>\n",
       "    <tr style=\"text-align: right;\">\n",
       "      <th></th>\n",
       "      <th>Do Not Email</th>\n",
       "      <th>TotalVisits</th>\n",
       "      <th>Total Time Spent on Website</th>\n",
       "      <th>Page Views Per Visit</th>\n",
       "      <th>A free copy of Mastering The Interview</th>\n",
       "      <th>Lead Origin_Landing Page Submission</th>\n",
       "      <th>Lead Origin_Lead Add Form</th>\n",
       "      <th>Lead Origin_Lead Import</th>\n",
       "      <th>Lead Origin_Quick Add Form</th>\n",
       "      <th>Lead Source_Direct Traffic</th>\n",
       "      <th>...</th>\n",
       "      <th>Last Notable Activity_Form Submitted on Website</th>\n",
       "      <th>Last Notable Activity_Had a Phone Conversation</th>\n",
       "      <th>Last Notable Activity_Modified</th>\n",
       "      <th>Last Notable Activity_Olark Chat Conversation</th>\n",
       "      <th>Last Notable Activity_Page Visited on Website</th>\n",
       "      <th>Last Notable Activity_Resubscribed to emails</th>\n",
       "      <th>Last Notable Activity_SMS Sent</th>\n",
       "      <th>Last Notable Activity_Unreachable</th>\n",
       "      <th>Last Notable Activity_Unsubscribed</th>\n",
       "      <th>Last Notable Activity_View in browser link Clicked</th>\n",
       "    </tr>\n",
       "  </thead>\n",
       "  <tbody>\n",
       "    <tr>\n",
       "      <th>1871</th>\n",
       "      <td>0</td>\n",
       "      <td>-0.656434</td>\n",
       "      <td>-0.885371</td>\n",
       "      <td>-1.085519</td>\n",
       "      <td>0</td>\n",
       "      <td>0</td>\n",
       "      <td>0</td>\n",
       "      <td>0</td>\n",
       "      <td>0</td>\n",
       "      <td>0</td>\n",
       "      <td>...</td>\n",
       "      <td>0</td>\n",
       "      <td>0</td>\n",
       "      <td>0</td>\n",
       "      <td>0</td>\n",
       "      <td>0</td>\n",
       "      <td>0</td>\n",
       "      <td>0</td>\n",
       "      <td>0</td>\n",
       "      <td>0</td>\n",
       "      <td>0</td>\n",
       "    </tr>\n",
       "    <tr>\n",
       "      <th>6795</th>\n",
       "      <td>0</td>\n",
       "      <td>0.100767</td>\n",
       "      <td>0.005716</td>\n",
       "      <td>-0.470569</td>\n",
       "      <td>1</td>\n",
       "      <td>1</td>\n",
       "      <td>0</td>\n",
       "      <td>0</td>\n",
       "      <td>0</td>\n",
       "      <td>1</td>\n",
       "      <td>...</td>\n",
       "      <td>0</td>\n",
       "      <td>0</td>\n",
       "      <td>0</td>\n",
       "      <td>0</td>\n",
       "      <td>0</td>\n",
       "      <td>0</td>\n",
       "      <td>0</td>\n",
       "      <td>0</td>\n",
       "      <td>0</td>\n",
       "      <td>0</td>\n",
       "    </tr>\n",
       "    <tr>\n",
       "      <th>3516</th>\n",
       "      <td>0</td>\n",
       "      <td>0.290067</td>\n",
       "      <td>-0.691418</td>\n",
       "      <td>0.070401</td>\n",
       "      <td>0</td>\n",
       "      <td>0</td>\n",
       "      <td>0</td>\n",
       "      <td>0</td>\n",
       "      <td>0</td>\n",
       "      <td>0</td>\n",
       "      <td>...</td>\n",
       "      <td>0</td>\n",
       "      <td>0</td>\n",
       "      <td>0</td>\n",
       "      <td>0</td>\n",
       "      <td>0</td>\n",
       "      <td>0</td>\n",
       "      <td>0</td>\n",
       "      <td>0</td>\n",
       "      <td>0</td>\n",
       "      <td>0</td>\n",
       "    </tr>\n",
       "    <tr>\n",
       "      <th>8105</th>\n",
       "      <td>0</td>\n",
       "      <td>0.290067</td>\n",
       "      <td>1.365219</td>\n",
       "      <td>1.226321</td>\n",
       "      <td>0</td>\n",
       "      <td>1</td>\n",
       "      <td>0</td>\n",
       "      <td>0</td>\n",
       "      <td>0</td>\n",
       "      <td>0</td>\n",
       "      <td>...</td>\n",
       "      <td>0</td>\n",
       "      <td>0</td>\n",
       "      <td>0</td>\n",
       "      <td>0</td>\n",
       "      <td>0</td>\n",
       "      <td>0</td>\n",
       "      <td>1</td>\n",
       "      <td>0</td>\n",
       "      <td>0</td>\n",
       "      <td>0</td>\n",
       "    </tr>\n",
       "    <tr>\n",
       "      <th>3934</th>\n",
       "      <td>0</td>\n",
       "      <td>-0.656434</td>\n",
       "      <td>-0.885371</td>\n",
       "      <td>-1.085519</td>\n",
       "      <td>0</td>\n",
       "      <td>0</td>\n",
       "      <td>0</td>\n",
       "      <td>0</td>\n",
       "      <td>0</td>\n",
       "      <td>0</td>\n",
       "      <td>...</td>\n",
       "      <td>0</td>\n",
       "      <td>0</td>\n",
       "      <td>1</td>\n",
       "      <td>0</td>\n",
       "      <td>0</td>\n",
       "      <td>0</td>\n",
       "      <td>0</td>\n",
       "      <td>0</td>\n",
       "      <td>0</td>\n",
       "      <td>0</td>\n",
       "    </tr>\n",
       "  </tbody>\n",
       "</table>\n",
       "<p>5 rows × 127 columns</p>\n",
       "</div>"
      ],
      "text/plain": [
       "      Do Not Email  TotalVisits  Total Time Spent on Website  \\\n",
       "1871             0    -0.656434                    -0.885371   \n",
       "6795             0     0.100767                     0.005716   \n",
       "3516             0     0.290067                    -0.691418   \n",
       "8105             0     0.290067                     1.365219   \n",
       "3934             0    -0.656434                    -0.885371   \n",
       "\n",
       "      Page Views Per Visit  A free copy of Mastering The Interview  \\\n",
       "1871             -1.085519                                       0   \n",
       "6795             -0.470569                                       1   \n",
       "3516              0.070401                                       0   \n",
       "8105              1.226321                                       0   \n",
       "3934             -1.085519                                       0   \n",
       "\n",
       "      Lead Origin_Landing Page Submission  Lead Origin_Lead Add Form  \\\n",
       "1871                                    0                          0   \n",
       "6795                                    1                          0   \n",
       "3516                                    0                          0   \n",
       "8105                                    1                          0   \n",
       "3934                                    0                          0   \n",
       "\n",
       "      Lead Origin_Lead Import  Lead Origin_Quick Add Form  \\\n",
       "1871                        0                           0   \n",
       "6795                        0                           0   \n",
       "3516                        0                           0   \n",
       "8105                        0                           0   \n",
       "3934                        0                           0   \n",
       "\n",
       "      Lead Source_Direct Traffic  \\\n",
       "1871                           0   \n",
       "6795                           1   \n",
       "3516                           0   \n",
       "8105                           0   \n",
       "3934                           0   \n",
       "\n",
       "                             ...                          \\\n",
       "1871                         ...                           \n",
       "6795                         ...                           \n",
       "3516                         ...                           \n",
       "8105                         ...                           \n",
       "3934                         ...                           \n",
       "\n",
       "      Last Notable Activity_Form Submitted on Website  \\\n",
       "1871                                                0   \n",
       "6795                                                0   \n",
       "3516                                                0   \n",
       "8105                                                0   \n",
       "3934                                                0   \n",
       "\n",
       "      Last Notable Activity_Had a Phone Conversation  \\\n",
       "1871                                               0   \n",
       "6795                                               0   \n",
       "3516                                               0   \n",
       "8105                                               0   \n",
       "3934                                               0   \n",
       "\n",
       "      Last Notable Activity_Modified  \\\n",
       "1871                               0   \n",
       "6795                               0   \n",
       "3516                               0   \n",
       "8105                               0   \n",
       "3934                               1   \n",
       "\n",
       "      Last Notable Activity_Olark Chat Conversation  \\\n",
       "1871                                              0   \n",
       "6795                                              0   \n",
       "3516                                              0   \n",
       "8105                                              0   \n",
       "3934                                              0   \n",
       "\n",
       "      Last Notable Activity_Page Visited on Website  \\\n",
       "1871                                              0   \n",
       "6795                                              0   \n",
       "3516                                              0   \n",
       "8105                                              0   \n",
       "3934                                              0   \n",
       "\n",
       "      Last Notable Activity_Resubscribed to emails  \\\n",
       "1871                                             0   \n",
       "6795                                             0   \n",
       "3516                                             0   \n",
       "8105                                             0   \n",
       "3934                                             0   \n",
       "\n",
       "      Last Notable Activity_SMS Sent  Last Notable Activity_Unreachable  \\\n",
       "1871                               0                                  0   \n",
       "6795                               0                                  0   \n",
       "3516                               0                                  0   \n",
       "8105                               1                                  0   \n",
       "3934                               0                                  0   \n",
       "\n",
       "      Last Notable Activity_Unsubscribed  \\\n",
       "1871                                   0   \n",
       "6795                                   0   \n",
       "3516                                   0   \n",
       "8105                                   0   \n",
       "3934                                   0   \n",
       "\n",
       "      Last Notable Activity_View in browser link Clicked  \n",
       "1871                                                  0   \n",
       "6795                                                  0   \n",
       "3516                                                  0   \n",
       "8105                                                  0   \n",
       "3934                                                  0   \n",
       "\n",
       "[5 rows x 127 columns]"
      ]
     },
     "execution_count": 121,
     "metadata": {},
     "output_type": "execute_result"
    }
   ],
   "source": [
    "from sklearn.preprocessing import StandardScaler\n",
    "scaler = StandardScaler()\n",
    "X_train[['TotalVisits', 'Total Time Spent on Website', 'Page Views Per Visit']] = scaler.fit_transform(X_train[['TotalVisits', 'Total Time Spent on Website', 'Page Views Per Visit']])\n",
    "X_train.head()"
   ]
  },
  {
   "cell_type": "code",
   "execution_count": 122,
   "metadata": {},
   "outputs": [
    {
     "data": {
      "text/plain": [
       "38.53896103896104"
      ]
     },
     "execution_count": 122,
     "metadata": {},
     "output_type": "execute_result"
    }
   ],
   "source": [
    "# checking the rate of conversion\n",
    "\n",
    "conversion = (sum(lead['Converted'])/len(lead['Converted'].index))*100\n",
    "conversion"
   ]
  },
  {
   "cell_type": "markdown",
   "metadata": {},
   "source": [
    "## Feature selection using RFE"
   ]
  },
  {
   "cell_type": "code",
   "execution_count": 123,
   "metadata": {},
   "outputs": [],
   "source": [
    "from sklearn.linear_model import LogisticRegression\n",
    "from sklearn.feature_selection import RFE\n",
    "logreg = LogisticRegression()\n",
    "rfe = RFE(logreg, 20)             # running RFE with 20 variables as output\n",
    "rfe = rfe.fit(X_train, y_train)"
   ]
  },
  {
   "cell_type": "code",
   "execution_count": 124,
   "metadata": {},
   "outputs": [],
   "source": [
    "col = X_train.columns[rfe.support_] # features selected"
   ]
  },
  {
   "cell_type": "markdown",
   "metadata": {},
   "source": [
    "### Model building"
   ]
  },
  {
   "cell_type": "code",
   "execution_count": 125,
   "metadata": {},
   "outputs": [],
   "source": [
    "import statsmodels.api as sm"
   ]
  },
  {
   "cell_type": "code",
   "execution_count": 126,
   "metadata": {},
   "outputs": [
    {
     "data": {
      "text/html": [
       "<table class=\"simpletable\">\n",
       "<caption>Generalized Linear Model Regression Results</caption>\n",
       "<tr>\n",
       "  <th>Dep. Variable:</th>      <td>Converted</td>    <th>  No. Observations:  </th>  <td>  6468</td>  \n",
       "</tr>\n",
       "<tr>\n",
       "  <th>Model:</th>                 <td>GLM</td>       <th>  Df Residuals:      </th>  <td>  6447</td>  \n",
       "</tr>\n",
       "<tr>\n",
       "  <th>Model Family:</th>       <td>Binomial</td>     <th>  Df Model:          </th>  <td>    20</td>  \n",
       "</tr>\n",
       "<tr>\n",
       "  <th>Link Function:</th>        <td>logit</td>      <th>  Scale:             </th> <td>  1.0000</td> \n",
       "</tr>\n",
       "<tr>\n",
       "  <th>Method:</th>               <td>IRLS</td>       <th>  Log-Likelihood:    </th> <td> -1253.2</td> \n",
       "</tr>\n",
       "<tr>\n",
       "  <th>Date:</th>           <td>Sun, 03 Mar 2019</td> <th>  Deviance:          </th> <td>  2506.3</td> \n",
       "</tr>\n",
       "<tr>\n",
       "  <th>Time:</th>               <td>21:29:22</td>     <th>  Pearson chi2:      </th> <td>1.84e+04</td> \n",
       "</tr>\n",
       "<tr>\n",
       "  <th>No. Iterations:</th>        <td>23</td>        <th>  Covariance Type:   </th> <td>nonrobust</td>\n",
       "</tr>\n",
       "</table>\n",
       "<table class=\"simpletable\">\n",
       "<tr>\n",
       "                        <td></td>                           <th>coef</th>     <th>std err</th>      <th>z</th>      <th>P>|z|</th>  <th>[0.025</th>    <th>0.975]</th>  \n",
       "</tr>\n",
       "<tr>\n",
       "  <th>const</th>                                         <td>   -1.5516</td> <td>    0.276</td> <td>   -5.623</td> <td> 0.000</td> <td>   -2.092</td> <td>   -1.011</td>\n",
       "</tr>\n",
       "<tr>\n",
       "  <th>Lead Source_Welingak Website</th>                  <td>    2.8423</td> <td>    0.754</td> <td>    3.771</td> <td> 0.000</td> <td>    1.365</td> <td>    4.319</td>\n",
       "</tr>\n",
       "<tr>\n",
       "  <th>Last Activity_SMS Sent</th>                        <td>    2.1932</td> <td>    0.122</td> <td>   18.051</td> <td> 0.000</td> <td>    1.955</td> <td>    2.431</td>\n",
       "</tr>\n",
       "<tr>\n",
       "  <th>What is your current occupation_Other</th>         <td>   -2.5348</td> <td>    0.145</td> <td>  -17.453</td> <td> 0.000</td> <td>   -2.819</td> <td>   -2.250</td>\n",
       "</tr>\n",
       "<tr>\n",
       "  <th>Tags_Busy</th>                                     <td>    1.9295</td> <td>    0.298</td> <td>    6.475</td> <td> 0.000</td> <td>    1.345</td> <td>    2.514</td>\n",
       "</tr>\n",
       "<tr>\n",
       "  <th>Tags_Closed by Horizzon</th>                       <td>    8.6529</td> <td>    1.027</td> <td>    8.429</td> <td> 0.000</td> <td>    6.641</td> <td>   10.665</td>\n",
       "</tr>\n",
       "<tr>\n",
       "  <th>Tags_Lateral student</th>                          <td>   25.9797</td> <td> 7.34e+04</td> <td>    0.000</td> <td> 1.000</td> <td>-1.44e+05</td> <td> 1.44e+05</td>\n",
       "</tr>\n",
       "<tr>\n",
       "  <th>Tags_Lost to EINS</th>                             <td>    9.5164</td> <td>    0.771</td> <td>   12.347</td> <td> 0.000</td> <td>    8.006</td> <td>   11.027</td>\n",
       "</tr>\n",
       "<tr>\n",
       "  <th>Tags_Other</th>                                    <td>    3.3831</td> <td>    0.246</td> <td>   13.779</td> <td> 0.000</td> <td>    2.902</td> <td>    3.864</td>\n",
       "</tr>\n",
       "<tr>\n",
       "  <th>Tags_Ringing</th>                                  <td>   -1.8669</td> <td>    0.299</td> <td>   -6.252</td> <td> 0.000</td> <td>   -2.452</td> <td>   -1.282</td>\n",
       "</tr>\n",
       "<tr>\n",
       "  <th>Tags_Will revert after reading the email</th>      <td>    5.7242</td> <td>    0.277</td> <td>   20.659</td> <td> 0.000</td> <td>    5.181</td> <td>    6.267</td>\n",
       "</tr>\n",
       "<tr>\n",
       "  <th>Tags_invalid number</th>                           <td>   -2.1858</td> <td>    1.044</td> <td>   -2.093</td> <td> 0.036</td> <td>   -4.233</td> <td>   -0.139</td>\n",
       "</tr>\n",
       "<tr>\n",
       "  <th>Tags_number not provided</th>                      <td>  -22.4574</td> <td>  2.5e+04</td> <td>   -0.001</td> <td> 0.999</td> <td> -4.9e+04</td> <td>  4.9e+04</td>\n",
       "</tr>\n",
       "<tr>\n",
       "  <th>Tags_switched off</th>                             <td>   -2.3146</td> <td>    0.556</td> <td>   -4.165</td> <td> 0.000</td> <td>   -3.404</td> <td>   -1.225</td>\n",
       "</tr>\n",
       "<tr>\n",
       "  <th>Tags_wrong number given</th>                       <td>  -22.5685</td> <td> 2.12e+04</td> <td>   -0.001</td> <td> 0.999</td> <td>-4.15e+04</td> <td> 4.15e+04</td>\n",
       "</tr>\n",
       "<tr>\n",
       "  <th>Lead Quality_Might be</th>                         <td>   -1.2081</td> <td>    0.285</td> <td>   -4.241</td> <td> 0.000</td> <td>   -1.766</td> <td>   -0.650</td>\n",
       "</tr>\n",
       "<tr>\n",
       "  <th>Lead Quality_Not Sure</th>                         <td>   -1.3334</td> <td>    0.290</td> <td>   -4.594</td> <td> 0.000</td> <td>   -1.902</td> <td>   -0.765</td>\n",
       "</tr>\n",
       "<tr>\n",
       "  <th>Lead Quality_Worst</th>                            <td>   -3.2433</td> <td>    0.721</td> <td>   -4.501</td> <td> 0.000</td> <td>   -4.656</td> <td>   -1.831</td>\n",
       "</tr>\n",
       "<tr>\n",
       "  <th>Last Notable Activity_Email Link Clicked</th>      <td>   -1.3222</td> <td>    0.474</td> <td>   -2.791</td> <td> 0.005</td> <td>   -2.251</td> <td>   -0.394</td>\n",
       "</tr>\n",
       "<tr>\n",
       "  <th>Last Notable Activity_Modified</th>                <td>   -1.6000</td> <td>    0.123</td> <td>  -13.052</td> <td> 0.000</td> <td>   -1.840</td> <td>   -1.360</td>\n",
       "</tr>\n",
       "<tr>\n",
       "  <th>Last Notable Activity_Olark Chat Conversation</th> <td>   -1.1764</td> <td>    0.416</td> <td>   -2.831</td> <td> 0.005</td> <td>   -1.991</td> <td>   -0.362</td>\n",
       "</tr>\n",
       "</table>"
      ],
      "text/plain": [
       "<class 'statsmodels.iolib.summary.Summary'>\n",
       "\"\"\"\n",
       "                 Generalized Linear Model Regression Results                  \n",
       "==============================================================================\n",
       "Dep. Variable:              Converted   No. Observations:                 6468\n",
       "Model:                            GLM   Df Residuals:                     6447\n",
       "Model Family:                Binomial   Df Model:                           20\n",
       "Link Function:                  logit   Scale:                          1.0000\n",
       "Method:                          IRLS   Log-Likelihood:                -1253.2\n",
       "Date:                Sun, 03 Mar 2019   Deviance:                       2506.3\n",
       "Time:                        21:29:22   Pearson chi2:                 1.84e+04\n",
       "No. Iterations:                    23   Covariance Type:             nonrobust\n",
       "=================================================================================================================\n",
       "                                                    coef    std err          z      P>|z|      [0.025      0.975]\n",
       "-----------------------------------------------------------------------------------------------------------------\n",
       "const                                            -1.5516      0.276     -5.623      0.000      -2.092      -1.011\n",
       "Lead Source_Welingak Website                      2.8423      0.754      3.771      0.000       1.365       4.319\n",
       "Last Activity_SMS Sent                            2.1932      0.122     18.051      0.000       1.955       2.431\n",
       "What is your current occupation_Other            -2.5348      0.145    -17.453      0.000      -2.819      -2.250\n",
       "Tags_Busy                                         1.9295      0.298      6.475      0.000       1.345       2.514\n",
       "Tags_Closed by Horizzon                           8.6529      1.027      8.429      0.000       6.641      10.665\n",
       "Tags_Lateral student                             25.9797   7.34e+04      0.000      1.000   -1.44e+05    1.44e+05\n",
       "Tags_Lost to EINS                                 9.5164      0.771     12.347      0.000       8.006      11.027\n",
       "Tags_Other                                        3.3831      0.246     13.779      0.000       2.902       3.864\n",
       "Tags_Ringing                                     -1.8669      0.299     -6.252      0.000      -2.452      -1.282\n",
       "Tags_Will revert after reading the email          5.7242      0.277     20.659      0.000       5.181       6.267\n",
       "Tags_invalid number                              -2.1858      1.044     -2.093      0.036      -4.233      -0.139\n",
       "Tags_number not provided                        -22.4574    2.5e+04     -0.001      0.999    -4.9e+04     4.9e+04\n",
       "Tags_switched off                                -2.3146      0.556     -4.165      0.000      -3.404      -1.225\n",
       "Tags_wrong number given                         -22.5685   2.12e+04     -0.001      0.999   -4.15e+04    4.15e+04\n",
       "Lead Quality_Might be                            -1.2081      0.285     -4.241      0.000      -1.766      -0.650\n",
       "Lead Quality_Not Sure                            -1.3334      0.290     -4.594      0.000      -1.902      -0.765\n",
       "Lead Quality_Worst                               -3.2433      0.721     -4.501      0.000      -4.656      -1.831\n",
       "Last Notable Activity_Email Link Clicked         -1.3222      0.474     -2.791      0.005      -2.251      -0.394\n",
       "Last Notable Activity_Modified                   -1.6000      0.123    -13.052      0.000      -1.840      -1.360\n",
       "Last Notable Activity_Olark Chat Conversation    -1.1764      0.416     -2.831      0.005      -1.991      -0.362\n",
       "=================================================================================================================\n",
       "\"\"\""
      ]
     },
     "execution_count": 126,
     "metadata": {},
     "output_type": "execute_result"
    }
   ],
   "source": [
    "X_train_sm = sm.add_constant(X_train[col])\n",
    "logm = sm.GLM(y_train,X_train_sm, family = sm.families.Binomial())\n",
    "res = logm.fit()\n",
    "res.summary()"
   ]
  },
  {
   "cell_type": "code",
   "execution_count": 127,
   "metadata": {},
   "outputs": [],
   "source": [
    "# creating X_train dataframe using RFE selected variables\n",
    "\n",
    "X_train_rfe = X_train[col]"
   ]
  },
  {
   "cell_type": "code",
   "execution_count": 128,
   "metadata": {},
   "outputs": [],
   "source": [
    "def create_glm(X_t, y_t):\n",
    "    '''function to add constant, create logistic regression model and return the summary\n",
    "       accepts X_training and y_training DataFrame as parameters\n",
    "       returns X_training with constant and the logistic regression model\n",
    "    '''\n",
    "    X_t = sm.add_constant(X_t) # adding constant\n",
    "    glm = sm.GLM(y_t, X_t, family = sm.families.Binomial()).fit() # creating logistic regression model\n",
    "    return (X_t, glm) # return summary of logistic regression model"
   ]
  },
  {
   "cell_type": "code",
   "execution_count": 129,
   "metadata": {},
   "outputs": [],
   "source": [
    "def remove_feature(f, X_t):\n",
    "    '''function to remove insignificant features\n",
    "       accepts the feature name as string and DataFrame from which it is to be removed\n",
    "       returns the DataFrame after dropping the feature\n",
    "    '''\n",
    "    return (X_t.drop(f, axis = 1))  "
   ]
  },
  {
   "cell_type": "code",
   "execution_count": 130,
   "metadata": {},
   "outputs": [],
   "source": [
    "from statsmodels.stats.outliers_influence import variance_inflation_factor\n",
    "def calculate_vif(X_t):\n",
    "    '''Function to calculate VIF\n",
    "       Accepta the DataFrame\n",
    "       Returns the Feature name with their VIF rounded off to two decimal places as a DataFrame\n",
    "    '''\n",
    "    vif = pd.DataFrame()\n",
    "    X = X_t.drop('const', axis = 1) # dropping the constant column\n",
    "    vif['Features'] = X.columns # Feature name column\n",
    "    vif['VIF'] = [variance_inflation_factor(X.values, i) for i in range(X.shape[1])] # calculating VIF\n",
    "    vif['VIF'] = round(vif['VIF'], 2) # rounding off\n",
    "    vif = vif.sort_values(by = 'VIF', ascending = False) # sorting\n",
    "    return (vif)"
   ]
  },
  {
   "cell_type": "code",
   "execution_count": 131,
   "metadata": {},
   "outputs": [
    {
     "name": "stdout",
     "output_type": "stream",
     "text": [
      "                 Generalized Linear Model Regression Results                  \n",
      "==============================================================================\n",
      "Dep. Variable:              Converted   No. Observations:                 6468\n",
      "Model:                            GLM   Df Residuals:                     6447\n",
      "Model Family:                Binomial   Df Model:                           20\n",
      "Link Function:                  logit   Scale:                          1.0000\n",
      "Method:                          IRLS   Log-Likelihood:                -1253.2\n",
      "Date:                Sun, 03 Mar 2019   Deviance:                       2506.3\n",
      "Time:                        21:29:23   Pearson chi2:                 1.84e+04\n",
      "No. Iterations:                    23   Covariance Type:             nonrobust\n",
      "=================================================================================================================\n",
      "                                                    coef    std err          z      P>|z|      [0.025      0.975]\n",
      "-----------------------------------------------------------------------------------------------------------------\n",
      "const                                            -1.5516      0.276     -5.623      0.000      -2.092      -1.011\n",
      "Lead Source_Welingak Website                      2.8423      0.754      3.771      0.000       1.365       4.319\n",
      "Last Activity_SMS Sent                            2.1932      0.122     18.051      0.000       1.955       2.431\n",
      "What is your current occupation_Other            -2.5348      0.145    -17.453      0.000      -2.819      -2.250\n",
      "Tags_Busy                                         1.9295      0.298      6.475      0.000       1.345       2.514\n",
      "Tags_Closed by Horizzon                           8.6529      1.027      8.429      0.000       6.641      10.665\n",
      "Tags_Lateral student                             25.9797   7.34e+04      0.000      1.000   -1.44e+05    1.44e+05\n",
      "Tags_Lost to EINS                                 9.5164      0.771     12.347      0.000       8.006      11.027\n",
      "Tags_Other                                        3.3831      0.246     13.779      0.000       2.902       3.864\n",
      "Tags_Ringing                                     -1.8669      0.299     -6.252      0.000      -2.452      -1.282\n",
      "Tags_Will revert after reading the email          5.7242      0.277     20.659      0.000       5.181       6.267\n",
      "Tags_invalid number                              -2.1858      1.044     -2.093      0.036      -4.233      -0.139\n",
      "Tags_number not provided                        -22.4574    2.5e+04     -0.001      0.999    -4.9e+04     4.9e+04\n",
      "Tags_switched off                                -2.3146      0.556     -4.165      0.000      -3.404      -1.225\n",
      "Tags_wrong number given                         -22.5685   2.12e+04     -0.001      0.999   -4.15e+04    4.15e+04\n",
      "Lead Quality_Might be                            -1.2081      0.285     -4.241      0.000      -1.766      -0.650\n",
      "Lead Quality_Not Sure                            -1.3334      0.290     -4.594      0.000      -1.902      -0.765\n",
      "Lead Quality_Worst                               -3.2433      0.721     -4.501      0.000      -4.656      -1.831\n",
      "Last Notable Activity_Email Link Clicked         -1.3222      0.474     -2.791      0.005      -2.251      -0.394\n",
      "Last Notable Activity_Modified                   -1.6000      0.123    -13.052      0.000      -1.840      -1.360\n",
      "Last Notable Activity_Olark Chat Conversation    -1.1764      0.416     -2.831      0.005      -1.991      -0.362\n",
      "=================================================================================================================\n"
     ]
    },
    {
     "data": {
      "text/html": [
       "<div>\n",
       "<style scoped>\n",
       "    .dataframe tbody tr th:only-of-type {\n",
       "        vertical-align: middle;\n",
       "    }\n",
       "\n",
       "    .dataframe tbody tr th {\n",
       "        vertical-align: top;\n",
       "    }\n",
       "\n",
       "    .dataframe thead th {\n",
       "        text-align: right;\n",
       "    }\n",
       "</style>\n",
       "<table border=\"1\" class=\"dataframe\">\n",
       "  <thead>\n",
       "    <tr style=\"text-align: right;\">\n",
       "      <th></th>\n",
       "      <th>Features</th>\n",
       "      <th>VIF</th>\n",
       "    </tr>\n",
       "  </thead>\n",
       "  <tbody>\n",
       "    <tr>\n",
       "      <th>12</th>\n",
       "      <td>Tags_switched off</td>\n",
       "      <td>1.20</td>\n",
       "    </tr>\n",
       "    <tr>\n",
       "      <th>3</th>\n",
       "      <td>Tags_Busy</td>\n",
       "      <td>1.16</td>\n",
       "    </tr>\n",
       "    <tr>\n",
       "      <th>0</th>\n",
       "      <td>Lead Source_Welingak Website</td>\n",
       "      <td>1.12</td>\n",
       "    </tr>\n",
       "    <tr>\n",
       "      <th>6</th>\n",
       "      <td>Tags_Lost to EINS</td>\n",
       "      <td>1.11</td>\n",
       "    </tr>\n",
       "    <tr>\n",
       "      <th>4</th>\n",
       "      <td>Tags_Closed by Horizzon</td>\n",
       "      <td>1.09</td>\n",
       "    </tr>\n",
       "    <tr>\n",
       "      <th>19</th>\n",
       "      <td>Last Notable Activity_Olark Chat Conversation</td>\n",
       "      <td>1.06</td>\n",
       "    </tr>\n",
       "    <tr>\n",
       "      <th>17</th>\n",
       "      <td>Last Notable Activity_Email Link Clicked</td>\n",
       "      <td>1.05</td>\n",
       "    </tr>\n",
       "    <tr>\n",
       "      <th>10</th>\n",
       "      <td>Tags_invalid number</td>\n",
       "      <td>1.05</td>\n",
       "    </tr>\n",
       "    <tr>\n",
       "      <th>13</th>\n",
       "      <td>Tags_wrong number given</td>\n",
       "      <td>1.03</td>\n",
       "    </tr>\n",
       "    <tr>\n",
       "      <th>11</th>\n",
       "      <td>Tags_number not provided</td>\n",
       "      <td>1.02</td>\n",
       "    </tr>\n",
       "    <tr>\n",
       "      <th>5</th>\n",
       "      <td>Tags_Lateral student</td>\n",
       "      <td>1.00</td>\n",
       "    </tr>\n",
       "    <tr>\n",
       "      <th>16</th>\n",
       "      <td>Lead Quality_Worst</td>\n",
       "      <td>0.43</td>\n",
       "    </tr>\n",
       "    <tr>\n",
       "      <th>2</th>\n",
       "      <td>What is your current occupation_Other</td>\n",
       "      <td>0.26</td>\n",
       "    </tr>\n",
       "    <tr>\n",
       "      <th>9</th>\n",
       "      <td>Tags_Will revert after reading the email</td>\n",
       "      <td>0.21</td>\n",
       "    </tr>\n",
       "    <tr>\n",
       "      <th>8</th>\n",
       "      <td>Tags_Ringing</td>\n",
       "      <td>0.18</td>\n",
       "    </tr>\n",
       "    <tr>\n",
       "      <th>1</th>\n",
       "      <td>Last Activity_SMS Sent</td>\n",
       "      <td>0.14</td>\n",
       "    </tr>\n",
       "    <tr>\n",
       "      <th>7</th>\n",
       "      <td>Tags_Other</td>\n",
       "      <td>0.13</td>\n",
       "    </tr>\n",
       "    <tr>\n",
       "      <th>14</th>\n",
       "      <td>Lead Quality_Might be</td>\n",
       "      <td>0.13</td>\n",
       "    </tr>\n",
       "    <tr>\n",
       "      <th>18</th>\n",
       "      <td>Last Notable Activity_Modified</td>\n",
       "      <td>0.06</td>\n",
       "    </tr>\n",
       "    <tr>\n",
       "      <th>15</th>\n",
       "      <td>Lead Quality_Not Sure</td>\n",
       "      <td>0.05</td>\n",
       "    </tr>\n",
       "  </tbody>\n",
       "</table>\n",
       "</div>"
      ],
      "text/plain": [
       "                                         Features   VIF\n",
       "12                              Tags_switched off  1.20\n",
       "3                                       Tags_Busy  1.16\n",
       "0                    Lead Source_Welingak Website  1.12\n",
       "6                               Tags_Lost to EINS  1.11\n",
       "4                         Tags_Closed by Horizzon  1.09\n",
       "19  Last Notable Activity_Olark Chat Conversation  1.06\n",
       "17       Last Notable Activity_Email Link Clicked  1.05\n",
       "10                            Tags_invalid number  1.05\n",
       "13                        Tags_wrong number given  1.03\n",
       "11                       Tags_number not provided  1.02\n",
       "5                            Tags_Lateral student  1.00\n",
       "16                             Lead Quality_Worst  0.43\n",
       "2           What is your current occupation_Other  0.26\n",
       "9        Tags_Will revert after reading the email  0.21\n",
       "8                                    Tags_Ringing  0.18\n",
       "1                          Last Activity_SMS Sent  0.14\n",
       "7                                      Tags_Other  0.13\n",
       "14                          Lead Quality_Might be  0.13\n",
       "18                 Last Notable Activity_Modified  0.06\n",
       "15                          Lead Quality_Not Sure  0.05"
      ]
     },
     "execution_count": 131,
     "metadata": {},
     "output_type": "execute_result"
    }
   ],
   "source": [
    "# creating model, printing summary and calculating vif for data \n",
    "X_train_glm, glm = create_glm(X_train_rfe, y_train)\n",
    "print(glm.summary()) \n",
    "calculate_vif(X_train_glm)"
   ]
  },
  {
   "cell_type": "markdown",
   "metadata": {},
   "source": [
    "__From above we see that there is no multicolinearity in the variables. Hence dropping the features based on p-value__"
   ]
  },
  {
   "cell_type": "code",
   "execution_count": 132,
   "metadata": {},
   "outputs": [
    {
     "name": "stdout",
     "output_type": "stream",
     "text": [
      "                 Generalized Linear Model Regression Results                  \n",
      "==============================================================================\n",
      "Dep. Variable:              Converted   No. Observations:                 6468\n",
      "Model:                            GLM   Df Residuals:                     6448\n",
      "Model Family:                Binomial   Df Model:                           19\n",
      "Link Function:                  logit   Scale:                          1.0000\n",
      "Method:                          IRLS   Log-Likelihood:                -1257.6\n",
      "Date:                Sun, 03 Mar 2019   Deviance:                       2515.2\n",
      "Time:                        21:29:23   Pearson chi2:                 1.89e+04\n",
      "No. Iterations:                    23   Covariance Type:             nonrobust\n",
      "=================================================================================================================\n",
      "                                                    coef    std err          z      P>|z|      [0.025      0.975]\n",
      "-----------------------------------------------------------------------------------------------------------------\n",
      "const                                            -1.4619      0.269     -5.442      0.000      -1.988      -0.935\n",
      "Lead Source_Welingak Website                      2.8383      0.754      3.766      0.000       1.361       4.315\n",
      "Last Activity_SMS Sent                            2.2117      0.121     18.220      0.000       1.974       2.450\n",
      "What is your current occupation_Other            -2.5399      0.145    -17.468      0.000      -2.825      -2.255\n",
      "Tags_Busy                                         1.8612      0.294      6.321      0.000       1.284       2.438\n",
      "Tags_Closed by Horizzon                           8.5643      1.025      8.355      0.000       6.555      10.573\n",
      "Tags_Lost to EINS                                 9.4669      0.769     12.303      0.000       7.959      10.975\n",
      "Tags_Other                                        3.3313      0.241     13.817      0.000       2.859       3.804\n",
      "Tags_Ringing                                     -1.9464      0.295     -6.608      0.000      -2.524      -1.369\n",
      "Tags_Will revert after reading the email          5.6147      0.270     20.812      0.000       5.086       6.143\n",
      "Tags_invalid number                              -2.2659      1.044     -2.171      0.030      -4.312      -0.220\n",
      "Tags_number not provided                        -22.5660   2.49e+04     -0.001      0.999   -4.89e+04    4.88e+04\n",
      "Tags_switched off                                -2.4001      0.554     -4.335      0.000      -3.485      -1.315\n",
      "Tags_wrong number given                         -22.6308   2.12e+04     -0.001      0.999   -4.15e+04    4.14e+04\n",
      "Lead Quality_Might be                            -1.1798      0.281     -4.204      0.000      -1.730      -0.630\n",
      "Lead Quality_Not Sure                            -1.3780      0.285     -4.834      0.000      -1.937      -0.819\n",
      "Lead Quality_Worst                               -3.3233      0.715     -4.646      0.000      -4.725      -1.921\n",
      "Last Notable Activity_Email Link Clicked         -1.3173      0.474     -2.779      0.005      -2.247      -0.388\n",
      "Last Notable Activity_Modified                   -1.5886      0.122    -13.020      0.000      -1.828      -1.349\n",
      "Last Notable Activity_Olark Chat Conversation    -1.1714      0.416     -2.817      0.005      -1.986      -0.357\n",
      "=================================================================================================================\n"
     ]
    },
    {
     "data": {
      "text/html": [
       "<div>\n",
       "<style scoped>\n",
       "    .dataframe tbody tr th:only-of-type {\n",
       "        vertical-align: middle;\n",
       "    }\n",
       "\n",
       "    .dataframe tbody tr th {\n",
       "        vertical-align: top;\n",
       "    }\n",
       "\n",
       "    .dataframe thead th {\n",
       "        text-align: right;\n",
       "    }\n",
       "</style>\n",
       "<table border=\"1\" class=\"dataframe\">\n",
       "  <thead>\n",
       "    <tr style=\"text-align: right;\">\n",
       "      <th></th>\n",
       "      <th>Features</th>\n",
       "      <th>VIF</th>\n",
       "    </tr>\n",
       "  </thead>\n",
       "  <tbody>\n",
       "    <tr>\n",
       "      <th>11</th>\n",
       "      <td>Tags_switched off</td>\n",
       "      <td>1.20</td>\n",
       "    </tr>\n",
       "    <tr>\n",
       "      <th>3</th>\n",
       "      <td>Tags_Busy</td>\n",
       "      <td>1.16</td>\n",
       "    </tr>\n",
       "    <tr>\n",
       "      <th>0</th>\n",
       "      <td>Lead Source_Welingak Website</td>\n",
       "      <td>1.12</td>\n",
       "    </tr>\n",
       "    <tr>\n",
       "      <th>5</th>\n",
       "      <td>Tags_Lost to EINS</td>\n",
       "      <td>1.11</td>\n",
       "    </tr>\n",
       "    <tr>\n",
       "      <th>4</th>\n",
       "      <td>Tags_Closed by Horizzon</td>\n",
       "      <td>1.09</td>\n",
       "    </tr>\n",
       "    <tr>\n",
       "      <th>18</th>\n",
       "      <td>Last Notable Activity_Olark Chat Conversation</td>\n",
       "      <td>1.06</td>\n",
       "    </tr>\n",
       "    <tr>\n",
       "      <th>16</th>\n",
       "      <td>Last Notable Activity_Email Link Clicked</td>\n",
       "      <td>1.05</td>\n",
       "    </tr>\n",
       "    <tr>\n",
       "      <th>9</th>\n",
       "      <td>Tags_invalid number</td>\n",
       "      <td>1.05</td>\n",
       "    </tr>\n",
       "    <tr>\n",
       "      <th>12</th>\n",
       "      <td>Tags_wrong number given</td>\n",
       "      <td>1.03</td>\n",
       "    </tr>\n",
       "    <tr>\n",
       "      <th>10</th>\n",
       "      <td>Tags_number not provided</td>\n",
       "      <td>1.02</td>\n",
       "    </tr>\n",
       "    <tr>\n",
       "      <th>15</th>\n",
       "      <td>Lead Quality_Worst</td>\n",
       "      <td>0.43</td>\n",
       "    </tr>\n",
       "    <tr>\n",
       "      <th>2</th>\n",
       "      <td>What is your current occupation_Other</td>\n",
       "      <td>0.26</td>\n",
       "    </tr>\n",
       "    <tr>\n",
       "      <th>8</th>\n",
       "      <td>Tags_Will revert after reading the email</td>\n",
       "      <td>0.21</td>\n",
       "    </tr>\n",
       "    <tr>\n",
       "      <th>7</th>\n",
       "      <td>Tags_Ringing</td>\n",
       "      <td>0.18</td>\n",
       "    </tr>\n",
       "    <tr>\n",
       "      <th>1</th>\n",
       "      <td>Last Activity_SMS Sent</td>\n",
       "      <td>0.14</td>\n",
       "    </tr>\n",
       "    <tr>\n",
       "      <th>6</th>\n",
       "      <td>Tags_Other</td>\n",
       "      <td>0.13</td>\n",
       "    </tr>\n",
       "    <tr>\n",
       "      <th>13</th>\n",
       "      <td>Lead Quality_Might be</td>\n",
       "      <td>0.13</td>\n",
       "    </tr>\n",
       "    <tr>\n",
       "      <th>17</th>\n",
       "      <td>Last Notable Activity_Modified</td>\n",
       "      <td>0.06</td>\n",
       "    </tr>\n",
       "    <tr>\n",
       "      <th>14</th>\n",
       "      <td>Lead Quality_Not Sure</td>\n",
       "      <td>0.05</td>\n",
       "    </tr>\n",
       "  </tbody>\n",
       "</table>\n",
       "</div>"
      ],
      "text/plain": [
       "                                         Features   VIF\n",
       "11                              Tags_switched off  1.20\n",
       "3                                       Tags_Busy  1.16\n",
       "0                    Lead Source_Welingak Website  1.12\n",
       "5                               Tags_Lost to EINS  1.11\n",
       "4                         Tags_Closed by Horizzon  1.09\n",
       "18  Last Notable Activity_Olark Chat Conversation  1.06\n",
       "16       Last Notable Activity_Email Link Clicked  1.05\n",
       "9                             Tags_invalid number  1.05\n",
       "12                        Tags_wrong number given  1.03\n",
       "10                       Tags_number not provided  1.02\n",
       "15                             Lead Quality_Worst  0.43\n",
       "2           What is your current occupation_Other  0.26\n",
       "8        Tags_Will revert after reading the email  0.21\n",
       "7                                    Tags_Ringing  0.18\n",
       "1                          Last Activity_SMS Sent  0.14\n",
       "6                                      Tags_Other  0.13\n",
       "13                          Lead Quality_Might be  0.13\n",
       "17                 Last Notable Activity_Modified  0.06\n",
       "14                          Lead Quality_Not Sure  0.05"
      ]
     },
     "execution_count": 132,
     "metadata": {},
     "output_type": "execute_result"
    }
   ],
   "source": [
    "# Dropping high p-value features, updating model and recalculating VIF\n",
    "\n",
    "X_train_new = remove_feature('Tags_Lateral student', X_train_glm)\n",
    "X_train_glm, glm = create_glm(X_train_new, y_train)\n",
    "print(glm.summary()) \n",
    "calculate_vif(X_train_glm)"
   ]
  },
  {
   "cell_type": "code",
   "execution_count": 133,
   "metadata": {},
   "outputs": [
    {
     "name": "stdout",
     "output_type": "stream",
     "text": [
      "                 Generalized Linear Model Regression Results                  \n",
      "==============================================================================\n",
      "Dep. Variable:              Converted   No. Observations:                 6468\n",
      "Model:                            GLM   Df Residuals:                     6449\n",
      "Model Family:                Binomial   Df Model:                           18\n",
      "Link Function:                  logit   Scale:                          1.0000\n",
      "Method:                          IRLS   Log-Likelihood:                -1260.4\n",
      "Date:                Sun, 03 Mar 2019   Deviance:                       2520.9\n",
      "Time:                        21:29:24   Pearson chi2:                 1.87e+04\n",
      "No. Iterations:                    22   Covariance Type:             nonrobust\n",
      "=================================================================================================================\n",
      "                                                    coef    std err          z      P>|z|      [0.025      0.975]\n",
      "-----------------------------------------------------------------------------------------------------------------\n",
      "const                                            -1.5249      0.270     -5.645      0.000      -2.054      -0.995\n",
      "Lead Source_Welingak Website                      2.8364      0.753      3.766      0.000       1.360       4.313\n",
      "Last Activity_SMS Sent                            2.1983      0.121     18.186      0.000       1.961       2.435\n",
      "What is your current occupation_Other            -2.5361      0.145    -17.477      0.000      -2.821      -2.252\n",
      "Tags_Busy                                         1.9461      0.294      6.623      0.000       1.370       2.522\n",
      "Tags_Closed by Horizzon                           8.6330      1.025      8.420      0.000       6.624      10.642\n",
      "Tags_Lost to EINS                                 9.5270      0.770     12.375      0.000       8.018      11.036\n",
      "Tags_Other                                        3.4022      0.242     14.051      0.000       2.928       3.877\n",
      "Tags_Ringing                                     -1.8499      0.293     -6.309      0.000      -2.425      -1.275\n",
      "Tags_Will revert after reading the email          5.7139      0.269     21.266      0.000       5.187       6.241\n",
      "Tags_invalid number                              -2.1706      1.043     -2.081      0.037      -4.215      -0.126\n",
      "Tags_switched off                                -2.2984      0.553     -4.159      0.000      -3.381      -1.215\n",
      "Tags_wrong number given                         -21.5502   1.28e+04     -0.002      0.999   -2.52e+04    2.51e+04\n",
      "Lead Quality_Might be                            -1.2447      0.281     -4.428      0.000      -1.796      -0.694\n",
      "Lead Quality_Not Sure                            -1.3866      0.288     -4.814      0.000      -1.951      -0.822\n",
      "Lead Quality_Worst                               -3.3116      0.718     -4.610      0.000      -4.719      -1.904\n",
      "Last Notable Activity_Email Link Clicked         -1.3239      0.472     -2.806      0.005      -2.248      -0.399\n",
      "Last Notable Activity_Modified                   -1.5776      0.122    -12.942      0.000      -1.817      -1.339\n",
      "Last Notable Activity_Olark Chat Conversation    -1.1672      0.415     -2.809      0.005      -1.982      -0.353\n",
      "=================================================================================================================\n"
     ]
    },
    {
     "data": {
      "text/html": [
       "<div>\n",
       "<style scoped>\n",
       "    .dataframe tbody tr th:only-of-type {\n",
       "        vertical-align: middle;\n",
       "    }\n",
       "\n",
       "    .dataframe tbody tr th {\n",
       "        vertical-align: top;\n",
       "    }\n",
       "\n",
       "    .dataframe thead th {\n",
       "        text-align: right;\n",
       "    }\n",
       "</style>\n",
       "<table border=\"1\" class=\"dataframe\">\n",
       "  <thead>\n",
       "    <tr style=\"text-align: right;\">\n",
       "      <th></th>\n",
       "      <th>Features</th>\n",
       "      <th>VIF</th>\n",
       "    </tr>\n",
       "  </thead>\n",
       "  <tbody>\n",
       "    <tr>\n",
       "      <th>10</th>\n",
       "      <td>Tags_switched off</td>\n",
       "      <td>1.20</td>\n",
       "    </tr>\n",
       "    <tr>\n",
       "      <th>3</th>\n",
       "      <td>Tags_Busy</td>\n",
       "      <td>1.16</td>\n",
       "    </tr>\n",
       "    <tr>\n",
       "      <th>0</th>\n",
       "      <td>Lead Source_Welingak Website</td>\n",
       "      <td>1.12</td>\n",
       "    </tr>\n",
       "    <tr>\n",
       "      <th>5</th>\n",
       "      <td>Tags_Lost to EINS</td>\n",
       "      <td>1.11</td>\n",
       "    </tr>\n",
       "    <tr>\n",
       "      <th>4</th>\n",
       "      <td>Tags_Closed by Horizzon</td>\n",
       "      <td>1.08</td>\n",
       "    </tr>\n",
       "    <tr>\n",
       "      <th>17</th>\n",
       "      <td>Last Notable Activity_Olark Chat Conversation</td>\n",
       "      <td>1.06</td>\n",
       "    </tr>\n",
       "    <tr>\n",
       "      <th>15</th>\n",
       "      <td>Last Notable Activity_Email Link Clicked</td>\n",
       "      <td>1.05</td>\n",
       "    </tr>\n",
       "    <tr>\n",
       "      <th>9</th>\n",
       "      <td>Tags_invalid number</td>\n",
       "      <td>1.05</td>\n",
       "    </tr>\n",
       "    <tr>\n",
       "      <th>11</th>\n",
       "      <td>Tags_wrong number given</td>\n",
       "      <td>1.03</td>\n",
       "    </tr>\n",
       "    <tr>\n",
       "      <th>14</th>\n",
       "      <td>Lead Quality_Worst</td>\n",
       "      <td>0.43</td>\n",
       "    </tr>\n",
       "    <tr>\n",
       "      <th>2</th>\n",
       "      <td>What is your current occupation_Other</td>\n",
       "      <td>0.26</td>\n",
       "    </tr>\n",
       "    <tr>\n",
       "      <th>8</th>\n",
       "      <td>Tags_Will revert after reading the email</td>\n",
       "      <td>0.21</td>\n",
       "    </tr>\n",
       "    <tr>\n",
       "      <th>7</th>\n",
       "      <td>Tags_Ringing</td>\n",
       "      <td>0.18</td>\n",
       "    </tr>\n",
       "    <tr>\n",
       "      <th>1</th>\n",
       "      <td>Last Activity_SMS Sent</td>\n",
       "      <td>0.14</td>\n",
       "    </tr>\n",
       "    <tr>\n",
       "      <th>6</th>\n",
       "      <td>Tags_Other</td>\n",
       "      <td>0.13</td>\n",
       "    </tr>\n",
       "    <tr>\n",
       "      <th>12</th>\n",
       "      <td>Lead Quality_Might be</td>\n",
       "      <td>0.13</td>\n",
       "    </tr>\n",
       "    <tr>\n",
       "      <th>16</th>\n",
       "      <td>Last Notable Activity_Modified</td>\n",
       "      <td>0.06</td>\n",
       "    </tr>\n",
       "    <tr>\n",
       "      <th>13</th>\n",
       "      <td>Lead Quality_Not Sure</td>\n",
       "      <td>0.05</td>\n",
       "    </tr>\n",
       "  </tbody>\n",
       "</table>\n",
       "</div>"
      ],
      "text/plain": [
       "                                         Features   VIF\n",
       "10                              Tags_switched off  1.20\n",
       "3                                       Tags_Busy  1.16\n",
       "0                    Lead Source_Welingak Website  1.12\n",
       "5                               Tags_Lost to EINS  1.11\n",
       "4                         Tags_Closed by Horizzon  1.08\n",
       "17  Last Notable Activity_Olark Chat Conversation  1.06\n",
       "15       Last Notable Activity_Email Link Clicked  1.05\n",
       "9                             Tags_invalid number  1.05\n",
       "11                        Tags_wrong number given  1.03\n",
       "14                             Lead Quality_Worst  0.43\n",
       "2           What is your current occupation_Other  0.26\n",
       "8        Tags_Will revert after reading the email  0.21\n",
       "7                                    Tags_Ringing  0.18\n",
       "1                          Last Activity_SMS Sent  0.14\n",
       "6                                      Tags_Other  0.13\n",
       "12                          Lead Quality_Might be  0.13\n",
       "16                 Last Notable Activity_Modified  0.06\n",
       "13                          Lead Quality_Not Sure  0.05"
      ]
     },
     "execution_count": 133,
     "metadata": {},
     "output_type": "execute_result"
    }
   ],
   "source": [
    "# Dropping high p-value features, updating model and recalculating VIF\n",
    "\n",
    "X_train_new = remove_feature('Tags_number not provided', X_train_glm)\n",
    "X_train_glm, glm = create_glm(X_train_new, y_train)\n",
    "print(glm.summary()) \n",
    "calculate_vif(X_train_glm)"
   ]
  },
  {
   "cell_type": "code",
   "execution_count": 134,
   "metadata": {},
   "outputs": [
    {
     "name": "stdout",
     "output_type": "stream",
     "text": [
      "                 Generalized Linear Model Regression Results                  \n",
      "==============================================================================\n",
      "Dep. Variable:              Converted   No. Observations:                 6468\n",
      "Model:                            GLM   Df Residuals:                     6450\n",
      "Model Family:                Binomial   Df Model:                           17\n",
      "Link Function:                  logit   Scale:                          1.0000\n",
      "Method:                          IRLS   Log-Likelihood:                -1264.5\n",
      "Date:                Sun, 03 Mar 2019   Deviance:                       2529.0\n",
      "Time:                        21:29:24   Pearson chi2:                 1.90e+04\n",
      "No. Iterations:                     8   Covariance Type:             nonrobust\n",
      "=================================================================================================================\n",
      "                                                    coef    std err          z      P>|z|      [0.025      0.975]\n",
      "-----------------------------------------------------------------------------------------------------------------\n",
      "const                                            -1.5868      0.271     -5.846      0.000      -2.119      -1.055\n",
      "Lead Source_Welingak Website                      2.8327      0.753      3.763      0.000       1.357       4.308\n",
      "Last Activity_SMS Sent                            2.1760      0.120     18.117      0.000       1.941       2.411\n",
      "What is your current occupation_Other            -2.5286      0.145    -17.478      0.000      -2.812      -2.245\n",
      "Tags_Busy                                         2.0910      0.291      7.176      0.000       1.520       2.662\n",
      "Tags_Closed by Horizzon                           8.7180      1.025      8.501      0.000       6.708      10.728\n",
      "Tags_Lost to EINS                                 9.6461      0.770     12.523      0.000       8.136      11.156\n",
      "Tags_Other                                        3.5435      0.241     14.717      0.000       3.072       4.015\n",
      "Tags_Ringing                                     -1.7049      0.291     -5.868      0.000      -2.274      -1.135\n",
      "Tags_Will revert after reading the email          5.7952      0.270     21.492      0.000       5.267       6.324\n",
      "Tags_invalid number                              -2.0327      1.042     -1.950      0.051      -4.075       0.010\n",
      "Tags_switched off                                -2.1559      0.551     -3.910      0.000      -3.237      -1.075\n",
      "Lead Quality_Might be                            -1.2670      0.283     -4.479      0.000      -1.822      -0.713\n",
      "Lead Quality_Not Sure                            -1.4665      0.288     -5.097      0.000      -2.030      -0.903\n",
      "Lead Quality_Worst                               -3.3112      0.722     -4.584      0.000      -4.727      -1.896\n",
      "Last Notable Activity_Email Link Clicked         -1.3229      0.472     -2.802      0.005      -2.248      -0.398\n",
      "Last Notable Activity_Modified                   -1.5657      0.122    -12.858      0.000      -1.804      -1.327\n",
      "Last Notable Activity_Olark Chat Conversation    -1.1654      0.416     -2.804      0.005      -1.980      -0.351\n",
      "=================================================================================================================\n"
     ]
    },
    {
     "data": {
      "text/html": [
       "<div>\n",
       "<style scoped>\n",
       "    .dataframe tbody tr th:only-of-type {\n",
       "        vertical-align: middle;\n",
       "    }\n",
       "\n",
       "    .dataframe tbody tr th {\n",
       "        vertical-align: top;\n",
       "    }\n",
       "\n",
       "    .dataframe thead th {\n",
       "        text-align: right;\n",
       "    }\n",
       "</style>\n",
       "<table border=\"1\" class=\"dataframe\">\n",
       "  <thead>\n",
       "    <tr style=\"text-align: right;\">\n",
       "      <th></th>\n",
       "      <th>Features</th>\n",
       "      <th>VIF</th>\n",
       "    </tr>\n",
       "  </thead>\n",
       "  <tbody>\n",
       "    <tr>\n",
       "      <th>10</th>\n",
       "      <td>Tags_switched off</td>\n",
       "      <td>1.19</td>\n",
       "    </tr>\n",
       "    <tr>\n",
       "      <th>3</th>\n",
       "      <td>Tags_Busy</td>\n",
       "      <td>1.16</td>\n",
       "    </tr>\n",
       "    <tr>\n",
       "      <th>0</th>\n",
       "      <td>Lead Source_Welingak Website</td>\n",
       "      <td>1.12</td>\n",
       "    </tr>\n",
       "    <tr>\n",
       "      <th>5</th>\n",
       "      <td>Tags_Lost to EINS</td>\n",
       "      <td>1.11</td>\n",
       "    </tr>\n",
       "    <tr>\n",
       "      <th>4</th>\n",
       "      <td>Tags_Closed by Horizzon</td>\n",
       "      <td>1.08</td>\n",
       "    </tr>\n",
       "    <tr>\n",
       "      <th>16</th>\n",
       "      <td>Last Notable Activity_Olark Chat Conversation</td>\n",
       "      <td>1.06</td>\n",
       "    </tr>\n",
       "    <tr>\n",
       "      <th>9</th>\n",
       "      <td>Tags_invalid number</td>\n",
       "      <td>1.05</td>\n",
       "    </tr>\n",
       "    <tr>\n",
       "      <th>14</th>\n",
       "      <td>Last Notable Activity_Email Link Clicked</td>\n",
       "      <td>1.05</td>\n",
       "    </tr>\n",
       "    <tr>\n",
       "      <th>13</th>\n",
       "      <td>Lead Quality_Worst</td>\n",
       "      <td>0.43</td>\n",
       "    </tr>\n",
       "    <tr>\n",
       "      <th>2</th>\n",
       "      <td>What is your current occupation_Other</td>\n",
       "      <td>0.26</td>\n",
       "    </tr>\n",
       "    <tr>\n",
       "      <th>8</th>\n",
       "      <td>Tags_Will revert after reading the email</td>\n",
       "      <td>0.21</td>\n",
       "    </tr>\n",
       "    <tr>\n",
       "      <th>7</th>\n",
       "      <td>Tags_Ringing</td>\n",
       "      <td>0.18</td>\n",
       "    </tr>\n",
       "    <tr>\n",
       "      <th>1</th>\n",
       "      <td>Last Activity_SMS Sent</td>\n",
       "      <td>0.14</td>\n",
       "    </tr>\n",
       "    <tr>\n",
       "      <th>6</th>\n",
       "      <td>Tags_Other</td>\n",
       "      <td>0.13</td>\n",
       "    </tr>\n",
       "    <tr>\n",
       "      <th>11</th>\n",
       "      <td>Lead Quality_Might be</td>\n",
       "      <td>0.13</td>\n",
       "    </tr>\n",
       "    <tr>\n",
       "      <th>15</th>\n",
       "      <td>Last Notable Activity_Modified</td>\n",
       "      <td>0.06</td>\n",
       "    </tr>\n",
       "    <tr>\n",
       "      <th>12</th>\n",
       "      <td>Lead Quality_Not Sure</td>\n",
       "      <td>0.05</td>\n",
       "    </tr>\n",
       "  </tbody>\n",
       "</table>\n",
       "</div>"
      ],
      "text/plain": [
       "                                         Features   VIF\n",
       "10                              Tags_switched off  1.19\n",
       "3                                       Tags_Busy  1.16\n",
       "0                    Lead Source_Welingak Website  1.12\n",
       "5                               Tags_Lost to EINS  1.11\n",
       "4                         Tags_Closed by Horizzon  1.08\n",
       "16  Last Notable Activity_Olark Chat Conversation  1.06\n",
       "9                             Tags_invalid number  1.05\n",
       "14       Last Notable Activity_Email Link Clicked  1.05\n",
       "13                             Lead Quality_Worst  0.43\n",
       "2           What is your current occupation_Other  0.26\n",
       "8        Tags_Will revert after reading the email  0.21\n",
       "7                                    Tags_Ringing  0.18\n",
       "1                          Last Activity_SMS Sent  0.14\n",
       "6                                      Tags_Other  0.13\n",
       "11                          Lead Quality_Might be  0.13\n",
       "15                 Last Notable Activity_Modified  0.06\n",
       "12                          Lead Quality_Not Sure  0.05"
      ]
     },
     "execution_count": 134,
     "metadata": {},
     "output_type": "execute_result"
    }
   ],
   "source": [
    "# Dropping high p-value features, updating model and recalculating VIF\n",
    "\n",
    "X_train_new = remove_feature('Tags_wrong number given', X_train_glm)\n",
    "X_train_glm, glm = create_glm(X_train_new, y_train)\n",
    "print(glm.summary()) \n",
    "calculate_vif(X_train_glm)"
   ]
  },
  {
   "cell_type": "code",
   "execution_count": 135,
   "metadata": {},
   "outputs": [
    {
     "name": "stdout",
     "output_type": "stream",
     "text": [
      "                 Generalized Linear Model Regression Results                  \n",
      "==============================================================================\n",
      "Dep. Variable:              Converted   No. Observations:                 6468\n",
      "Model:                            GLM   Df Residuals:                     6451\n",
      "Model Family:                Binomial   Df Model:                           16\n",
      "Link Function:                  logit   Scale:                          1.0000\n",
      "Method:                          IRLS   Log-Likelihood:                -1267.9\n",
      "Date:                Sun, 03 Mar 2019   Deviance:                       2535.7\n",
      "Time:                        21:29:25   Pearson chi2:                 1.91e+04\n",
      "No. Iterations:                     8   Covariance Type:             nonrobust\n",
      "=================================================================================================================\n",
      "                                                    coef    std err          z      P>|z|      [0.025      0.975]\n",
      "-----------------------------------------------------------------------------------------------------------------\n",
      "const                                            -1.6775      0.273     -6.136      0.000      -2.213      -1.142\n",
      "Lead Source_Welingak Website                      2.8286      0.752      3.760      0.000       1.354       4.303\n",
      "Last Activity_SMS Sent                            2.1521      0.119     18.043      0.000       1.918       2.386\n",
      "What is your current occupation_Other            -2.5213      0.144    -17.484      0.000      -2.804      -2.239\n",
      "Tags_Busy                                         2.2555      0.288      7.845      0.000       1.692       2.819\n",
      "Tags_Closed by Horizzon                           8.8314      1.026      8.612      0.000       6.821      10.841\n",
      "Tags_Lost to EINS                                 9.7830      0.770     12.702      0.000       8.273      11.292\n",
      "Tags_Other                                        3.6976      0.238     15.513      0.000       3.230       4.165\n",
      "Tags_Ringing                                     -1.5335      0.286     -5.361      0.000      -2.094      -0.973\n",
      "Tags_Will revert after reading the email          5.9234      0.269     22.045      0.000       5.397       6.450\n",
      "Tags_switched off                                -1.9830      0.549     -3.613      0.000      -3.059      -0.907\n",
      "Lead Quality_Might be                            -1.3227      0.285     -4.646      0.000      -1.881      -0.765\n",
      "Lead Quality_Not Sure                            -1.5305      0.289     -5.291      0.000      -2.098      -0.964\n",
      "Lead Quality_Worst                               -3.3721      0.724     -4.659      0.000      -4.791      -1.953\n",
      "Last Notable Activity_Email Link Clicked         -1.3170      0.473     -2.787      0.005      -2.243      -0.391\n",
      "Last Notable Activity_Modified                   -1.5511      0.122    -12.749      0.000      -1.790      -1.313\n",
      "Last Notable Activity_Olark Chat Conversation    -1.1618      0.416     -2.795      0.005      -1.976      -0.347\n",
      "=================================================================================================================\n"
     ]
    },
    {
     "data": {
      "text/html": [
       "<div>\n",
       "<style scoped>\n",
       "    .dataframe tbody tr th:only-of-type {\n",
       "        vertical-align: middle;\n",
       "    }\n",
       "\n",
       "    .dataframe tbody tr th {\n",
       "        vertical-align: top;\n",
       "    }\n",
       "\n",
       "    .dataframe thead th {\n",
       "        text-align: right;\n",
       "    }\n",
       "</style>\n",
       "<table border=\"1\" class=\"dataframe\">\n",
       "  <thead>\n",
       "    <tr style=\"text-align: right;\">\n",
       "      <th></th>\n",
       "      <th>Features</th>\n",
       "      <th>VIF</th>\n",
       "    </tr>\n",
       "  </thead>\n",
       "  <tbody>\n",
       "    <tr>\n",
       "      <th>9</th>\n",
       "      <td>Tags_switched off</td>\n",
       "      <td>1.19</td>\n",
       "    </tr>\n",
       "    <tr>\n",
       "      <th>3</th>\n",
       "      <td>Tags_Busy</td>\n",
       "      <td>1.15</td>\n",
       "    </tr>\n",
       "    <tr>\n",
       "      <th>0</th>\n",
       "      <td>Lead Source_Welingak Website</td>\n",
       "      <td>1.12</td>\n",
       "    </tr>\n",
       "    <tr>\n",
       "      <th>5</th>\n",
       "      <td>Tags_Lost to EINS</td>\n",
       "      <td>1.11</td>\n",
       "    </tr>\n",
       "    <tr>\n",
       "      <th>4</th>\n",
       "      <td>Tags_Closed by Horizzon</td>\n",
       "      <td>1.08</td>\n",
       "    </tr>\n",
       "    <tr>\n",
       "      <th>15</th>\n",
       "      <td>Last Notable Activity_Olark Chat Conversation</td>\n",
       "      <td>1.06</td>\n",
       "    </tr>\n",
       "    <tr>\n",
       "      <th>13</th>\n",
       "      <td>Last Notable Activity_Email Link Clicked</td>\n",
       "      <td>1.05</td>\n",
       "    </tr>\n",
       "    <tr>\n",
       "      <th>12</th>\n",
       "      <td>Lead Quality_Worst</td>\n",
       "      <td>0.43</td>\n",
       "    </tr>\n",
       "    <tr>\n",
       "      <th>2</th>\n",
       "      <td>What is your current occupation_Other</td>\n",
       "      <td>0.26</td>\n",
       "    </tr>\n",
       "    <tr>\n",
       "      <th>8</th>\n",
       "      <td>Tags_Will revert after reading the email</td>\n",
       "      <td>0.21</td>\n",
       "    </tr>\n",
       "    <tr>\n",
       "      <th>7</th>\n",
       "      <td>Tags_Ringing</td>\n",
       "      <td>0.18</td>\n",
       "    </tr>\n",
       "    <tr>\n",
       "      <th>1</th>\n",
       "      <td>Last Activity_SMS Sent</td>\n",
       "      <td>0.14</td>\n",
       "    </tr>\n",
       "    <tr>\n",
       "      <th>6</th>\n",
       "      <td>Tags_Other</td>\n",
       "      <td>0.13</td>\n",
       "    </tr>\n",
       "    <tr>\n",
       "      <th>10</th>\n",
       "      <td>Lead Quality_Might be</td>\n",
       "      <td>0.13</td>\n",
       "    </tr>\n",
       "    <tr>\n",
       "      <th>14</th>\n",
       "      <td>Last Notable Activity_Modified</td>\n",
       "      <td>0.06</td>\n",
       "    </tr>\n",
       "    <tr>\n",
       "      <th>11</th>\n",
       "      <td>Lead Quality_Not Sure</td>\n",
       "      <td>0.04</td>\n",
       "    </tr>\n",
       "  </tbody>\n",
       "</table>\n",
       "</div>"
      ],
      "text/plain": [
       "                                         Features   VIF\n",
       "9                               Tags_switched off  1.19\n",
       "3                                       Tags_Busy  1.15\n",
       "0                    Lead Source_Welingak Website  1.12\n",
       "5                               Tags_Lost to EINS  1.11\n",
       "4                         Tags_Closed by Horizzon  1.08\n",
       "15  Last Notable Activity_Olark Chat Conversation  1.06\n",
       "13       Last Notable Activity_Email Link Clicked  1.05\n",
       "12                             Lead Quality_Worst  0.43\n",
       "2           What is your current occupation_Other  0.26\n",
       "8        Tags_Will revert after reading the email  0.21\n",
       "7                                    Tags_Ringing  0.18\n",
       "1                          Last Activity_SMS Sent  0.14\n",
       "6                                      Tags_Other  0.13\n",
       "10                          Lead Quality_Might be  0.13\n",
       "14                 Last Notable Activity_Modified  0.06\n",
       "11                          Lead Quality_Not Sure  0.04"
      ]
     },
     "execution_count": 135,
     "metadata": {},
     "output_type": "execute_result"
    }
   ],
   "source": [
    "# Dropping high p-value features, updating model and recalculating VIF\n",
    "\n",
    "X_train_new = remove_feature('Tags_invalid number', X_train_glm)\n",
    "X_train_glm, glm = create_glm(X_train_new, y_train)\n",
    "print(glm.summary()) \n",
    "calculate_vif(X_train_glm)"
   ]
  },
  {
   "cell_type": "code",
   "execution_count": 136,
   "metadata": {},
   "outputs": [
    {
     "data": {
      "text/plain": [
       "1871    0.008649\n",
       "6795    0.619991\n",
       "3516    0.008649\n",
       "8105    0.084588\n",
       "3934    0.257011\n",
       "4844    0.993790\n",
       "3297    0.008649\n",
       "8071    0.996326\n",
       "987     0.027044\n",
       "7423    0.993790\n",
       "dtype: float64"
      ]
     },
     "execution_count": 136,
     "metadata": {},
     "output_type": "execute_result"
    }
   ],
   "source": [
    "# Getting the predicted values on the train set\n",
    "y_train_pred = glm.predict(X_train_glm)\n",
    "y_train_pred[:10]"
   ]
  },
  {
   "cell_type": "code",
   "execution_count": 137,
   "metadata": {},
   "outputs": [
    {
     "data": {
      "text/plain": [
       "array([0.00864931, 0.61999078, 0.00864931, 0.08458771, 0.25701102,\n",
       "       0.99378965, 0.00864931, 0.99632593, 0.02704446, 0.99378965])"
      ]
     },
     "execution_count": 137,
     "metadata": {},
     "output_type": "execute_result"
    }
   ],
   "source": [
    "y_train_pred = y_train_pred.values.reshape(-1)\n",
    "y_train_pred[:10]"
   ]
  },
  {
   "cell_type": "markdown",
   "metadata": {},
   "source": [
    "#### Creating a dataframe with the actual Converted flag and the predicted probabilities"
   ]
  },
  {
   "cell_type": "code",
   "execution_count": 138,
   "metadata": {},
   "outputs": [
    {
     "data": {
      "text/html": [
       "<div>\n",
       "<style scoped>\n",
       "    .dataframe tbody tr th:only-of-type {\n",
       "        vertical-align: middle;\n",
       "    }\n",
       "\n",
       "    .dataframe tbody tr th {\n",
       "        vertical-align: top;\n",
       "    }\n",
       "\n",
       "    .dataframe thead th {\n",
       "        text-align: right;\n",
       "    }\n",
       "</style>\n",
       "<table border=\"1\" class=\"dataframe\">\n",
       "  <thead>\n",
       "    <tr style=\"text-align: right;\">\n",
       "      <th></th>\n",
       "      <th>Converted</th>\n",
       "      <th>Converted_Prob</th>\n",
       "      <th>Prospect ID</th>\n",
       "    </tr>\n",
       "  </thead>\n",
       "  <tbody>\n",
       "    <tr>\n",
       "      <th>0</th>\n",
       "      <td>0</td>\n",
       "      <td>0.008649</td>\n",
       "      <td>1871</td>\n",
       "    </tr>\n",
       "    <tr>\n",
       "      <th>1</th>\n",
       "      <td>0</td>\n",
       "      <td>0.619991</td>\n",
       "      <td>6795</td>\n",
       "    </tr>\n",
       "    <tr>\n",
       "      <th>2</th>\n",
       "      <td>0</td>\n",
       "      <td>0.008649</td>\n",
       "      <td>3516</td>\n",
       "    </tr>\n",
       "    <tr>\n",
       "      <th>3</th>\n",
       "      <td>0</td>\n",
       "      <td>0.084588</td>\n",
       "      <td>8105</td>\n",
       "    </tr>\n",
       "    <tr>\n",
       "      <th>4</th>\n",
       "      <td>0</td>\n",
       "      <td>0.257011</td>\n",
       "      <td>3934</td>\n",
       "    </tr>\n",
       "  </tbody>\n",
       "</table>\n",
       "</div>"
      ],
      "text/plain": [
       "   Converted  Converted_Prob  Prospect ID\n",
       "0          0        0.008649         1871\n",
       "1          0        0.619991         6795\n",
       "2          0        0.008649         3516\n",
       "3          0        0.084588         8105\n",
       "4          0        0.257011         3934"
      ]
     },
     "execution_count": 138,
     "metadata": {},
     "output_type": "execute_result"
    }
   ],
   "source": [
    "y_train_pred_final = pd.DataFrame({'Converted':y_train.values, 'Converted_Prob':y_train_pred})\n",
    "y_train_pred_final['Prospect ID'] = y_train.index\n",
    "y_train_pred_final.head()"
   ]
  },
  {
   "cell_type": "markdown",
   "metadata": {},
   "source": [
    "##### Creating new column 'Lead Score' = 100xConverted_Prob"
   ]
  },
  {
   "cell_type": "code",
   "execution_count": 139,
   "metadata": {},
   "outputs": [
    {
     "data": {
      "text/html": [
       "<div>\n",
       "<style scoped>\n",
       "    .dataframe tbody tr th:only-of-type {\n",
       "        vertical-align: middle;\n",
       "    }\n",
       "\n",
       "    .dataframe tbody tr th {\n",
       "        vertical-align: top;\n",
       "    }\n",
       "\n",
       "    .dataframe thead th {\n",
       "        text-align: right;\n",
       "    }\n",
       "</style>\n",
       "<table border=\"1\" class=\"dataframe\">\n",
       "  <thead>\n",
       "    <tr style=\"text-align: right;\">\n",
       "      <th></th>\n",
       "      <th>Converted</th>\n",
       "      <th>Converted_Prob</th>\n",
       "      <th>Prospect ID</th>\n",
       "      <th>Lead_Score</th>\n",
       "    </tr>\n",
       "  </thead>\n",
       "  <tbody>\n",
       "    <tr>\n",
       "      <th>0</th>\n",
       "      <td>0</td>\n",
       "      <td>0.008649</td>\n",
       "      <td>1871</td>\n",
       "      <td>0.864931</td>\n",
       "    </tr>\n",
       "    <tr>\n",
       "      <th>1</th>\n",
       "      <td>0</td>\n",
       "      <td>0.619991</td>\n",
       "      <td>6795</td>\n",
       "      <td>61.999078</td>\n",
       "    </tr>\n",
       "    <tr>\n",
       "      <th>2</th>\n",
       "      <td>0</td>\n",
       "      <td>0.008649</td>\n",
       "      <td>3516</td>\n",
       "      <td>0.864931</td>\n",
       "    </tr>\n",
       "    <tr>\n",
       "      <th>3</th>\n",
       "      <td>0</td>\n",
       "      <td>0.084588</td>\n",
       "      <td>8105</td>\n",
       "      <td>8.458771</td>\n",
       "    </tr>\n",
       "    <tr>\n",
       "      <th>4</th>\n",
       "      <td>0</td>\n",
       "      <td>0.257011</td>\n",
       "      <td>3934</td>\n",
       "      <td>25.701102</td>\n",
       "    </tr>\n",
       "  </tbody>\n",
       "</table>\n",
       "</div>"
      ],
      "text/plain": [
       "   Converted  Converted_Prob  Prospect ID  Lead_Score\n",
       "0          0        0.008649         1871    0.864931\n",
       "1          0        0.619991         6795   61.999078\n",
       "2          0        0.008649         3516    0.864931\n",
       "3          0        0.084588         8105    8.458771\n",
       "4          0        0.257011         3934   25.701102"
      ]
     },
     "execution_count": 139,
     "metadata": {},
     "output_type": "execute_result"
    }
   ],
   "source": [
    "y_train_pred_final['Lead_Score'] = y_train_pred_final['Converted_Prob']*100\n",
    "y_train_pred_final.head()"
   ]
  },
  {
   "cell_type": "markdown",
   "metadata": {},
   "source": [
    "#### Finding optimal cutoff probability for balanced sensitivity and specificity"
   ]
  },
  {
   "cell_type": "code",
   "execution_count": 140,
   "metadata": {},
   "outputs": [
    {
     "data": {
      "text/html": [
       "<div>\n",
       "<style scoped>\n",
       "    .dataframe tbody tr th:only-of-type {\n",
       "        vertical-align: middle;\n",
       "    }\n",
       "\n",
       "    .dataframe tbody tr th {\n",
       "        vertical-align: top;\n",
       "    }\n",
       "\n",
       "    .dataframe thead th {\n",
       "        text-align: right;\n",
       "    }\n",
       "</style>\n",
       "<table border=\"1\" class=\"dataframe\">\n",
       "  <thead>\n",
       "    <tr style=\"text-align: right;\">\n",
       "      <th></th>\n",
       "      <th>Converted</th>\n",
       "      <th>Converted_Prob</th>\n",
       "      <th>Prospect ID</th>\n",
       "      <th>Lead_Score</th>\n",
       "      <th>0.0</th>\n",
       "      <th>0.1</th>\n",
       "      <th>0.2</th>\n",
       "      <th>0.3</th>\n",
       "      <th>0.4</th>\n",
       "      <th>0.5</th>\n",
       "      <th>0.6</th>\n",
       "      <th>0.7</th>\n",
       "      <th>0.8</th>\n",
       "      <th>0.9</th>\n",
       "    </tr>\n",
       "  </thead>\n",
       "  <tbody>\n",
       "    <tr>\n",
       "      <th>0</th>\n",
       "      <td>0</td>\n",
       "      <td>0.008649</td>\n",
       "      <td>1871</td>\n",
       "      <td>0.864931</td>\n",
       "      <td>1</td>\n",
       "      <td>0</td>\n",
       "      <td>0</td>\n",
       "      <td>0</td>\n",
       "      <td>0</td>\n",
       "      <td>0</td>\n",
       "      <td>0</td>\n",
       "      <td>0</td>\n",
       "      <td>0</td>\n",
       "      <td>0</td>\n",
       "    </tr>\n",
       "    <tr>\n",
       "      <th>1</th>\n",
       "      <td>0</td>\n",
       "      <td>0.619991</td>\n",
       "      <td>6795</td>\n",
       "      <td>61.999078</td>\n",
       "      <td>1</td>\n",
       "      <td>1</td>\n",
       "      <td>1</td>\n",
       "      <td>1</td>\n",
       "      <td>1</td>\n",
       "      <td>1</td>\n",
       "      <td>1</td>\n",
       "      <td>0</td>\n",
       "      <td>0</td>\n",
       "      <td>0</td>\n",
       "    </tr>\n",
       "    <tr>\n",
       "      <th>2</th>\n",
       "      <td>0</td>\n",
       "      <td>0.008649</td>\n",
       "      <td>3516</td>\n",
       "      <td>0.864931</td>\n",
       "      <td>1</td>\n",
       "      <td>0</td>\n",
       "      <td>0</td>\n",
       "      <td>0</td>\n",
       "      <td>0</td>\n",
       "      <td>0</td>\n",
       "      <td>0</td>\n",
       "      <td>0</td>\n",
       "      <td>0</td>\n",
       "      <td>0</td>\n",
       "    </tr>\n",
       "    <tr>\n",
       "      <th>3</th>\n",
       "      <td>0</td>\n",
       "      <td>0.084588</td>\n",
       "      <td>8105</td>\n",
       "      <td>8.458771</td>\n",
       "      <td>1</td>\n",
       "      <td>0</td>\n",
       "      <td>0</td>\n",
       "      <td>0</td>\n",
       "      <td>0</td>\n",
       "      <td>0</td>\n",
       "      <td>0</td>\n",
       "      <td>0</td>\n",
       "      <td>0</td>\n",
       "      <td>0</td>\n",
       "    </tr>\n",
       "    <tr>\n",
       "      <th>4</th>\n",
       "      <td>0</td>\n",
       "      <td>0.257011</td>\n",
       "      <td>3934</td>\n",
       "      <td>25.701102</td>\n",
       "      <td>1</td>\n",
       "      <td>1</td>\n",
       "      <td>1</td>\n",
       "      <td>0</td>\n",
       "      <td>0</td>\n",
       "      <td>0</td>\n",
       "      <td>0</td>\n",
       "      <td>0</td>\n",
       "      <td>0</td>\n",
       "      <td>0</td>\n",
       "    </tr>\n",
       "  </tbody>\n",
       "</table>\n",
       "</div>"
      ],
      "text/plain": [
       "   Converted  Converted_Prob  Prospect ID  Lead_Score  0.0  0.1  0.2  0.3  \\\n",
       "0          0        0.008649         1871    0.864931    1    0    0    0   \n",
       "1          0        0.619991         6795   61.999078    1    1    1    1   \n",
       "2          0        0.008649         3516    0.864931    1    0    0    0   \n",
       "3          0        0.084588         8105    8.458771    1    0    0    0   \n",
       "4          0        0.257011         3934   25.701102    1    1    1    0   \n",
       "\n",
       "   0.4  0.5  0.6  0.7  0.8  0.9  \n",
       "0    0    0    0    0    0    0  \n",
       "1    1    1    1    0    0    0  \n",
       "2    0    0    0    0    0    0  \n",
       "3    0    0    0    0    0    0  \n",
       "4    0    0    0    0    0    0  "
      ]
     },
     "execution_count": 140,
     "metadata": {},
     "output_type": "execute_result"
    }
   ],
   "source": [
    "# creating columns with different probability cutoffs \n",
    "numbers = [float(x)/10 for x in range(10)]\n",
    "for i in numbers:\n",
    "    y_train_pred_final[i]= y_train_pred_final['Converted_Prob'].map(lambda x: 1 if x > i else 0)\n",
    "y_train_pred_final.head()"
   ]
  },
  {
   "cell_type": "code",
   "execution_count": 141,
   "metadata": {},
   "outputs": [
    {
     "name": "stdout",
     "output_type": "stream",
     "text": [
      "     probability  accuracy  sensitivity  specificity\n",
      "0.0          0.0  0.381262     1.000000     0.000000\n",
      "0.1          0.1  0.815553     0.971208     0.719640\n",
      "0.2          0.2  0.918058     0.934712     0.907796\n",
      "0.3          0.3  0.931509     0.914842     0.941779\n",
      "0.4          0.4  0.932437     0.911598     0.945277\n",
      "0.5          0.5  0.931509     0.907948     0.946027\n",
      "0.6          0.6  0.923160     0.858070     0.963268\n",
      "0.7          0.7  0.914038     0.810624     0.977761\n",
      "0.8          0.8  0.904607     0.768856     0.988256\n",
      "0.9          0.9  0.902134     0.759124     0.990255\n"
     ]
    }
   ],
   "source": [
    "# Calculating accuracy sensitivity and specificity for various probability cutoffs.\n",
    "from sklearn import metrics\n",
    "cutoff_df = pd.DataFrame( columns = ['probability','accuracy','sensitivity','specificity'])\n",
    "num = [0.0,0.1,0.2,0.3,0.4,0.5,0.6,0.7,0.8,0.9]\n",
    "for i in num:\n",
    "    cm1 = metrics.confusion_matrix(y_train_pred_final['Converted'], y_train_pred_final[i] )\n",
    "    total1=sum(sum(cm1))\n",
    "    accuracy = (cm1[0,0]+cm1[1,1])/total1\n",
    "    \n",
    "    specificity = cm1[0,0]/(cm1[0,0]+cm1[0,1])\n",
    "    sensitivity = cm1[1,1]/(cm1[1,0]+cm1[1,1])\n",
    "    cutoff_df.loc[i] =[ i ,accuracy,sensitivity,specificity]\n",
    "print(cutoff_df)"
   ]
  },
  {
   "cell_type": "code",
   "execution_count": 142,
   "metadata": {},
   "outputs": [
    {
     "data": {
      "image/png": "[encoded data removed]",
      "text/plain": [
       "<Figure size 432x288 with 1 Axes>"
      ]
     },
     "metadata": {
      "needs_background": "light"
     },
     "output_type": "display_data"
    }
   ],
   "source": [
    "# Plotting accuracy sensitivity and specificity for various probabilities.\n",
    "cutoff_df.plot.line(x='probability', y=['accuracy','sensitivity','specificity'])\n",
    "plt.show()"
   ]
  },
  {
   "cell_type": "markdown",
   "metadata": {},
   "source": [
    "#### From the curve above, 0.25 is the optimum point to take it as a cutoff probability."
   ]
  },
  {
   "cell_type": "code",
   "execution_count": 143,
   "metadata": {},
   "outputs": [
    {
     "data": {
      "text/html": [
       "<div>\n",
       "<style scoped>\n",
       "    .dataframe tbody tr th:only-of-type {\n",
       "        vertical-align: middle;\n",
       "    }\n",
       "\n",
       "    .dataframe tbody tr th {\n",
       "        vertical-align: top;\n",
       "    }\n",
       "\n",
       "    .dataframe thead th {\n",
       "        text-align: right;\n",
       "    }\n",
       "</style>\n",
       "<table border=\"1\" class=\"dataframe\">\n",
       "  <thead>\n",
       "    <tr style=\"text-align: right;\">\n",
       "      <th></th>\n",
       "      <th>Converted</th>\n",
       "      <th>Converted_Prob</th>\n",
       "      <th>Prospect ID</th>\n",
       "      <th>Lead_Score</th>\n",
       "      <th>0.0</th>\n",
       "      <th>0.1</th>\n",
       "      <th>0.2</th>\n",
       "      <th>0.3</th>\n",
       "      <th>0.4</th>\n",
       "      <th>0.5</th>\n",
       "      <th>0.6</th>\n",
       "      <th>0.7</th>\n",
       "      <th>0.8</th>\n",
       "      <th>0.9</th>\n",
       "      <th>Final_Predicted</th>\n",
       "    </tr>\n",
       "  </thead>\n",
       "  <tbody>\n",
       "    <tr>\n",
       "      <th>0</th>\n",
       "      <td>0</td>\n",
       "      <td>0.008649</td>\n",
       "      <td>1871</td>\n",
       "      <td>0.864931</td>\n",
       "      <td>1</td>\n",
       "      <td>0</td>\n",
       "      <td>0</td>\n",
       "      <td>0</td>\n",
       "      <td>0</td>\n",
       "      <td>0</td>\n",
       "      <td>0</td>\n",
       "      <td>0</td>\n",
       "      <td>0</td>\n",
       "      <td>0</td>\n",
       "      <td>0</td>\n",
       "    </tr>\n",
       "    <tr>\n",
       "      <th>1</th>\n",
       "      <td>0</td>\n",
       "      <td>0.619991</td>\n",
       "      <td>6795</td>\n",
       "      <td>61.999078</td>\n",
       "      <td>1</td>\n",
       "      <td>1</td>\n",
       "      <td>1</td>\n",
       "      <td>1</td>\n",
       "      <td>1</td>\n",
       "      <td>1</td>\n",
       "      <td>1</td>\n",
       "      <td>0</td>\n",
       "      <td>0</td>\n",
       "      <td>0</td>\n",
       "      <td>1</td>\n",
       "    </tr>\n",
       "    <tr>\n",
       "      <th>2</th>\n",
       "      <td>0</td>\n",
       "      <td>0.008649</td>\n",
       "      <td>3516</td>\n",
       "      <td>0.864931</td>\n",
       "      <td>1</td>\n",
       "      <td>0</td>\n",
       "      <td>0</td>\n",
       "      <td>0</td>\n",
       "      <td>0</td>\n",
       "      <td>0</td>\n",
       "      <td>0</td>\n",
       "      <td>0</td>\n",
       "      <td>0</td>\n",
       "      <td>0</td>\n",
       "      <td>0</td>\n",
       "    </tr>\n",
       "    <tr>\n",
       "      <th>3</th>\n",
       "      <td>0</td>\n",
       "      <td>0.084588</td>\n",
       "      <td>8105</td>\n",
       "      <td>8.458771</td>\n",
       "      <td>1</td>\n",
       "      <td>0</td>\n",
       "      <td>0</td>\n",
       "      <td>0</td>\n",
       "      <td>0</td>\n",
       "      <td>0</td>\n",
       "      <td>0</td>\n",
       "      <td>0</td>\n",
       "      <td>0</td>\n",
       "      <td>0</td>\n",
       "      <td>0</td>\n",
       "    </tr>\n",
       "    <tr>\n",
       "      <th>4</th>\n",
       "      <td>0</td>\n",
       "      <td>0.257011</td>\n",
       "      <td>3934</td>\n",
       "      <td>25.701102</td>\n",
       "      <td>1</td>\n",
       "      <td>1</td>\n",
       "      <td>1</td>\n",
       "      <td>0</td>\n",
       "      <td>0</td>\n",
       "      <td>0</td>\n",
       "      <td>0</td>\n",
       "      <td>0</td>\n",
       "      <td>0</td>\n",
       "      <td>0</td>\n",
       "      <td>1</td>\n",
       "    </tr>\n",
       "  </tbody>\n",
       "</table>\n",
       "</div>"
      ],
      "text/plain": [
       "   Converted  Converted_Prob  Prospect ID  Lead_Score  0.0  0.1  0.2  0.3  \\\n",
       "0          0        0.008649         1871    0.864931    1    0    0    0   \n",
       "1          0        0.619991         6795   61.999078    1    1    1    1   \n",
       "2          0        0.008649         3516    0.864931    1    0    0    0   \n",
       "3          0        0.084588         8105    8.458771    1    0    0    0   \n",
       "4          0        0.257011         3934   25.701102    1    1    1    0   \n",
       "\n",
       "   0.4  0.5  0.6  0.7  0.8  0.9  Final_Predicted  \n",
       "0    0    0    0    0    0    0                0  \n",
       "1    1    1    1    0    0    0                1  \n",
       "2    0    0    0    0    0    0                0  \n",
       "3    0    0    0    0    0    0                0  \n",
       "4    0    0    0    0    0    0                1  "
      ]
     },
     "execution_count": 143,
     "metadata": {},
     "output_type": "execute_result"
    }
   ],
   "source": [
    "y_train_pred_final['Final_Predicted'] = y_train_pred_final['Converted_Prob'].map( lambda x: 1 if x > 0.25 else 0)\n",
    "y_train_pred_final.head()"
   ]
  },
  {
   "cell_type": "code",
   "execution_count": 144,
   "metadata": {
    "scrolled": true
   },
   "outputs": [
    {
     "name": "stdout",
     "output_type": "stream",
     "text": [
      "Accuracy: 0.9180581323438466\n"
     ]
    }
   ],
   "source": [
    "# accuracy\n",
    "accuracy2 = metrics.accuracy_score(y_train_pred_final['Converted'], y_train_pred_final['Final_Predicted'])\n",
    "print('Accuracy:', accuracy2)"
   ]
  },
  {
   "cell_type": "code",
   "execution_count": 145,
   "metadata": {},
   "outputs": [
    {
     "name": "stdout",
     "output_type": "stream",
     "text": [
      "[[3633  369]\n",
      " [ 161 2305]]\n"
     ]
    }
   ],
   "source": [
    "# Confusion matrix \n",
    "confusion2 = metrics.confusion_matrix(y_train_pred_final['Converted'], y_train_pred_final['Final_Predicted'])\n",
    "print(confusion2)"
   ]
  },
  {
   "cell_type": "code",
   "execution_count": 146,
   "metadata": {},
   "outputs": [],
   "source": [
    "# Predicted     not_churn    churn\n",
    "# Actual\n",
    "# not_churn        3633      369\n",
    "# churn            161       2305  "
   ]
  },
  {
   "cell_type": "markdown",
   "metadata": {},
   "source": [
    "Other Metrics"
   ]
  },
  {
   "cell_type": "code",
   "execution_count": 147,
   "metadata": {},
   "outputs": [],
   "source": [
    "tp2 = confusion2[1,1] # true positive \n",
    "tn2 = confusion2[0,0] # true negatives\n",
    "fp2 = confusion2[0,1] # false positives\n",
    "fn2 = confusion2[1,0] # false negatives"
   ]
  },
  {
   "cell_type": "code",
   "execution_count": 148,
   "metadata": {},
   "outputs": [],
   "source": [
    "sensitivity2 = tp2/float(tp2 + fn2)\n",
    "specificity2 = tn2/float(tn2 + fp2)\n",
    "false_postive_rate2 = fp2/float(tn2 + fp2)\n",
    "positive_predictive_value2 = tp2/float(tp2 + fp2)\n",
    "negative_predictive_value2 = tn2/float(tn2 + fn2)"
   ]
  },
  {
   "cell_type": "code",
   "execution_count": 149,
   "metadata": {},
   "outputs": [
    {
     "name": "stdout",
     "output_type": "stream",
     "text": [
      "sensitivity: 0.9347120843471208\n",
      "specificity: 0.9077961019490255\n",
      "false_postive_rate 0.09220389805097451\n",
      "positive_predictive_value: 0.8620044876589379\n",
      "negative_predictive_value: 0.9575645756457565\n"
     ]
    }
   ],
   "source": [
    "print('sensitivity:', sensitivity2)\n",
    "print('specificity:', specificity2)\n",
    "print('false_postive_rate', false_postive_rate2)\n",
    "print('positive_predictive_value:', positive_predictive_value2)\n",
    "print('negative_predictive_value:', negative_predictive_value2)"
   ]
  },
  {
   "cell_type": "markdown",
   "metadata": {},
   "source": [
    "#### Precision and recall tradeoff"
   ]
  },
  {
   "cell_type": "code",
   "execution_count": 150,
   "metadata": {},
   "outputs": [],
   "source": [
    "# calculating precision and recall\n",
    "from sklearn.metrics import precision_score, recall_score\n",
    "precision2 = precision_score(y_train_pred_final['Converted'], y_train_pred_final['Final_Predicted'])\n",
    "recall2 = recall_score(y_train_pred_final['Converted'], y_train_pred_final['Final_Predicted'])"
   ]
  },
  {
   "cell_type": "code",
   "execution_count": 151,
   "metadata": {},
   "outputs": [
    {
     "name": "stdout",
     "output_type": "stream",
     "text": [
      "precision 0.8620044876589379\n",
      "recall 0.9347120843471208\n"
     ]
    }
   ],
   "source": [
    "print('precision', precision2)\n",
    "print('recall', recall2)"
   ]
  },
  {
   "cell_type": "code",
   "execution_count": 152,
   "metadata": {},
   "outputs": [],
   "source": [
    "# Precision and recall tradeoff\n",
    "from sklearn.metrics import precision_recall_curve\n",
    "p, r, thresholds = precision_recall_curve(y_train_pred_final['Converted'], y_train_pred_final['Converted_Prob'])"
   ]
  },
  {
   "cell_type": "code",
   "execution_count": 153,
   "metadata": {},
   "outputs": [
    {
     "data": {
      "image/png": "[encoded data removed]",
      "text/plain": [
       "<Figure size 432x288 with 1 Axes>"
      ]
     },
     "metadata": {
      "needs_background": "light"
     },
     "output_type": "display_data"
    }
   ],
   "source": [
    "plt.plot(thresholds, p[:-1], \"g-\")\n",
    "plt.plot(thresholds, r[:-1], \"r-\")\n",
    "plt.show()"
   ]
  },
  {
   "cell_type": "markdown",
   "metadata": {},
   "source": [
    "#### Plotting ROC curve"
   ]
  },
  {
   "cell_type": "code",
   "execution_count": 154,
   "metadata": {},
   "outputs": [],
   "source": [
    "def draw_roc( actual, probs ):\n",
    "    fpr, tpr, thresholds = metrics.roc_curve( actual, probs,\n",
    "                                              drop_intermediate = False )\n",
    "    auc_score = metrics.roc_auc_score( actual, probs )\n",
    "    plt.figure(figsize=(5, 5))\n",
    "    plt.plot( fpr, tpr, label='ROC curve (area = %0.2f)' % auc_score )\n",
    "    plt.plot([0, 1], [0, 1], 'k--')\n",
    "    plt.xlim([0.0, 1.0])\n",
    "    plt.ylim([0.0, 1.05])\n",
    "    plt.xlabel('False Positive Rate or [1 - True Negative Rate]')\n",
    "    plt.ylabel('True Positive Rate')\n",
    "    plt.title('ROC Curve')\n",
    "    plt.legend(loc=\"lower right\")\n",
    "    plt.show()\n",
    "\n",
    "    return None"
   ]
  },
  {
   "cell_type": "code",
   "execution_count": 155,
   "metadata": {},
   "outputs": [],
   "source": [
    "fpr, tpr, thresholds = metrics.roc_curve(y_train_pred_final['Converted'], y_train_pred_final['Converted_Prob'], drop_intermediate = False)"
   ]
  },
  {
   "cell_type": "code",
   "execution_count": 156,
   "metadata": {},
   "outputs": [
    {
     "data": {
      "image/png": "[encoded data removed]",
      "text/plain": [
       "<Figure size 360x360 with 1 Axes>"
      ]
     },
     "metadata": {
      "needs_background": "light"
     },
     "output_type": "display_data"
    }
   ],
   "source": [
    "draw_roc(y_train_pred_final['Converted'], y_train_pred_final['Converted_Prob'])"
   ]
  },
  {
   "cell_type": "markdown",
   "metadata": {},
   "source": [
    "### making predictions on the test set"
   ]
  },
  {
   "cell_type": "code",
   "execution_count": 157,
   "metadata": {},
   "outputs": [
    {
     "name": "stderr",
     "output_type": "stream",
     "text": [
      "C:\\Users\\Administrator\\Anaconda3\\lib\\site-packages\\ipykernel_launcher.py:2: SettingWithCopyWarning: \n",
      "A value is trying to be set on a copy of a slice from a DataFrame.\n",
      "Try using .loc[row_indexer,col_indexer] = value instead\n",
      "\n",
      "See the caveats in the documentation: http://pandas.pydata.org/pandas-docs/stable/indexing.html#indexing-view-versus-copy\n",
      "  \n",
      "C:\\Users\\Administrator\\Anaconda3\\lib\\site-packages\\pandas\\core\\indexing.py:543: SettingWithCopyWarning: \n",
      "A value is trying to be set on a copy of a slice from a DataFrame.\n",
      "Try using .loc[row_indexer,col_indexer] = value instead\n",
      "\n",
      "See the caveats in the documentation: http://pandas.pydata.org/pandas-docs/stable/indexing.html#indexing-view-versus-copy\n",
      "  self.obj[item] = s\n"
     ]
    }
   ],
   "source": [
    "# scaling\n",
    "X_test[['TotalVisits', 'Total Time Spent on Website', 'Page Views Per Visit']] = scaler.transform(X_test[['TotalVisits', 'Total Time Spent on Website', 'Page Views Per Visit']])"
   ]
  },
  {
   "cell_type": "code",
   "execution_count": 158,
   "metadata": {},
   "outputs": [
    {
     "data": {
      "text/html": [
       "<div>\n",
       "<style scoped>\n",
       "    .dataframe tbody tr th:only-of-type {\n",
       "        vertical-align: middle;\n",
       "    }\n",
       "\n",
       "    .dataframe tbody tr th {\n",
       "        vertical-align: top;\n",
       "    }\n",
       "\n",
       "    .dataframe thead th {\n",
       "        text-align: right;\n",
       "    }\n",
       "</style>\n",
       "<table border=\"1\" class=\"dataframe\">\n",
       "  <thead>\n",
       "    <tr style=\"text-align: right;\">\n",
       "      <th></th>\n",
       "      <th>Lead Source_Welingak Website</th>\n",
       "      <th>Last Activity_SMS Sent</th>\n",
       "      <th>What is your current occupation_Other</th>\n",
       "      <th>Tags_Busy</th>\n",
       "      <th>Tags_Closed by Horizzon</th>\n",
       "      <th>Tags_Lateral student</th>\n",
       "      <th>Tags_Lost to EINS</th>\n",
       "      <th>Tags_Other</th>\n",
       "      <th>Tags_Ringing</th>\n",
       "      <th>Tags_Will revert after reading the email</th>\n",
       "      <th>Tags_invalid number</th>\n",
       "      <th>Tags_number not provided</th>\n",
       "      <th>Tags_switched off</th>\n",
       "      <th>Tags_wrong number given</th>\n",
       "      <th>Lead Quality_Might be</th>\n",
       "      <th>Lead Quality_Not Sure</th>\n",
       "      <th>Lead Quality_Worst</th>\n",
       "      <th>Last Notable Activity_Email Link Clicked</th>\n",
       "      <th>Last Notable Activity_Modified</th>\n",
       "      <th>Last Notable Activity_Olark Chat Conversation</th>\n",
       "    </tr>\n",
       "  </thead>\n",
       "  <tbody>\n",
       "    <tr>\n",
       "      <th>4269</th>\n",
       "      <td>0</td>\n",
       "      <td>1</td>\n",
       "      <td>1</td>\n",
       "      <td>0</td>\n",
       "      <td>0</td>\n",
       "      <td>0</td>\n",
       "      <td>0</td>\n",
       "      <td>1</td>\n",
       "      <td>0</td>\n",
       "      <td>0</td>\n",
       "      <td>0</td>\n",
       "      <td>0</td>\n",
       "      <td>0</td>\n",
       "      <td>0</td>\n",
       "      <td>0</td>\n",
       "      <td>1</td>\n",
       "      <td>0</td>\n",
       "      <td>0</td>\n",
       "      <td>0</td>\n",
       "      <td>0</td>\n",
       "    </tr>\n",
       "    <tr>\n",
       "      <th>2376</th>\n",
       "      <td>0</td>\n",
       "      <td>1</td>\n",
       "      <td>0</td>\n",
       "      <td>0</td>\n",
       "      <td>0</td>\n",
       "      <td>0</td>\n",
       "      <td>0</td>\n",
       "      <td>0</td>\n",
       "      <td>0</td>\n",
       "      <td>1</td>\n",
       "      <td>0</td>\n",
       "      <td>0</td>\n",
       "      <td>0</td>\n",
       "      <td>0</td>\n",
       "      <td>0</td>\n",
       "      <td>0</td>\n",
       "      <td>0</td>\n",
       "      <td>0</td>\n",
       "      <td>0</td>\n",
       "      <td>0</td>\n",
       "    </tr>\n",
       "    <tr>\n",
       "      <th>7766</th>\n",
       "      <td>0</td>\n",
       "      <td>0</td>\n",
       "      <td>0</td>\n",
       "      <td>0</td>\n",
       "      <td>0</td>\n",
       "      <td>0</td>\n",
       "      <td>0</td>\n",
       "      <td>0</td>\n",
       "      <td>0</td>\n",
       "      <td>1</td>\n",
       "      <td>0</td>\n",
       "      <td>0</td>\n",
       "      <td>0</td>\n",
       "      <td>0</td>\n",
       "      <td>1</td>\n",
       "      <td>0</td>\n",
       "      <td>0</td>\n",
       "      <td>0</td>\n",
       "      <td>0</td>\n",
       "      <td>0</td>\n",
       "    </tr>\n",
       "    <tr>\n",
       "      <th>9199</th>\n",
       "      <td>0</td>\n",
       "      <td>0</td>\n",
       "      <td>0</td>\n",
       "      <td>0</td>\n",
       "      <td>0</td>\n",
       "      <td>0</td>\n",
       "      <td>0</td>\n",
       "      <td>0</td>\n",
       "      <td>0</td>\n",
       "      <td>0</td>\n",
       "      <td>0</td>\n",
       "      <td>0</td>\n",
       "      <td>0</td>\n",
       "      <td>0</td>\n",
       "      <td>0</td>\n",
       "      <td>1</td>\n",
       "      <td>0</td>\n",
       "      <td>0</td>\n",
       "      <td>1</td>\n",
       "      <td>0</td>\n",
       "    </tr>\n",
       "    <tr>\n",
       "      <th>4359</th>\n",
       "      <td>0</td>\n",
       "      <td>0</td>\n",
       "      <td>0</td>\n",
       "      <td>0</td>\n",
       "      <td>0</td>\n",
       "      <td>0</td>\n",
       "      <td>0</td>\n",
       "      <td>0</td>\n",
       "      <td>0</td>\n",
       "      <td>1</td>\n",
       "      <td>0</td>\n",
       "      <td>0</td>\n",
       "      <td>0</td>\n",
       "      <td>0</td>\n",
       "      <td>0</td>\n",
       "      <td>0</td>\n",
       "      <td>0</td>\n",
       "      <td>0</td>\n",
       "      <td>0</td>\n",
       "      <td>0</td>\n",
       "    </tr>\n",
       "  </tbody>\n",
       "</table>\n",
       "</div>"
      ],
      "text/plain": [
       "      Lead Source_Welingak Website  Last Activity_SMS Sent  \\\n",
       "4269                             0                       1   \n",
       "2376                             0                       1   \n",
       "7766                             0                       0   \n",
       "9199                             0                       0   \n",
       "4359                             0                       0   \n",
       "\n",
       "      What is your current occupation_Other  Tags_Busy  \\\n",
       "4269                                      1          0   \n",
       "2376                                      0          0   \n",
       "7766                                      0          0   \n",
       "9199                                      0          0   \n",
       "4359                                      0          0   \n",
       "\n",
       "      Tags_Closed by Horizzon  Tags_Lateral student  Tags_Lost to EINS  \\\n",
       "4269                        0                     0                  0   \n",
       "2376                        0                     0                  0   \n",
       "7766                        0                     0                  0   \n",
       "9199                        0                     0                  0   \n",
       "4359                        0                     0                  0   \n",
       "\n",
       "      Tags_Other  Tags_Ringing  Tags_Will revert after reading the email  \\\n",
       "4269           1             0                                         0   \n",
       "2376           0             0                                         1   \n",
       "7766           0             0                                         1   \n",
       "9199           0             0                                         0   \n",
       "4359           0             0                                         1   \n",
       "\n",
       "      Tags_invalid number  Tags_number not provided  Tags_switched off  \\\n",
       "4269                    0                         0                  0   \n",
       "2376                    0                         0                  0   \n",
       "7766                    0                         0                  0   \n",
       "9199                    0                         0                  0   \n",
       "4359                    0                         0                  0   \n",
       "\n",
       "      Tags_wrong number given  Lead Quality_Might be  Lead Quality_Not Sure  \\\n",
       "4269                        0                      0                      1   \n",
       "2376                        0                      0                      0   \n",
       "7766                        0                      1                      0   \n",
       "9199                        0                      0                      1   \n",
       "4359                        0                      0                      0   \n",
       "\n",
       "      Lead Quality_Worst  Last Notable Activity_Email Link Clicked  \\\n",
       "4269                   0                                         0   \n",
       "2376                   0                                         0   \n",
       "7766                   0                                         0   \n",
       "9199                   0                                         0   \n",
       "4359                   0                                         0   \n",
       "\n",
       "      Last Notable Activity_Modified  \\\n",
       "4269                               0   \n",
       "2376                               0   \n",
       "7766                               0   \n",
       "9199                               1   \n",
       "4359                               0   \n",
       "\n",
       "      Last Notable Activity_Olark Chat Conversation  \n",
       "4269                                              0  \n",
       "2376                                              0  \n",
       "7766                                              0  \n",
       "9199                                              0  \n",
       "4359                                              0  "
      ]
     },
     "execution_count": 158,
     "metadata": {},
     "output_type": "execute_result"
    }
   ],
   "source": [
    "X_test = X_test[col]\n",
    "X_test.head()"
   ]
  },
  {
   "cell_type": "code",
   "execution_count": 159,
   "metadata": {},
   "outputs": [],
   "source": [
    "# adding constant\n",
    "X_test_sm = sm.add_constant(X_test)"
   ]
  },
  {
   "cell_type": "code",
   "execution_count": 160,
   "metadata": {},
   "outputs": [],
   "source": [
    "# predicting\n",
    "y_test_pred = res.predict(X_test_sm)"
   ]
  },
  {
   "cell_type": "code",
   "execution_count": 161,
   "metadata": {},
   "outputs": [],
   "source": [
    "# Converting y_pred to a dataframe\n",
    "y_pred_1 = pd.DataFrame(y_test_pred)"
   ]
  },
  {
   "cell_type": "code",
   "execution_count": 162,
   "metadata": {},
   "outputs": [
    {
     "data": {
      "text/html": [
       "<div>\n",
       "<style scoped>\n",
       "    .dataframe tbody tr th:only-of-type {\n",
       "        vertical-align: middle;\n",
       "    }\n",
       "\n",
       "    .dataframe tbody tr th {\n",
       "        vertical-align: top;\n",
       "    }\n",
       "\n",
       "    .dataframe thead th {\n",
       "        text-align: right;\n",
       "    }\n",
       "</style>\n",
       "<table border=\"1\" class=\"dataframe\">\n",
       "  <thead>\n",
       "    <tr style=\"text-align: right;\">\n",
       "      <th></th>\n",
       "      <th>0</th>\n",
       "    </tr>\n",
       "  </thead>\n",
       "  <tbody>\n",
       "    <tr>\n",
       "      <th>4269</th>\n",
       "      <td>0.539058</td>\n",
       "    </tr>\n",
       "    <tr>\n",
       "      <th>2376</th>\n",
       "      <td>0.998284</td>\n",
       "    </tr>\n",
       "    <tr>\n",
       "      <th>7766</th>\n",
       "      <td>0.950947</td>\n",
       "    </tr>\n",
       "    <tr>\n",
       "      <th>9199</th>\n",
       "      <td>0.011152</td>\n",
       "    </tr>\n",
       "    <tr>\n",
       "      <th>4359</th>\n",
       "      <td>0.984823</td>\n",
       "    </tr>\n",
       "  </tbody>\n",
       "</table>\n",
       "</div>"
      ],
      "text/plain": [
       "             0\n",
       "4269  0.539058\n",
       "2376  0.998284\n",
       "7766  0.950947\n",
       "9199  0.011152\n",
       "4359  0.984823"
      ]
     },
     "execution_count": 162,
     "metadata": {},
     "output_type": "execute_result"
    }
   ],
   "source": [
    "y_pred_1.head()"
   ]
  },
  {
   "cell_type": "code",
   "execution_count": 163,
   "metadata": {},
   "outputs": [],
   "source": [
    "# Converting y_test to dataframe\n",
    "y_test_df = pd.DataFrame(y_test)"
   ]
  },
  {
   "cell_type": "code",
   "execution_count": 164,
   "metadata": {},
   "outputs": [],
   "source": [
    "# Putting CustID to index\n",
    "y_test_df['Prospect ID'] = y_test_df.index"
   ]
  },
  {
   "cell_type": "code",
   "execution_count": 165,
   "metadata": {},
   "outputs": [],
   "source": [
    "# Removing index for both dataframes to append them side by side \n",
    "y_pred_1.reset_index(drop=True, inplace=True)\n",
    "y_test_df.reset_index(drop=True, inplace=True)"
   ]
  },
  {
   "cell_type": "code",
   "execution_count": 166,
   "metadata": {},
   "outputs": [],
   "source": [
    "# Appending y_test_df and y_pred_1\n",
    "y_pred_final = pd.concat([y_test_df, y_pred_1],axis=1)"
   ]
  },
  {
   "cell_type": "code",
   "execution_count": 167,
   "metadata": {},
   "outputs": [
    {
     "data": {
      "text/html": [
       "<div>\n",
       "<style scoped>\n",
       "    .dataframe tbody tr th:only-of-type {\n",
       "        vertical-align: middle;\n",
       "    }\n",
       "\n",
       "    .dataframe tbody tr th {\n",
       "        vertical-align: top;\n",
       "    }\n",
       "\n",
       "    .dataframe thead th {\n",
       "        text-align: right;\n",
       "    }\n",
       "</style>\n",
       "<table border=\"1\" class=\"dataframe\">\n",
       "  <thead>\n",
       "    <tr style=\"text-align: right;\">\n",
       "      <th></th>\n",
       "      <th>Converted</th>\n",
       "      <th>Prospect ID</th>\n",
       "      <th>0</th>\n",
       "    </tr>\n",
       "  </thead>\n",
       "  <tbody>\n",
       "    <tr>\n",
       "      <th>0</th>\n",
       "      <td>1</td>\n",
       "      <td>4269</td>\n",
       "      <td>0.539058</td>\n",
       "    </tr>\n",
       "    <tr>\n",
       "      <th>1</th>\n",
       "      <td>1</td>\n",
       "      <td>2376</td>\n",
       "      <td>0.998284</td>\n",
       "    </tr>\n",
       "    <tr>\n",
       "      <th>2</th>\n",
       "      <td>1</td>\n",
       "      <td>7766</td>\n",
       "      <td>0.950947</td>\n",
       "    </tr>\n",
       "    <tr>\n",
       "      <th>3</th>\n",
       "      <td>0</td>\n",
       "      <td>9199</td>\n",
       "      <td>0.011152</td>\n",
       "    </tr>\n",
       "    <tr>\n",
       "      <th>4</th>\n",
       "      <td>1</td>\n",
       "      <td>4359</td>\n",
       "      <td>0.984823</td>\n",
       "    </tr>\n",
       "  </tbody>\n",
       "</table>\n",
       "</div>"
      ],
      "text/plain": [
       "   Converted  Prospect ID         0\n",
       "0          1         4269  0.539058\n",
       "1          1         2376  0.998284\n",
       "2          1         7766  0.950947\n",
       "3          0         9199  0.011152\n",
       "4          1         4359  0.984823"
      ]
     },
     "execution_count": 167,
     "metadata": {},
     "output_type": "execute_result"
    }
   ],
   "source": [
    "y_pred_final.head()"
   ]
  },
  {
   "cell_type": "code",
   "execution_count": 168,
   "metadata": {},
   "outputs": [],
   "source": [
    "# Renaming the column \n",
    "y_pred_final= y_pred_final.rename(columns={ 0 : 'Converted_Prob'})"
   ]
  },
  {
   "cell_type": "code",
   "execution_count": 169,
   "metadata": {},
   "outputs": [],
   "source": [
    "# Rearranging the columns\n",
    "y_pred_final = y_pred_final.reindex(['Prospect ID','Converted','Converted_Prob'], axis=1)"
   ]
  },
  {
   "cell_type": "code",
   "execution_count": 170,
   "metadata": {},
   "outputs": [
    {
     "data": {
      "text/html": [
       "<div>\n",
       "<style scoped>\n",
       "    .dataframe tbody tr th:only-of-type {\n",
       "        vertical-align: middle;\n",
       "    }\n",
       "\n",
       "    .dataframe tbody tr th {\n",
       "        vertical-align: top;\n",
       "    }\n",
       "\n",
       "    .dataframe thead th {\n",
       "        text-align: right;\n",
       "    }\n",
       "</style>\n",
       "<table border=\"1\" class=\"dataframe\">\n",
       "  <thead>\n",
       "    <tr style=\"text-align: right;\">\n",
       "      <th></th>\n",
       "      <th>Prospect ID</th>\n",
       "      <th>Converted</th>\n",
       "      <th>Converted_Prob</th>\n",
       "    </tr>\n",
       "  </thead>\n",
       "  <tbody>\n",
       "    <tr>\n",
       "      <th>0</th>\n",
       "      <td>4269</td>\n",
       "      <td>1</td>\n",
       "      <td>0.539058</td>\n",
       "    </tr>\n",
       "    <tr>\n",
       "      <th>1</th>\n",
       "      <td>2376</td>\n",
       "      <td>1</td>\n",
       "      <td>0.998284</td>\n",
       "    </tr>\n",
       "    <tr>\n",
       "      <th>2</th>\n",
       "      <td>7766</td>\n",
       "      <td>1</td>\n",
       "      <td>0.950947</td>\n",
       "    </tr>\n",
       "    <tr>\n",
       "      <th>3</th>\n",
       "      <td>9199</td>\n",
       "      <td>0</td>\n",
       "      <td>0.011152</td>\n",
       "    </tr>\n",
       "    <tr>\n",
       "      <th>4</th>\n",
       "      <td>4359</td>\n",
       "      <td>1</td>\n",
       "      <td>0.984823</td>\n",
       "    </tr>\n",
       "  </tbody>\n",
       "</table>\n",
       "</div>"
      ],
      "text/plain": [
       "   Prospect ID  Converted  Converted_Prob\n",
       "0         4269          1        0.539058\n",
       "1         2376          1        0.998284\n",
       "2         7766          1        0.950947\n",
       "3         9199          0        0.011152\n",
       "4         4359          1        0.984823"
      ]
     },
     "execution_count": 170,
     "metadata": {},
     "output_type": "execute_result"
    }
   ],
   "source": [
    "y_pred_final.head()"
   ]
  },
  {
   "cell_type": "code",
   "execution_count": 171,
   "metadata": {},
   "outputs": [
    {
     "data": {
      "text/html": [
       "<div>\n",
       "<style scoped>\n",
       "    .dataframe tbody tr th:only-of-type {\n",
       "        vertical-align: middle;\n",
       "    }\n",
       "\n",
       "    .dataframe tbody tr th {\n",
       "        vertical-align: top;\n",
       "    }\n",
       "\n",
       "    .dataframe thead th {\n",
       "        text-align: right;\n",
       "    }\n",
       "</style>\n",
       "<table border=\"1\" class=\"dataframe\">\n",
       "  <thead>\n",
       "    <tr style=\"text-align: right;\">\n",
       "      <th></th>\n",
       "      <th>Prospect ID</th>\n",
       "      <th>Converted</th>\n",
       "      <th>Converted_Prob</th>\n",
       "      <th>lead_score</th>\n",
       "    </tr>\n",
       "  </thead>\n",
       "  <tbody>\n",
       "    <tr>\n",
       "      <th>0</th>\n",
       "      <td>4269</td>\n",
       "      <td>1</td>\n",
       "      <td>0.539058</td>\n",
       "      <td>53.905817</td>\n",
       "    </tr>\n",
       "    <tr>\n",
       "      <th>1</th>\n",
       "      <td>2376</td>\n",
       "      <td>1</td>\n",
       "      <td>0.998284</td>\n",
       "      <td>99.828366</td>\n",
       "    </tr>\n",
       "    <tr>\n",
       "      <th>2</th>\n",
       "      <td>7766</td>\n",
       "      <td>1</td>\n",
       "      <td>0.950947</td>\n",
       "      <td>95.094707</td>\n",
       "    </tr>\n",
       "    <tr>\n",
       "      <th>3</th>\n",
       "      <td>9199</td>\n",
       "      <td>0</td>\n",
       "      <td>0.011152</td>\n",
       "      <td>1.115199</td>\n",
       "    </tr>\n",
       "    <tr>\n",
       "      <th>4</th>\n",
       "      <td>4359</td>\n",
       "      <td>1</td>\n",
       "      <td>0.984823</td>\n",
       "      <td>98.482276</td>\n",
       "    </tr>\n",
       "  </tbody>\n",
       "</table>\n",
       "</div>"
      ],
      "text/plain": [
       "   Prospect ID  Converted  Converted_Prob  lead_score\n",
       "0         4269          1        0.539058   53.905817\n",
       "1         2376          1        0.998284   99.828366\n",
       "2         7766          1        0.950947   95.094707\n",
       "3         9199          0        0.011152    1.115199\n",
       "4         4359          1        0.984823   98.482276"
      ]
     },
     "execution_count": 171,
     "metadata": {},
     "output_type": "execute_result"
    }
   ],
   "source": [
    "# calculating lead score\n",
    "y_pred_final['lead_score'] = y_pred_final['Converted_Prob']*100\n",
    "y_pred_final.head()"
   ]
  },
  {
   "cell_type": "code",
   "execution_count": 172,
   "metadata": {},
   "outputs": [
    {
     "data": {
      "text/html": [
       "<div>\n",
       "<style scoped>\n",
       "    .dataframe tbody tr th:only-of-type {\n",
       "        vertical-align: middle;\n",
       "    }\n",
       "\n",
       "    .dataframe tbody tr th {\n",
       "        vertical-align: top;\n",
       "    }\n",
       "\n",
       "    .dataframe thead th {\n",
       "        text-align: right;\n",
       "    }\n",
       "</style>\n",
       "<table border=\"1\" class=\"dataframe\">\n",
       "  <thead>\n",
       "    <tr style=\"text-align: right;\">\n",
       "      <th></th>\n",
       "      <th>Prospect ID</th>\n",
       "      <th>Converted</th>\n",
       "      <th>Converted_Prob</th>\n",
       "      <th>lead_score</th>\n",
       "      <th>final_predicted</th>\n",
       "    </tr>\n",
       "  </thead>\n",
       "  <tbody>\n",
       "    <tr>\n",
       "      <th>0</th>\n",
       "      <td>4269</td>\n",
       "      <td>1</td>\n",
       "      <td>0.539058</td>\n",
       "      <td>53.905817</td>\n",
       "      <td>1</td>\n",
       "    </tr>\n",
       "    <tr>\n",
       "      <th>1</th>\n",
       "      <td>2376</td>\n",
       "      <td>1</td>\n",
       "      <td>0.998284</td>\n",
       "      <td>99.828366</td>\n",
       "      <td>1</td>\n",
       "    </tr>\n",
       "    <tr>\n",
       "      <th>2</th>\n",
       "      <td>7766</td>\n",
       "      <td>1</td>\n",
       "      <td>0.950947</td>\n",
       "      <td>95.094707</td>\n",
       "      <td>1</td>\n",
       "    </tr>\n",
       "    <tr>\n",
       "      <th>3</th>\n",
       "      <td>9199</td>\n",
       "      <td>0</td>\n",
       "      <td>0.011152</td>\n",
       "      <td>1.115199</td>\n",
       "      <td>0</td>\n",
       "    </tr>\n",
       "    <tr>\n",
       "      <th>4</th>\n",
       "      <td>4359</td>\n",
       "      <td>1</td>\n",
       "      <td>0.984823</td>\n",
       "      <td>98.482276</td>\n",
       "      <td>1</td>\n",
       "    </tr>\n",
       "    <tr>\n",
       "      <th>5</th>\n",
       "      <td>9186</td>\n",
       "      <td>1</td>\n",
       "      <td>0.998284</td>\n",
       "      <td>99.828366</td>\n",
       "      <td>1</td>\n",
       "    </tr>\n",
       "    <tr>\n",
       "      <th>6</th>\n",
       "      <td>1631</td>\n",
       "      <td>1</td>\n",
       "      <td>0.984823</td>\n",
       "      <td>98.482276</td>\n",
       "      <td>1</td>\n",
       "    </tr>\n",
       "    <tr>\n",
       "      <th>7</th>\n",
       "      <td>8963</td>\n",
       "      <td>1</td>\n",
       "      <td>0.950947</td>\n",
       "      <td>95.094707</td>\n",
       "      <td>1</td>\n",
       "    </tr>\n",
       "    <tr>\n",
       "      <th>8</th>\n",
       "      <td>8007</td>\n",
       "      <td>0</td>\n",
       "      <td>0.025666</td>\n",
       "      <td>2.566565</td>\n",
       "      <td>0</td>\n",
       "    </tr>\n",
       "    <tr>\n",
       "      <th>9</th>\n",
       "      <td>5324</td>\n",
       "      <td>1</td>\n",
       "      <td>0.998284</td>\n",
       "      <td>99.828366</td>\n",
       "      <td>1</td>\n",
       "    </tr>\n",
       "    <tr>\n",
       "      <th>10</th>\n",
       "      <td>2558</td>\n",
       "      <td>0</td>\n",
       "      <td>0.025666</td>\n",
       "      <td>2.566565</td>\n",
       "      <td>0</td>\n",
       "    </tr>\n",
       "    <tr>\n",
       "      <th>11</th>\n",
       "      <td>8973</td>\n",
       "      <td>0</td>\n",
       "      <td>0.008562</td>\n",
       "      <td>0.856219</td>\n",
       "      <td>0</td>\n",
       "    </tr>\n",
       "    <tr>\n",
       "      <th>12</th>\n",
       "      <td>2935</td>\n",
       "      <td>1</td>\n",
       "      <td>0.775164</td>\n",
       "      <td>77.516420</td>\n",
       "      <td>1</td>\n",
       "    </tr>\n",
       "    <tr>\n",
       "      <th>13</th>\n",
       "      <td>2907</td>\n",
       "      <td>1</td>\n",
       "      <td>0.993520</td>\n",
       "      <td>99.351962</td>\n",
       "      <td>1</td>\n",
       "    </tr>\n",
       "    <tr>\n",
       "      <th>14</th>\n",
       "      <td>957</td>\n",
       "      <td>1</td>\n",
       "      <td>0.950947</td>\n",
       "      <td>95.094707</td>\n",
       "      <td>1</td>\n",
       "    </tr>\n",
       "    <tr>\n",
       "      <th>15</th>\n",
       "      <td>493</td>\n",
       "      <td>1</td>\n",
       "      <td>0.984823</td>\n",
       "      <td>98.482276</td>\n",
       "      <td>1</td>\n",
       "    </tr>\n",
       "    <tr>\n",
       "      <th>16</th>\n",
       "      <td>3179</td>\n",
       "      <td>1</td>\n",
       "      <td>0.984823</td>\n",
       "      <td>98.482276</td>\n",
       "      <td>1</td>\n",
       "    </tr>\n",
       "    <tr>\n",
       "      <th>17</th>\n",
       "      <td>3545</td>\n",
       "      <td>0</td>\n",
       "      <td>0.025666</td>\n",
       "      <td>2.566565</td>\n",
       "      <td>0</td>\n",
       "    </tr>\n",
       "    <tr>\n",
       "      <th>18</th>\n",
       "      <td>6140</td>\n",
       "      <td>0</td>\n",
       "      <td>0.038680</td>\n",
       "      <td>3.867968</td>\n",
       "      <td>0</td>\n",
       "    </tr>\n",
       "    <tr>\n",
       "      <th>19</th>\n",
       "      <td>4877</td>\n",
       "      <td>1</td>\n",
       "      <td>0.775164</td>\n",
       "      <td>77.516420</td>\n",
       "      <td>1</td>\n",
       "    </tr>\n",
       "    <tr>\n",
       "      <th>20</th>\n",
       "      <td>1734</td>\n",
       "      <td>0</td>\n",
       "      <td>0.025666</td>\n",
       "      <td>2.566565</td>\n",
       "      <td>0</td>\n",
       "    </tr>\n",
       "    <tr>\n",
       "      <th>21</th>\n",
       "      <td>5319</td>\n",
       "      <td>1</td>\n",
       "      <td>0.984823</td>\n",
       "      <td>98.482276</td>\n",
       "      <td>1</td>\n",
       "    </tr>\n",
       "    <tr>\n",
       "      <th>22</th>\n",
       "      <td>6208</td>\n",
       "      <td>0</td>\n",
       "      <td>0.008562</td>\n",
       "      <td>0.856219</td>\n",
       "      <td>0</td>\n",
       "    </tr>\n",
       "    <tr>\n",
       "      <th>23</th>\n",
       "      <td>3144</td>\n",
       "      <td>0</td>\n",
       "      <td>0.025666</td>\n",
       "      <td>2.566565</td>\n",
       "      <td>0</td>\n",
       "    </tr>\n",
       "    <tr>\n",
       "      <th>24</th>\n",
       "      <td>1264</td>\n",
       "      <td>1</td>\n",
       "      <td>0.249398</td>\n",
       "      <td>24.939804</td>\n",
       "      <td>0</td>\n",
       "    </tr>\n",
       "    <tr>\n",
       "      <th>25</th>\n",
       "      <td>1557</td>\n",
       "      <td>1</td>\n",
       "      <td>0.775164</td>\n",
       "      <td>77.516420</td>\n",
       "      <td>1</td>\n",
       "    </tr>\n",
       "    <tr>\n",
       "      <th>26</th>\n",
       "      <td>5440</td>\n",
       "      <td>0</td>\n",
       "      <td>0.115411</td>\n",
       "      <td>11.541068</td>\n",
       "      <td>0</td>\n",
       "    </tr>\n",
       "    <tr>\n",
       "      <th>27</th>\n",
       "      <td>290</td>\n",
       "      <td>0</td>\n",
       "      <td>0.025666</td>\n",
       "      <td>2.566565</td>\n",
       "      <td>0</td>\n",
       "    </tr>\n",
       "    <tr>\n",
       "      <th>28</th>\n",
       "      <td>4952</td>\n",
       "      <td>1</td>\n",
       "      <td>0.539058</td>\n",
       "      <td>53.905817</td>\n",
       "      <td>1</td>\n",
       "    </tr>\n",
       "    <tr>\n",
       "      <th>29</th>\n",
       "      <td>1807</td>\n",
       "      <td>0</td>\n",
       "      <td>0.025666</td>\n",
       "      <td>2.566565</td>\n",
       "      <td>0</td>\n",
       "    </tr>\n",
       "    <tr>\n",
       "      <th>...</th>\n",
       "      <td>...</td>\n",
       "      <td>...</td>\n",
       "      <td>...</td>\n",
       "      <td>...</td>\n",
       "      <td>...</td>\n",
       "    </tr>\n",
       "    <tr>\n",
       "      <th>70</th>\n",
       "      <td>5716</td>\n",
       "      <td>0</td>\n",
       "      <td>0.115411</td>\n",
       "      <td>11.541068</td>\n",
       "      <td>0</td>\n",
       "    </tr>\n",
       "    <tr>\n",
       "      <th>71</th>\n",
       "      <td>3289</td>\n",
       "      <td>1</td>\n",
       "      <td>0.996918</td>\n",
       "      <td>99.691805</td>\n",
       "      <td>1</td>\n",
       "    </tr>\n",
       "    <tr>\n",
       "      <th>72</th>\n",
       "      <td>2671</td>\n",
       "      <td>0</td>\n",
       "      <td>0.033607</td>\n",
       "      <td>3.360691</td>\n",
       "      <td>0</td>\n",
       "    </tr>\n",
       "    <tr>\n",
       "      <th>73</th>\n",
       "      <td>5466</td>\n",
       "      <td>0</td>\n",
       "      <td>0.008562</td>\n",
       "      <td>0.856219</td>\n",
       "      <td>0</td>\n",
       "    </tr>\n",
       "    <tr>\n",
       "      <th>74</th>\n",
       "      <td>1251</td>\n",
       "      <td>0</td>\n",
       "      <td>0.052903</td>\n",
       "      <td>5.290266</td>\n",
       "      <td>0</td>\n",
       "    </tr>\n",
       "    <tr>\n",
       "      <th>75</th>\n",
       "      <td>2716</td>\n",
       "      <td>0</td>\n",
       "      <td>0.115411</td>\n",
       "      <td>11.541068</td>\n",
       "      <td>0</td>\n",
       "    </tr>\n",
       "    <tr>\n",
       "      <th>76</th>\n",
       "      <td>4204</td>\n",
       "      <td>1</td>\n",
       "      <td>0.622024</td>\n",
       "      <td>62.202429</td>\n",
       "      <td>1</td>\n",
       "    </tr>\n",
       "    <tr>\n",
       "      <th>77</th>\n",
       "      <td>2369</td>\n",
       "      <td>0</td>\n",
       "      <td>0.025666</td>\n",
       "      <td>2.566565</td>\n",
       "      <td>0</td>\n",
       "    </tr>\n",
       "    <tr>\n",
       "      <th>78</th>\n",
       "      <td>4175</td>\n",
       "      <td>0</td>\n",
       "      <td>0.009694</td>\n",
       "      <td>0.969370</td>\n",
       "      <td>0</td>\n",
       "    </tr>\n",
       "    <tr>\n",
       "      <th>79</th>\n",
       "      <td>435</td>\n",
       "      <td>0</td>\n",
       "      <td>0.009694</td>\n",
       "      <td>0.969370</td>\n",
       "      <td>0</td>\n",
       "    </tr>\n",
       "    <tr>\n",
       "      <th>80</th>\n",
       "      <td>1224</td>\n",
       "      <td>0</td>\n",
       "      <td>0.115411</td>\n",
       "      <td>11.541068</td>\n",
       "      <td>0</td>\n",
       "    </tr>\n",
       "    <tr>\n",
       "      <th>81</th>\n",
       "      <td>5356</td>\n",
       "      <td>0</td>\n",
       "      <td>0.002200</td>\n",
       "      <td>0.219997</td>\n",
       "      <td>0</td>\n",
       "    </tr>\n",
       "    <tr>\n",
       "      <th>82</th>\n",
       "      <td>2596</td>\n",
       "      <td>0</td>\n",
       "      <td>0.025666</td>\n",
       "      <td>2.566565</td>\n",
       "      <td>0</td>\n",
       "    </tr>\n",
       "    <tr>\n",
       "      <th>83</th>\n",
       "      <td>5484</td>\n",
       "      <td>0</td>\n",
       "      <td>0.001667</td>\n",
       "      <td>0.166732</td>\n",
       "      <td>0</td>\n",
       "    </tr>\n",
       "    <tr>\n",
       "      <th>84</th>\n",
       "      <td>3303</td>\n",
       "      <td>0</td>\n",
       "      <td>0.115411</td>\n",
       "      <td>11.541068</td>\n",
       "      <td>0</td>\n",
       "    </tr>\n",
       "    <tr>\n",
       "      <th>85</th>\n",
       "      <td>3743</td>\n",
       "      <td>0</td>\n",
       "      <td>0.025666</td>\n",
       "      <td>2.566565</td>\n",
       "      <td>0</td>\n",
       "    </tr>\n",
       "    <tr>\n",
       "      <th>86</th>\n",
       "      <td>8240</td>\n",
       "      <td>0</td>\n",
       "      <td>0.025666</td>\n",
       "      <td>2.566565</td>\n",
       "      <td>0</td>\n",
       "    </tr>\n",
       "    <tr>\n",
       "      <th>87</th>\n",
       "      <td>7655</td>\n",
       "      <td>0</td>\n",
       "      <td>0.115411</td>\n",
       "      <td>11.541068</td>\n",
       "      <td>0</td>\n",
       "    </tr>\n",
       "    <tr>\n",
       "      <th>88</th>\n",
       "      <td>6666</td>\n",
       "      <td>1</td>\n",
       "      <td>0.994278</td>\n",
       "      <td>99.427822</td>\n",
       "      <td>1</td>\n",
       "    </tr>\n",
       "    <tr>\n",
       "      <th>89</th>\n",
       "      <td>8800</td>\n",
       "      <td>0</td>\n",
       "      <td>0.011152</td>\n",
       "      <td>1.115199</td>\n",
       "      <td>0</td>\n",
       "    </tr>\n",
       "    <tr>\n",
       "      <th>90</th>\n",
       "      <td>8889</td>\n",
       "      <td>1</td>\n",
       "      <td>0.972287</td>\n",
       "      <td>97.228734</td>\n",
       "      <td>1</td>\n",
       "    </tr>\n",
       "    <tr>\n",
       "      <th>91</th>\n",
       "      <td>3417</td>\n",
       "      <td>1</td>\n",
       "      <td>0.994278</td>\n",
       "      <td>99.427822</td>\n",
       "      <td>1</td>\n",
       "    </tr>\n",
       "    <tr>\n",
       "      <th>92</th>\n",
       "      <td>5448</td>\n",
       "      <td>1</td>\n",
       "      <td>0.994278</td>\n",
       "      <td>99.427822</td>\n",
       "      <td>1</td>\n",
       "    </tr>\n",
       "    <tr>\n",
       "      <th>93</th>\n",
       "      <td>1287</td>\n",
       "      <td>1</td>\n",
       "      <td>0.998284</td>\n",
       "      <td>99.828366</td>\n",
       "      <td>1</td>\n",
       "    </tr>\n",
       "    <tr>\n",
       "      <th>94</th>\n",
       "      <td>8103</td>\n",
       "      <td>1</td>\n",
       "      <td>0.999839</td>\n",
       "      <td>99.983925</td>\n",
       "      <td>1</td>\n",
       "    </tr>\n",
       "    <tr>\n",
       "      <th>95</th>\n",
       "      <td>731</td>\n",
       "      <td>1</td>\n",
       "      <td>0.950947</td>\n",
       "      <td>95.094707</td>\n",
       "      <td>1</td>\n",
       "    </tr>\n",
       "    <tr>\n",
       "      <th>96</th>\n",
       "      <td>3444</td>\n",
       "      <td>1</td>\n",
       "      <td>0.996064</td>\n",
       "      <td>99.606387</td>\n",
       "      <td>1</td>\n",
       "    </tr>\n",
       "    <tr>\n",
       "      <th>97</th>\n",
       "      <td>5352</td>\n",
       "      <td>0</td>\n",
       "      <td>0.115411</td>\n",
       "      <td>11.541068</td>\n",
       "      <td>0</td>\n",
       "    </tr>\n",
       "    <tr>\n",
       "      <th>98</th>\n",
       "      <td>4509</td>\n",
       "      <td>0</td>\n",
       "      <td>0.115411</td>\n",
       "      <td>11.541068</td>\n",
       "      <td>0</td>\n",
       "    </tr>\n",
       "    <tr>\n",
       "      <th>99</th>\n",
       "      <td>2392</td>\n",
       "      <td>1</td>\n",
       "      <td>0.994278</td>\n",
       "      <td>99.427822</td>\n",
       "      <td>1</td>\n",
       "    </tr>\n",
       "  </tbody>\n",
       "</table>\n",
       "<p>100 rows × 5 columns</p>\n",
       "</div>"
      ],
      "text/plain": [
       "    Prospect ID  Converted  Converted_Prob  lead_score  final_predicted\n",
       "0          4269          1        0.539058   53.905817                1\n",
       "1          2376          1        0.998284   99.828366                1\n",
       "2          7766          1        0.950947   95.094707                1\n",
       "3          9199          0        0.011152    1.115199                0\n",
       "4          4359          1        0.984823   98.482276                1\n",
       "5          9186          1        0.998284   99.828366                1\n",
       "6          1631          1        0.984823   98.482276                1\n",
       "7          8963          1        0.950947   95.094707                1\n",
       "8          8007          0        0.025666    2.566565                0\n",
       "9          5324          1        0.998284   99.828366                1\n",
       "10         2558          0        0.025666    2.566565                0\n",
       "11         8973          0        0.008562    0.856219                0\n",
       "12         2935          1        0.775164   77.516420                1\n",
       "13         2907          1        0.993520   99.351962                1\n",
       "14          957          1        0.950947   95.094707                1\n",
       "15          493          1        0.984823   98.482276                1\n",
       "16         3179          1        0.984823   98.482276                1\n",
       "17         3545          0        0.025666    2.566565                0\n",
       "18         6140          0        0.038680    3.867968                0\n",
       "19         4877          1        0.775164   77.516420                1\n",
       "20         1734          0        0.025666    2.566565                0\n",
       "21         5319          1        0.984823   98.482276                1\n",
       "22         6208          0        0.008562    0.856219                0\n",
       "23         3144          0        0.025666    2.566565                0\n",
       "24         1264          1        0.249398   24.939804                0\n",
       "25         1557          1        0.775164   77.516420                1\n",
       "26         5440          0        0.115411   11.541068                0\n",
       "27          290          0        0.025666    2.566565                0\n",
       "28         4952          1        0.539058   53.905817                1\n",
       "29         1807          0        0.025666    2.566565                0\n",
       "..          ...        ...             ...         ...              ...\n",
       "70         5716          0        0.115411   11.541068                0\n",
       "71         3289          1        0.996918   99.691805                1\n",
       "72         2671          0        0.033607    3.360691                0\n",
       "73         5466          0        0.008562    0.856219                0\n",
       "74         1251          0        0.052903    5.290266                0\n",
       "75         2716          0        0.115411   11.541068                0\n",
       "76         4204          1        0.622024   62.202429                1\n",
       "77         2369          0        0.025666    2.566565                0\n",
       "78         4175          0        0.009694    0.969370                0\n",
       "79          435          0        0.009694    0.969370                0\n",
       "80         1224          0        0.115411   11.541068                0\n",
       "81         5356          0        0.002200    0.219997                0\n",
       "82         2596          0        0.025666    2.566565                0\n",
       "83         5484          0        0.001667    0.166732                0\n",
       "84         3303          0        0.115411   11.541068                0\n",
       "85         3743          0        0.025666    2.566565                0\n",
       "86         8240          0        0.025666    2.566565                0\n",
       "87         7655          0        0.115411   11.541068                0\n",
       "88         6666          1        0.994278   99.427822                1\n",
       "89         8800          0        0.011152    1.115199                0\n",
       "90         8889          1        0.972287   97.228734                1\n",
       "91         3417          1        0.994278   99.427822                1\n",
       "92         5448          1        0.994278   99.427822                1\n",
       "93         1287          1        0.998284   99.828366                1\n",
       "94         8103          1        0.999839   99.983925                1\n",
       "95          731          1        0.950947   95.094707                1\n",
       "96         3444          1        0.996064   99.606387                1\n",
       "97         5352          0        0.115411   11.541068                0\n",
       "98         4509          0        0.115411   11.541068                0\n",
       "99         2392          1        0.994278   99.427822                1\n",
       "\n",
       "[100 rows x 5 columns]"
      ]
     },
     "execution_count": 172,
     "metadata": {},
     "output_type": "execute_result"
    }
   ],
   "source": [
    "# assigning cutoff probability for Converted prediction\n",
    "y_pred_final['final_predicted'] = y_pred_final['Converted_Prob'].map(lambda x: 1 if x > 0.25 else 0)\n",
    "y_pred_final.head(100)"
   ]
  },
  {
   "cell_type": "code",
   "execution_count": 173,
   "metadata": {},
   "outputs": [
    {
     "name": "stdout",
     "output_type": "stream",
     "text": [
      "Accuracy: 0.9314574314574314\n"
     ]
    }
   ],
   "source": [
    "# calculating accuracy for the test set\n",
    "print('Accuracy:', metrics.accuracy_score(y_pred_final.Converted, y_pred_final.final_predicted))"
   ]
  },
  {
   "cell_type": "code",
   "execution_count": 174,
   "metadata": {},
   "outputs": [
    {
     "data": {
      "text/plain": [
       "array([[1550,  127],\n",
       "       [  63, 1032]], dtype=int64)"
      ]
     },
     "execution_count": 174,
     "metadata": {},
     "output_type": "execute_result"
    }
   ],
   "source": [
    "# creating confusion matrix\n",
    "confusion3 = metrics.confusion_matrix(y_pred_final.Converted, y_pred_final.final_predicted)\n",
    "confusion3"
   ]
  },
  {
   "cell_type": "markdown",
   "metadata": {},
   "source": [
    "Calculating other metrics"
   ]
  },
  {
   "cell_type": "code",
   "execution_count": 175,
   "metadata": {},
   "outputs": [],
   "source": [
    "tp3 = confusion3[1,1] # true positive \n",
    "tn3 = confusion3[0,0] # true negatives\n",
    "fp3 = confusion3[0,1] # false positives\n",
    "fn3 = confusion3[1,0] # false negatives"
   ]
  },
  {
   "cell_type": "code",
   "execution_count": 176,
   "metadata": {},
   "outputs": [],
   "source": [
    "sensitivity3 = tp3/float(tp3 + fn3) #True positive rate\n",
    "specificity3 = tn3/float(tn3 + fp3) #True negative rate\n",
    "false_postive_rate3 = fp3/float(tn3 + fp3)\n",
    "positive_predictive_value3 = tp3/float(tp3 + fp3)\n",
    "negative_predictive_value3 = tn3/float(tn3 + fn3)"
   ]
  },
  {
   "cell_type": "code",
   "execution_count": 177,
   "metadata": {},
   "outputs": [
    {
     "name": "stdout",
     "output_type": "stream",
     "text": [
      "sensitivity: 0.9424657534246575\n",
      "specificity: 0.9242695289206917\n",
      "false_postive_rate 0.07573047107930829\n",
      "positive_predictive_value: 0.8904227782571182\n",
      "negative_predictive_value: 0.9609423434593924\n"
     ]
    }
   ],
   "source": [
    "print('sensitivity:', sensitivity3)\n",
    "print('specificity:', specificity3)\n",
    "print('false_postive_rate', false_postive_rate3)\n",
    "print('positive_predictive_value:', positive_predictive_value3)\n",
    "print('negative_predictive_value:', negative_predictive_value3)"
   ]
  },
  {
   "cell_type": "markdown",
   "metadata": {},
   "source": [
    "#### Analyzing the model to find out impact of variables on lead conversion"
   ]
  },
  {
   "cell_type": "code",
   "execution_count": 178,
   "metadata": {},
   "outputs": [
    {
     "name": "stdout",
     "output_type": "stream",
     "text": [
      "                 Generalized Linear Model Regression Results                  \n",
      "==============================================================================\n",
      "Dep. Variable:              Converted   No. Observations:                 6468\n",
      "Model:                            GLM   Df Residuals:                     6451\n",
      "Model Family:                Binomial   Df Model:                           16\n",
      "Link Function:                  logit   Scale:                          1.0000\n",
      "Method:                          IRLS   Log-Likelihood:                -1267.9\n",
      "Date:                Sun, 03 Mar 2019   Deviance:                       2535.7\n",
      "Time:                        21:29:36   Pearson chi2:                 1.91e+04\n",
      "No. Iterations:                     8   Covariance Type:             nonrobust\n",
      "=================================================================================================================\n",
      "                                                    coef    std err          z      P>|z|      [0.025      0.975]\n",
      "-----------------------------------------------------------------------------------------------------------------\n",
      "const                                            -1.6775      0.273     -6.136      0.000      -2.213      -1.142\n",
      "Lead Source_Welingak Website                      2.8286      0.752      3.760      0.000       1.354       4.303\n",
      "Last Activity_SMS Sent                            2.1521      0.119     18.043      0.000       1.918       2.386\n",
      "What is your current occupation_Other            -2.5213      0.144    -17.484      0.000      -2.804      -2.239\n",
      "Tags_Busy                                         2.2555      0.288      7.845      0.000       1.692       2.819\n",
      "Tags_Closed by Horizzon                           8.8314      1.026      8.612      0.000       6.821      10.841\n",
      "Tags_Lost to EINS                                 9.7830      0.770     12.702      0.000       8.273      11.292\n",
      "Tags_Other                                        3.6976      0.238     15.513      0.000       3.230       4.165\n",
      "Tags_Ringing                                     -1.5335      0.286     -5.361      0.000      -2.094      -0.973\n",
      "Tags_Will revert after reading the email          5.9234      0.269     22.045      0.000       5.397       6.450\n",
      "Tags_switched off                                -1.9830      0.549     -3.613      0.000      -3.059      -0.907\n",
      "Lead Quality_Might be                            -1.3227      0.285     -4.646      0.000      -1.881      -0.765\n",
      "Lead Quality_Not Sure                            -1.5305      0.289     -5.291      0.000      -2.098      -0.964\n",
      "Lead Quality_Worst                               -3.3721      0.724     -4.659      0.000      -4.791      -1.953\n",
      "Last Notable Activity_Email Link Clicked         -1.3170      0.473     -2.787      0.005      -2.243      -0.391\n",
      "Last Notable Activity_Modified                   -1.5511      0.122    -12.749      0.000      -1.790      -1.313\n",
      "Last Notable Activity_Olark Chat Conversation    -1.1618      0.416     -2.795      0.005      -1.976      -0.347\n",
      "=================================================================================================================\n"
     ]
    }
   ],
   "source": [
    "print(glm.summary())"
   ]
  },
  {
   "cell_type": "markdown",
   "metadata": {},
   "source": [
    "__Odds Ratio__"
   ]
  },
  {
   "cell_type": "code",
   "execution_count": 179,
   "metadata": {},
   "outputs": [
    {
     "data": {
      "text/html": [
       "<div>\n",
       "<style scoped>\n",
       "    .dataframe tbody tr th:only-of-type {\n",
       "        vertical-align: middle;\n",
       "    }\n",
       "\n",
       "    .dataframe tbody tr th {\n",
       "        vertical-align: top;\n",
       "    }\n",
       "\n",
       "    .dataframe thead th {\n",
       "        text-align: right;\n",
       "    }\n",
       "</style>\n",
       "<table border=\"1\" class=\"dataframe\">\n",
       "  <thead>\n",
       "    <tr style=\"text-align: right;\">\n",
       "      <th></th>\n",
       "      <th>2.5%</th>\n",
       "      <th>97.5%</th>\n",
       "      <th>OR</th>\n",
       "      <th>coef</th>\n",
       "    </tr>\n",
       "  </thead>\n",
       "  <tbody>\n",
       "    <tr>\n",
       "      <th>const</th>\n",
       "      <td>0.109331</td>\n",
       "      <td>0.319286</td>\n",
       "      <td>0.186837</td>\n",
       "      <td>-1.677520</td>\n",
       "    </tr>\n",
       "    <tr>\n",
       "      <th>Lead Source_Welingak Website</th>\n",
       "      <td>3.873183</td>\n",
       "      <td>73.928712</td>\n",
       "      <td>16.921566</td>\n",
       "      <td>2.828589</td>\n",
       "    </tr>\n",
       "    <tr>\n",
       "      <th>Last Activity_SMS Sent</th>\n",
       "      <td>6.809763</td>\n",
       "      <td>10.869187</td>\n",
       "      <td>8.603290</td>\n",
       "      <td>2.152145</td>\n",
       "    </tr>\n",
       "    <tr>\n",
       "      <th>What is your current occupation_Other</th>\n",
       "      <td>0.060571</td>\n",
       "      <td>0.106602</td>\n",
       "      <td>0.080356</td>\n",
       "      <td>-2.521294</td>\n",
       "    </tr>\n",
       "    <tr>\n",
       "      <th>Tags_Busy</th>\n",
       "      <td>5.429973</td>\n",
       "      <td>16.759648</td>\n",
       "      <td>9.539624</td>\n",
       "      <td>2.255454</td>\n",
       "    </tr>\n",
       "    <tr>\n",
       "      <th>Tags_Closed by Horizzon</th>\n",
       "      <td>917.241588</td>\n",
       "      <td>51090.753405</td>\n",
       "      <td>6845.623697</td>\n",
       "      <td>8.831365</td>\n",
       "    </tr>\n",
       "    <tr>\n",
       "      <th>Tags_Lost to EINS</th>\n",
       "      <td>3918.626982</td>\n",
       "      <td>80217.042687</td>\n",
       "      <td>17729.655041</td>\n",
       "      <td>9.782994</td>\n",
       "    </tr>\n",
       "    <tr>\n",
       "      <th>Tags_Other</th>\n",
       "      <td>25.289945</td>\n",
       "      <td>64.374107</td>\n",
       "      <td>40.348700</td>\n",
       "      <td>3.697559</td>\n",
       "    </tr>\n",
       "    <tr>\n",
       "      <th>Tags_Ringing</th>\n",
       "      <td>0.123168</td>\n",
       "      <td>0.377996</td>\n",
       "      <td>0.215771</td>\n",
       "      <td>-1.533538</td>\n",
       "    </tr>\n",
       "    <tr>\n",
       "      <th>Tags_Will revert after reading the email</th>\n",
       "      <td>220.681455</td>\n",
       "      <td>632.695380</td>\n",
       "      <td>373.663133</td>\n",
       "      <td>5.923355</td>\n",
       "    </tr>\n",
       "    <tr>\n",
       "      <th>Tags_switched off</th>\n",
       "      <td>0.046944</td>\n",
       "      <td>0.403648</td>\n",
       "      <td>0.137655</td>\n",
       "      <td>-1.983004</td>\n",
       "    </tr>\n",
       "    <tr>\n",
       "      <th>Lead Quality_Might be</th>\n",
       "      <td>0.152498</td>\n",
       "      <td>0.465455</td>\n",
       "      <td>0.266423</td>\n",
       "      <td>-1.322672</td>\n",
       "    </tr>\n",
       "    <tr>\n",
       "      <th>Lead Quality_Not Sure</th>\n",
       "      <td>0.122762</td>\n",
       "      <td>0.381535</td>\n",
       "      <td>0.216421</td>\n",
       "      <td>-1.530530</td>\n",
       "    </tr>\n",
       "    <tr>\n",
       "      <th>Lead Quality_Worst</th>\n",
       "      <td>0.008306</td>\n",
       "      <td>0.141784</td>\n",
       "      <td>0.034317</td>\n",
       "      <td>-3.372109</td>\n",
       "    </tr>\n",
       "    <tr>\n",
       "      <th>Last Notable Activity_Email Link Clicked</th>\n",
       "      <td>0.106117</td>\n",
       "      <td>0.676576</td>\n",
       "      <td>0.267949</td>\n",
       "      <td>-1.316960</td>\n",
       "    </tr>\n",
       "    <tr>\n",
       "      <th>Last Notable Activity_Modified</th>\n",
       "      <td>0.167039</td>\n",
       "      <td>0.269115</td>\n",
       "      <td>0.212021</td>\n",
       "      <td>-1.551071</td>\n",
       "    </tr>\n",
       "    <tr>\n",
       "      <th>Last Notable Activity_Olark Chat Conversation</th>\n",
       "      <td>0.138557</td>\n",
       "      <td>0.706686</td>\n",
       "      <td>0.312916</td>\n",
       "      <td>-1.161821</td>\n",
       "    </tr>\n",
       "  </tbody>\n",
       "</table>\n",
       "</div>"
      ],
      "text/plain": [
       "                                                      2.5%         97.5%  \\\n",
       "const                                             0.109331      0.319286   \n",
       "Lead Source_Welingak Website                      3.873183     73.928712   \n",
       "Last Activity_SMS Sent                            6.809763     10.869187   \n",
       "What is your current occupation_Other             0.060571      0.106602   \n",
       "Tags_Busy                                         5.429973     16.759648   \n",
       "Tags_Closed by Horizzon                         917.241588  51090.753405   \n",
       "Tags_Lost to EINS                              3918.626982  80217.042687   \n",
       "Tags_Other                                       25.289945     64.374107   \n",
       "Tags_Ringing                                      0.123168      0.377996   \n",
       "Tags_Will revert after reading the email        220.681455    632.695380   \n",
       "Tags_switched off                                 0.046944      0.403648   \n",
       "Lead Quality_Might be                             0.152498      0.465455   \n",
       "Lead Quality_Not Sure                             0.122762      0.381535   \n",
       "Lead Quality_Worst                                0.008306      0.141784   \n",
       "Last Notable Activity_Email Link Clicked          0.106117      0.676576   \n",
       "Last Notable Activity_Modified                    0.167039      0.269115   \n",
       "Last Notable Activity_Olark Chat Conversation     0.138557      0.706686   \n",
       "\n",
       "                                                         OR      coef  \n",
       "const                                              0.186837 -1.677520  \n",
       "Lead Source_Welingak Website                      16.921566  2.828589  \n",
       "Last Activity_SMS Sent                             8.603290  2.152145  \n",
       "What is your current occupation_Other              0.080356 -2.521294  \n",
       "Tags_Busy                                          9.539624  2.255454  \n",
       "Tags_Closed by Horizzon                         6845.623697  8.831365  \n",
       "Tags_Lost to EINS                              17729.655041  9.782994  \n",
       "Tags_Other                                        40.348700  3.697559  \n",
       "Tags_Ringing                                       0.215771 -1.533538  \n",
       "Tags_Will revert after reading the email         373.663133  5.923355  \n",
       "Tags_switched off                                  0.137655 -1.983004  \n",
       "Lead Quality_Might be                              0.266423 -1.322672  \n",
       "Lead Quality_Not Sure                              0.216421 -1.530530  \n",
       "Lead Quality_Worst                                 0.034317 -3.372109  \n",
       "Last Notable Activity_Email Link Clicked           0.267949 -1.316960  \n",
       "Last Notable Activity_Modified                     0.212021 -1.551071  \n",
       "Last Notable Activity_Olark Chat Conversation      0.312916 -1.161821  "
      ]
     },
     "execution_count": 179,
     "metadata": {},
     "output_type": "execute_result"
    }
   ],
   "source": [
    "# The coefficients are the log odds of the outcome (success) for a 1 unit increase in the variable\n",
    "# odds ratio tells how a 1 unit increase or decrease in a variable affects the odds of being converted\n",
    "# odds ratio and CI\n",
    "coef = glm.params # coefficients as log odds. Inverss or direct relation b/w probability of getting converted and the variable\n",
    "params = np.exp(glm.params) #odds of being converted\n",
    "conf = np.exp(glm.conf_int()) #confidence interms in terms of odds\n",
    "conf['OR'] = params\n",
    "conf['coef'] = coef\n",
    "conf.columns = ['2.5%', '97.5%', 'OR', 'coef']\n",
    "conf"
   ]
  }
 ],
 "metadata": {
  "kernelspec": {
   "display_name": "Python 3",
   "language": "python",
   "name": "python3"
  },
  "language_info": {
   "codemirror_mode": {
    "name": "ipython",
    "version": 3
   },
   "file_extension": ".py",
   "mimetype": "text/x-python",
   "name": "python",
   "nbconvert_exporter": "python",
   "pygments_lexer": "ipython3",
   "version": "3.7.0"
  }
 },
 "nbformat": 4,
 "nbformat_minor": 2
}
